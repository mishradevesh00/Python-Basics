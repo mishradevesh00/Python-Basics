{
 "cells": [
  {
   "cell_type": "markdown",
   "metadata": {},
   "source": [
    "## Date & time functionality in Pandas :"
   ]
  },
  {
   "cell_type": "markdown",
   "metadata": {},
   "source": [
    "### 1. date_range() functionality :"
   ]
  },
  {
   "cell_type": "code",
   "execution_count": 1,
   "metadata": {},
   "outputs": [],
   "source": [
    "import pandas as pd"
   ]
  },
  {
   "cell_type": "code",
   "execution_count": 3,
   "metadata": {},
   "outputs": [
    {
     "data": {
      "text/plain": [
       "DatetimeIndex(['2021-01-01', '2021-01-02', '2021-01-03', '2021-01-04',\n",
       "               '2021-01-05', '2021-01-06', '2021-01-07'],\n",
       "              dtype='datetime64[ns]', freq='D')"
      ]
     },
     "execution_count": 3,
     "metadata": {},
     "output_type": "execute_result"
    }
   ],
   "source": [
    "dates=pd.date_range('01/01/2021',periods=7)\n",
    "dates"
   ]
  },
  {
   "cell_type": "code",
   "execution_count": 4,
   "metadata": {},
   "outputs": [
    {
     "data": {
      "text/plain": [
       "DatetimeIndex(['2021-01-31', '2021-02-28', '2021-03-31', '2021-04-30',\n",
       "               '2021-05-31'],\n",
       "              dtype='datetime64[ns]', freq='M')"
      ]
     },
     "execution_count": 4,
     "metadata": {},
     "output_type": "execute_result"
    }
   ],
   "source": [
    "dates=pd.date_range('1/1/2021',periods=5,freq='M')\n",
    "dates"
   ]
  },
  {
   "cell_type": "code",
   "execution_count": 5,
   "metadata": {},
   "outputs": [],
   "source": [
    "import numpy as np"
   ]
  },
  {
   "cell_type": "code",
   "execution_count": 6,
   "metadata": {},
   "outputs": [
    {
     "data": {
      "text/plain": [
       "2021-01-01    0\n",
       "2021-01-02    1\n",
       "2021-01-03    2\n",
       "2021-01-04    3\n",
       "2021-01-05    4\n",
       "2021-01-06    5\n",
       "2021-01-07    6\n",
       "Freq: D, dtype: int32"
      ]
     },
     "execution_count": 6,
     "metadata": {},
     "output_type": "execute_result"
    }
   ],
   "source": [
    "dates=pd.date_range('1/1/2021',periods=7)\n",
    "ts=pd.Series(np.arange(7),index=dates)\n",
    "ts"
   ]
  },
  {
   "cell_type": "code",
   "execution_count": 7,
   "metadata": {},
   "outputs": [
    {
     "name": "stdout",
     "output_type": "stream",
     "text": [
      ",0\n",
      "2021-01-01,0\n",
      "2021-01-02,1\n",
      "2021-01-03,2\n",
      "2021-01-04,3\n",
      "2021-01-05,4\n",
      "2021-01-06,5\n",
      "2021-01-07,6\n"
     ]
    }
   ],
   "source": [
    "ts.to_csv('datefile.csv') ## time series data we have got above converting into csv file.\n",
    "!type datefile.csv"
   ]
  },
  {
   "cell_type": "code",
   "execution_count": 9,
   "metadata": {},
   "outputs": [
    {
     "name": "stdout",
     "output_type": "stream",
     "text": [
      "2021-01-01,0\n",
      "2021-01-02,1\n",
      "2021-01-03,2\n",
      "2021-01-04,3\n",
      "2021-01-05,4\n",
      "2021-01-06,5\n",
      "2021-01-07,6\n"
     ]
    }
   ],
   "source": [
    "## to remove the extra 0 in the first line:\n",
    "\n",
    "ts.to_csv('datefile.csv',header=False) ## time series data we have got above converting into csv file.\n",
    "!type datefile.csv\n"
   ]
  },
  {
   "cell_type": "code",
   "execution_count": 8,
   "metadata": {},
   "outputs": [
    {
     "data": {
      "text/plain": [
       "'D:\\\\'"
      ]
     },
     "execution_count": 8,
     "metadata": {},
     "output_type": "execute_result"
    }
   ],
   "source": [
    "pwd ## Current working directory"
   ]
  },
  {
   "cell_type": "markdown",
   "metadata": {},
   "source": [
    "## Working with Delimited formats:"
   ]
  },
  {
   "cell_type": "code",
   "execution_count": 10,
   "metadata": {},
   "outputs": [],
   "source": [
    "import csv"
   ]
  },
  {
   "cell_type": "markdown",
   "metadata": {},
   "source": [
    "### using open() function and reader functionality :"
   ]
  },
  {
   "cell_type": "code",
   "execution_count": 22,
   "metadata": {},
   "outputs": [
    {
     "data": {
      "text/plain": [
       "<_io.TextIOWrapper name='Test4.csv' mode='r' encoding='cp1252'>"
      ]
     },
     "execution_count": 22,
     "metadata": {},
     "output_type": "execute_result"
    }
   ],
   "source": [
    "f=open('Test4.csv')\n",
    "f"
   ]
  },
  {
   "cell_type": "code",
   "execution_count": 23,
   "metadata": {},
   "outputs": [
    {
     "data": {
      "text/plain": [
       "<_csv.reader at 0x1b5866f8d60>"
      ]
     },
     "execution_count": 23,
     "metadata": {},
     "output_type": "execute_result"
    }
   ],
   "source": [
    "reader=csv.reader(f)\n",
    "reader"
   ]
  },
  {
   "cell_type": "code",
   "execution_count": 24,
   "metadata": {},
   "outputs": [
    {
     "data": {
      "text/plain": [
       "[['a', 'b', 'c'], ['1', '2', '3'], ['1', '2', '3']]"
      ]
     },
     "execution_count": 24,
     "metadata": {},
     "output_type": "execute_result"
    }
   ],
   "source": [
    "list(reader)"
   ]
  },
  {
   "cell_type": "code",
   "execution_count": 17,
   "metadata": {},
   "outputs": [
    {
     "name": "stdout",
     "output_type": "stream",
     "text": [
      "['a', 'b', 'c']\n",
      "['1', '2', '3']\n",
      "['1', '2', '3']\n"
     ]
    }
   ],
   "source": [
    "for line in reader:\n",
    "    print(line)"
   ]
  },
  {
   "cell_type": "markdown",
   "metadata": {},
   "source": [
    "### using \"with\" functionality and converting the above code in LIST form:"
   ]
  },
  {
   "cell_type": "code",
   "execution_count": 36,
   "metadata": {},
   "outputs": [
    {
     "data": {
      "text/plain": [
       "[['a', 'b', 'c'], ['1', '2', '3'], ['1', '2', '3']]"
      ]
     },
     "execution_count": 36,
     "metadata": {},
     "output_type": "execute_result"
    }
   ],
   "source": [
    "with open('Test4.csv') as f:\n",
    "    lines=list(csv.reader(f))\n",
    "lines"
   ]
  },
  {
   "cell_type": "code",
   "execution_count": 26,
   "metadata": {},
   "outputs": [
    {
     "data": {
      "text/plain": [
       "['a', 'b', 'c']"
      ]
     },
     "execution_count": 26,
     "metadata": {},
     "output_type": "execute_result"
    }
   ],
   "source": [
    "## To show only the column name:\n",
    "\n",
    "lines[0]"
   ]
  },
  {
   "cell_type": "code",
   "execution_count": 27,
   "metadata": {},
   "outputs": [
    {
     "data": {
      "text/plain": [
       "[['1', '2', '3'], ['1', '2', '3']]"
      ]
     },
     "execution_count": 27,
     "metadata": {},
     "output_type": "execute_result"
    }
   ],
   "source": [
    "## To show records only:\n",
    "\n",
    "lines[1:]"
   ]
  },
  {
   "cell_type": "code",
   "execution_count": 28,
   "metadata": {},
   "outputs": [
    {
     "data": {
      "text/plain": [
       "['1', '2', '3']"
      ]
     },
     "execution_count": 28,
     "metadata": {},
     "output_type": "execute_result"
    }
   ],
   "source": [
    "## To show first record not the column :\n",
    "\n",
    "lines[1]"
   ]
  },
  {
   "cell_type": "markdown",
   "metadata": {},
   "source": [
    "### zip functionality :\n"
   ]
  },
  {
   "cell_type": "code",
   "execution_count": 43,
   "metadata": {},
   "outputs": [
    {
     "name": "stdout",
     "output_type": "stream",
     "text": [
      "[['1', '2', '3'], ['1', '2', '3']]\n",
      "['a', 'b', 'c']\n"
     ]
    }
   ],
   "source": [
    "header,values= lines[0],lines[1:]\n",
    "print(values)\n",
    "print(header)"
   ]
  },
  {
   "cell_type": "code",
   "execution_count": 44,
   "metadata": {},
   "outputs": [
    {
     "data": {
      "text/plain": [
       "<zip at 0x1b586510f00>"
      ]
     },
     "execution_count": 44,
     "metadata": {},
     "output_type": "execute_result"
    }
   ],
   "source": [
    "zip(*values) ## combining records as (1,1)(2,2)(3,3)"
   ]
  },
  {
   "cell_type": "code",
   "execution_count": 48,
   "metadata": {},
   "outputs": [
    {
     "name": "stdout",
     "output_type": "stream",
     "text": [
      "('1', '1')\n",
      "('2', '2')\n",
      "('3', '3')\n"
     ]
    }
   ],
   "source": [
    "for i in zip(*values):\n",
    "    print(i)"
   ]
  },
  {
   "cell_type": "code",
   "execution_count": 47,
   "metadata": {},
   "outputs": [
    {
     "data": {
      "text/plain": [
       "{'a': ('1', '1'), 'b': ('2', '2'), 'c': ('3', '3')}"
      ]
     },
     "execution_count": 47,
     "metadata": {},
     "output_type": "execute_result"
    }
   ],
   "source": [
    "data_dict={h:v for h,v in zip(header,zip(*values))}\n",
    "data_dict"
   ]
  },
  {
   "cell_type": "code",
   "execution_count": 46,
   "metadata": {},
   "outputs": [
    {
     "data": {
      "text/plain": [
       "{'a': (['1', '2', '3'],), 'b': (['1', '2', '3'],)}"
      ]
     },
     "execution_count": 46,
     "metadata": {},
     "output_type": "execute_result"
    }
   ],
   "source": [
    "## what if we comnine the values with header without the pointer(*):\n",
    "\n",
    "data_dict={h:v for h,v in zip(header,zip(values))}\n",
    "data_dict\n",
    "\n",
    "## It is not the correct dataset of the csv file Test4.csv!!\n",
    "## therefor we will use * to get the correct data combination from the csv file."
   ]
  },
  {
   "cell_type": "markdown",
   "metadata": {},
   "source": [
    "## JSON Data :\n"
   ]
  },
  {
   "cell_type": "code",
   "execution_count": 51,
   "metadata": {},
   "outputs": [],
   "source": [
    "## to check any json data just go on the website https://jsonlint.com/ and validate your json data.\n",
    "\n",
    "obj=\"\"\"\n",
    "{\"name\":\"wes\",\n",
    "\"place_lived\":[\"USA\",\"Germany\",\"Spain\"],\n",
    "\"pet\":null,\n",
    "\"siblings\":[{\"name\":\"Scott\",\"age\":20,\"pets\":[\"Zeus\",\"Zeoko\"]},\n",
    "{\"name\":\"Katie\",\"age\":29,\"pets\":[\"Zes\",\"oko\",\"Bruno\"]}]\n",
    "}\n",
    "\"\"\""
   ]
  },
  {
   "cell_type": "markdown",
   "metadata": {},
   "source": [
    "#### \n",
    "We have just checked the above json data it is valid json data.\n"
   ]
  },
  {
   "cell_type": "code",
   "execution_count": 52,
   "metadata": {},
   "outputs": [
    {
     "data": {
      "text/plain": [
       "'\\n{\"name\":\"wes\",\\n\"place_lived\":[\"USA\",\"Germany\",\"Spain\"],\\n\"pet\":null,\\n\"siblings\":[{\"name\":\"Scott\",\"age\":20,\"pets\":[\"Zeus\",\"Zeoko\"]},\\n{\"name\":\"Katie\",\"age\":29,\"pets\":[\"Zes\",\"oko\",\"Bruno\"]}]\\n}\\n'"
      ]
     },
     "execution_count": 52,
     "metadata": {},
     "output_type": "execute_result"
    }
   ],
   "source": [
    "obj"
   ]
  },
  {
   "cell_type": "code",
   "execution_count": 53,
   "metadata": {},
   "outputs": [
    {
     "data": {
      "text/plain": [
       "str"
      ]
     },
     "execution_count": 53,
     "metadata": {},
     "output_type": "execute_result"
    }
   ],
   "source": [
    "type(obj)"
   ]
  },
  {
   "cell_type": "markdown",
   "metadata": {},
   "source": [
    "## Converting json to Dataframe :\n",
    "1.Coverting the string type of object(dataset) to Json dataset(dictionary type).\n",
    "\n",
    "2.Now converting Json to DataFrame so that we can read this dataframe in csv file.\n"
   ]
  },
  {
   "cell_type": "code",
   "execution_count": 54,
   "metadata": {},
   "outputs": [],
   "source": [
    "import json"
   ]
  },
  {
   "cell_type": "code",
   "execution_count": 55,
   "metadata": {},
   "outputs": [
    {
     "data": {
      "text/plain": [
       "{'name': 'wes',\n",
       " 'place_lived': ['USA', 'Germany', 'Spain'],\n",
       " 'pet': None,\n",
       " 'siblings': [{'name': 'Scott', 'age': 20, 'pets': ['Zeus', 'Zeoko']},\n",
       "  {'name': 'Katie', 'age': 29, 'pets': ['Zes', 'oko', 'Bruno']}]}"
      ]
     },
     "execution_count": 55,
     "metadata": {},
     "output_type": "execute_result"
    }
   ],
   "source": [
    "result=json.loads(obj)\n",
    "result"
   ]
  },
  {
   "cell_type": "code",
   "execution_count": 57,
   "metadata": {},
   "outputs": [
    {
     "data": {
      "text/plain": [
       "dict"
      ]
     },
     "execution_count": 57,
     "metadata": {},
     "output_type": "execute_result"
    }
   ],
   "source": [
    "type(result) ## Now type of the output is of dictionary ie. key-value pair."
   ]
  },
  {
   "cell_type": "code",
   "execution_count": 58,
   "metadata": {},
   "outputs": [
    {
     "data": {
      "text/plain": [
       "'{\"name\": \"wes\", \"place_lived\": [\"USA\", \"Germany\", \"Spain\"], \"pet\": null, \"siblings\": [{\"name\": \"Scott\", \"age\": 20, \"pets\": [\"Zeus\", \"Zeoko\"]}, {\"name\": \"Katie\", \"age\": 29, \"pets\": [\"Zes\", \"oko\", \"Bruno\"]}]}'"
      ]
     },
     "execution_count": 58,
     "metadata": {},
     "output_type": "execute_result"
    }
   ],
   "source": [
    "## If u want to convert the dict type to again str type then we can use : dumps()method:--\n",
    "\n",
    "asjson=json.dumps(result)\n",
    "asjson"
   ]
  },
  {
   "cell_type": "code",
   "execution_count": 59,
   "metadata": {},
   "outputs": [
    {
     "data": {
      "text/plain": [
       "str"
      ]
     },
     "execution_count": 59,
     "metadata": {},
     "output_type": "execute_result"
    }
   ],
   "source": [
    "type(asjson)"
   ]
  },
  {
   "cell_type": "code",
   "execution_count": 60,
   "metadata": {},
   "outputs": [
    {
     "data": {
      "text/plain": [
       "{'name': 'wes',\n",
       " 'place_lived': ['USA', 'Germany', 'Spain'],\n",
       " 'pet': None,\n",
       " 'siblings': [{'name': 'Scott', 'age': 20, 'pets': ['Zeus', 'Zeoko']},\n",
       "  {'name': 'Katie', 'age': 29, 'pets': ['Zes', 'oko', 'Bruno']}]}"
      ]
     },
     "execution_count": 60,
     "metadata": {},
     "output_type": "execute_result"
    }
   ],
   "source": [
    "## Accessing the elements or data from json dataset (Indexing), thogh we have already seen how the indexing works in json.\n",
    "\n",
    "result"
   ]
  },
  {
   "cell_type": "code",
   "execution_count": 62,
   "metadata": {},
   "outputs": [
    {
     "data": {
      "text/plain": [
       "['USA', 'Germany', 'Spain']"
      ]
     },
     "execution_count": 62,
     "metadata": {},
     "output_type": "execute_result"
    }
   ],
   "source": [
    "## If I want to access the place_lived:\n",
    "\n",
    "result['place_lived']"
   ]
  },
  {
   "cell_type": "code",
   "execution_count": 63,
   "metadata": {},
   "outputs": [
    {
     "data": {
      "text/plain": [
       "[{'name': 'Scott', 'age': 20, 'pets': ['Zeus', 'Zeoko']},\n",
       " {'name': 'Katie', 'age': 29, 'pets': ['Zes', 'oko', 'Bruno']}]"
      ]
     },
     "execution_count": 63,
     "metadata": {},
     "output_type": "execute_result"
    }
   ],
   "source": [
    "## If I want to see the sibings details:\n",
    "\n",
    "result['siblings']"
   ]
  },
  {
   "cell_type": "code",
   "execution_count": 64,
   "metadata": {},
   "outputs": [
    {
     "data": {
      "text/plain": [
       "['Zeus', 'Zeoko']"
      ]
     },
     "execution_count": 64,
     "metadata": {},
     "output_type": "execute_result"
    }
   ],
   "source": [
    "## If I want to get the pets name of Scott:\n",
    "\n",
    "result['siblings'][0]['pets']"
   ]
  },
  {
   "cell_type": "code",
   "execution_count": 70,
   "metadata": {},
   "outputs": [
    {
     "data": {
      "text/html": [
       "<div>\n",
       "<style scoped>\n",
       "    .dataframe tbody tr th:only-of-type {\n",
       "        vertical-align: middle;\n",
       "    }\n",
       "\n",
       "    .dataframe tbody tr th {\n",
       "        vertical-align: top;\n",
       "    }\n",
       "\n",
       "    .dataframe thead th {\n",
       "        text-align: right;\n",
       "    }\n",
       "</style>\n",
       "<table border=\"1\" class=\"dataframe\">\n",
       "  <thead>\n",
       "    <tr style=\"text-align: right;\">\n",
       "      <th></th>\n",
       "      <th>name</th>\n",
       "      <th>age</th>\n",
       "      <th>pets</th>\n",
       "    </tr>\n",
       "  </thead>\n",
       "  <tbody>\n",
       "    <tr>\n",
       "      <th>1</th>\n",
       "      <td>Scott</td>\n",
       "      <td>20</td>\n",
       "      <td>[Zeus, Zeoko]</td>\n",
       "    </tr>\n",
       "    <tr>\n",
       "      <th>2</th>\n",
       "      <td>Katie</td>\n",
       "      <td>29</td>\n",
       "      <td>[Zes, oko, Bruno]</td>\n",
       "    </tr>\n",
       "  </tbody>\n",
       "</table>\n",
       "</div>"
      ],
      "text/plain": [
       "    name  age               pets\n",
       "1  Scott   20      [Zeus, Zeoko]\n",
       "2  Katie   29  [Zes, oko, Bruno]"
      ]
     },
     "execution_count": 70,
     "metadata": {},
     "output_type": "execute_result"
    }
   ],
   "source": [
    "## Let's see how to convert this result (JSON dataset) to DataFrame:\n",
    "## Suppose I want result['siblings'] which is aslso a json dataset , we want to convert this into DataFrame:\n",
    "\n",
    "dfj=pd.DataFrame(result['siblings'],columns=['name','age','pets'],index=['1','2'])\n",
    "dfj"
   ]
  },
  {
   "cell_type": "markdown",
   "metadata": {},
   "source": [
    "## HTML & XML : Web Scraping"
   ]
  },
  {
   "cell_type": "code",
   "execution_count": 75,
   "metadata": {},
   "outputs": [
    {
     "name": "stdout",
     "output_type": "stream",
     "text": [
      "1\n"
     ]
    }
   ],
   "source": [
    "tables=pd.read_html('https://www.fdic.gov/resources/resolutions/bank-failures/failed-bank-list/')\n",
    "print(len(tables))"
   ]
  },
  {
   "cell_type": "code",
   "execution_count": 77,
   "metadata": {},
   "outputs": [
    {
     "data": {
      "text/html": [
       "<div>\n",
       "<style scoped>\n",
       "    .dataframe tbody tr th:only-of-type {\n",
       "        vertical-align: middle;\n",
       "    }\n",
       "\n",
       "    .dataframe tbody tr th {\n",
       "        vertical-align: top;\n",
       "    }\n",
       "\n",
       "    .dataframe thead th {\n",
       "        text-align: right;\n",
       "    }\n",
       "</style>\n",
       "<table border=\"1\" class=\"dataframe\">\n",
       "  <thead>\n",
       "    <tr style=\"text-align: right;\">\n",
       "      <th></th>\n",
       "      <th>Bank Name</th>\n",
       "      <th>City</th>\n",
       "      <th>State</th>\n",
       "      <th>Cert</th>\n",
       "      <th>Acquiring Institution</th>\n",
       "      <th>Closing Date</th>\n",
       "    </tr>\n",
       "  </thead>\n",
       "  <tbody>\n",
       "    <tr>\n",
       "      <th>0</th>\n",
       "      <td>Almena State Bank</td>\n",
       "      <td>Almena</td>\n",
       "      <td>KS</td>\n",
       "      <td>15426</td>\n",
       "      <td>Equity Bank</td>\n",
       "      <td>October 23, 2020</td>\n",
       "    </tr>\n",
       "    <tr>\n",
       "      <th>1</th>\n",
       "      <td>First City Bank of Florida</td>\n",
       "      <td>Fort Walton Beach</td>\n",
       "      <td>FL</td>\n",
       "      <td>16748</td>\n",
       "      <td>United Fidelity Bank, fsb</td>\n",
       "      <td>October 16, 2020</td>\n",
       "    </tr>\n",
       "    <tr>\n",
       "      <th>2</th>\n",
       "      <td>The First State Bank</td>\n",
       "      <td>Barboursville</td>\n",
       "      <td>WV</td>\n",
       "      <td>14361</td>\n",
       "      <td>MVB Bank, Inc.</td>\n",
       "      <td>April 3, 2020</td>\n",
       "    </tr>\n",
       "    <tr>\n",
       "      <th>3</th>\n",
       "      <td>Ericson State Bank</td>\n",
       "      <td>Ericson</td>\n",
       "      <td>NE</td>\n",
       "      <td>18265</td>\n",
       "      <td>Farmers and Merchants Bank</td>\n",
       "      <td>February 14, 2020</td>\n",
       "    </tr>\n",
       "    <tr>\n",
       "      <th>4</th>\n",
       "      <td>City National Bank of New Jersey</td>\n",
       "      <td>Newark</td>\n",
       "      <td>NJ</td>\n",
       "      <td>21111</td>\n",
       "      <td>Industrial Bank</td>\n",
       "      <td>November 1, 2019</td>\n",
       "    </tr>\n",
       "  </tbody>\n",
       "</table>\n",
       "</div>"
      ],
      "text/plain": [
       "                          Bank Name               City State   Cert  \\\n",
       "0                 Almena State Bank             Almena    KS  15426   \n",
       "1        First City Bank of Florida  Fort Walton Beach    FL  16748   \n",
       "2              The First State Bank      Barboursville    WV  14361   \n",
       "3                Ericson State Bank            Ericson    NE  18265   \n",
       "4  City National Bank of New Jersey             Newark    NJ  21111   \n",
       "\n",
       "        Acquiring Institution       Closing Date  \n",
       "0                 Equity Bank   October 23, 2020  \n",
       "1   United Fidelity Bank, fsb   October 16, 2020  \n",
       "2              MVB Bank, Inc.      April 3, 2020  \n",
       "3  Farmers and Merchants Bank  February 14, 2020  \n",
       "4             Industrial Bank   November 1, 2019  "
      ]
     },
     "execution_count": 77,
     "metadata": {},
     "output_type": "execute_result"
    }
   ],
   "source": [
    "failures=tables[0]  ## Reading the first table of this html page and storing it into a variable name=Failures.\n",
    "failures.head() ## will return top 5 records from the table"
   ]
  },
  {
   "cell_type": "code",
   "execution_count": 78,
   "metadata": {},
   "outputs": [
    {
     "name": "stdout",
     "output_type": "stream",
     "text": [
      "<class 'pandas.core.frame.DataFrame'>\n",
      "RangeIndex: 563 entries, 0 to 562\n",
      "Data columns (total 6 columns):\n",
      " #   Column                 Non-Null Count  Dtype \n",
      "---  ------                 --------------  ----- \n",
      " 0   Bank Name              563 non-null    object\n",
      " 1   City                   563 non-null    object\n",
      " 2   State                  563 non-null    object\n",
      " 3   Cert                   563 non-null    int64 \n",
      " 4   Acquiring Institution  563 non-null    object\n",
      " 5   Closing Date           563 non-null    object\n",
      "dtypes: int64(1), object(5)\n",
      "memory usage: 26.5+ KB\n"
     ]
    }
   ],
   "source": [
    "failures.info()"
   ]
  },
  {
   "cell_type": "markdown",
   "metadata": {},
   "source": [
    "## \n",
    "As we can see here the type of closing Date is \"Object\" (means it is consisting of string values).\n",
    "### Now Lets see how  to convert this string values collection ie. object to datetime:\n"
   ]
  },
  {
   "cell_type": "markdown",
   "metadata": {},
   "source": [
    "#### Using pd.to_datetime('Column name')"
   ]
  },
  {
   "cell_type": "code",
   "execution_count": 79,
   "metadata": {},
   "outputs": [
    {
     "data": {
      "text/plain": [
       "0     2020-10-23\n",
       "1     2020-10-16\n",
       "2     2020-04-03\n",
       "3     2020-02-14\n",
       "4     2019-11-01\n",
       "         ...    \n",
       "558   2001-07-27\n",
       "559   2001-05-03\n",
       "560   2001-02-02\n",
       "561   2000-12-14\n",
       "562   2000-10-13\n",
       "Name: Closing Date, Length: 563, dtype: datetime64[ns]"
      ]
     },
     "execution_count": 79,
     "metadata": {},
     "output_type": "execute_result"
    }
   ],
   "source": [
    "pd.to_datetime(failures['Closing Date'])"
   ]
  },
  {
   "cell_type": "code",
   "execution_count": 80,
   "metadata": {},
   "outputs": [
    {
     "data": {
      "text/plain": [
       "pandas.core.series.Series"
      ]
     },
     "execution_count": 80,
     "metadata": {},
     "output_type": "execute_result"
    }
   ],
   "source": [
    "type(pd.to_datetime(failures['Closing Date']))"
   ]
  },
  {
   "cell_type": "markdown",
   "metadata": {},
   "source": [
    "### Playing with various parameters in datetime()"
   ]
  },
  {
   "cell_type": "code",
   "execution_count": 81,
   "metadata": {},
   "outputs": [
    {
     "data": {
      "text/plain": [
       "Timestamp('2020-10-23 00:00:00')"
      ]
     },
     "execution_count": 81,
     "metadata": {},
     "output_type": "execute_result"
    }
   ],
   "source": [
    "### 1. For getting the first record from the datetime Series(ie. above o/p):\n",
    "\n",
    "pd.to_datetime(failures['Closing Date'])[0]"
   ]
  },
  {
   "cell_type": "code",
   "execution_count": 82,
   "metadata": {},
   "outputs": [
    {
     "data": {
      "text/plain": [
       "datetime.date(2020, 10, 23)"
      ]
     },
     "execution_count": 82,
     "metadata": {},
     "output_type": "execute_result"
    }
   ],
   "source": [
    "### 2. for gettin the date value on that day:\n",
    "\n",
    "pd.to_datetime(failures['Closing Date'])[0].date()"
   ]
  },
  {
   "cell_type": "code",
   "execution_count": 83,
   "metadata": {},
   "outputs": [
    {
     "data": {
      "text/plain": [
       "23"
      ]
     },
     "execution_count": 83,
     "metadata": {},
     "output_type": "execute_result"
    }
   ],
   "source": [
    "## to get date value:\n",
    "\n",
    "pd.to_datetime(failures['Closing Date'])[0].date().day"
   ]
  },
  {
   "cell_type": "code",
   "execution_count": 84,
   "metadata": {},
   "outputs": [
    {
     "data": {
      "text/plain": [
       "10"
      ]
     },
     "execution_count": 84,
     "metadata": {},
     "output_type": "execute_result"
    }
   ],
   "source": [
    "## to get month value:\n",
    "pd.to_datetime(failures['Closing Date'])[0].date().month"
   ]
  },
  {
   "cell_type": "code",
   "execution_count": 85,
   "metadata": {},
   "outputs": [
    {
     "data": {
      "text/plain": [
       "2020"
      ]
     },
     "execution_count": 85,
     "metadata": {},
     "output_type": "execute_result"
    }
   ],
   "source": [
    "## to get year value:\n",
    "pd.to_datetime(failures['Closing Date'])[0].date().year"
   ]
  },
  {
   "cell_type": "markdown",
   "metadata": {},
   "source": [
    "####  dt.year.value_counts() :"
   ]
  },
  {
   "cell_type": "code",
   "execution_count": 87,
   "metadata": {},
   "outputs": [
    {
     "data": {
      "text/plain": [
       "2010    157\n",
       "2009    140\n",
       "2011     92\n",
       "2012     51\n",
       "2008     25\n",
       "2013     24\n",
       "2014     18\n",
       "2002     11\n",
       "2017      8\n",
       "2015      8\n",
       "2016      5\n",
       "2004      4\n",
       "2001      4\n",
       "2020      4\n",
       "2019      4\n",
       "2003      3\n",
       "2007      3\n",
       "2000      2\n",
       "Name: Closing Date, dtype: int64"
      ]
     },
     "execution_count": 87,
     "metadata": {},
     "output_type": "execute_result"
    }
   ],
   "source": [
    "close_ts=pd.to_datetime(failures['Closing Date'])\n",
    "close_ts.dt.year.value_counts()"
   ]
  },
  {
   "cell_type": "markdown",
   "metadata": {},
   "source": [
    "## Binary Data Formats :"
   ]
  },
  {
   "cell_type": "markdown",
   "metadata": {},
   "source": [
    "### 1. pickle :"
   ]
  },
  {
   "cell_type": "code",
   "execution_count": 88,
   "metadata": {},
   "outputs": [
    {
     "data": {
      "text/html": [
       "<div>\n",
       "<style scoped>\n",
       "    .dataframe tbody tr th:only-of-type {\n",
       "        vertical-align: middle;\n",
       "    }\n",
       "\n",
       "    .dataframe tbody tr th {\n",
       "        vertical-align: top;\n",
       "    }\n",
       "\n",
       "    .dataframe thead th {\n",
       "        text-align: right;\n",
       "    }\n",
       "</style>\n",
       "<table border=\"1\" class=\"dataframe\">\n",
       "  <thead>\n",
       "    <tr style=\"text-align: right;\">\n",
       "      <th></th>\n",
       "      <th></th>\n",
       "      <th></th>\n",
       "      <th></th>\n",
       "      <th>#hey!</th>\n",
       "    </tr>\n",
       "  </thead>\n",
       "  <tbody>\n",
       "    <tr>\n",
       "      <th>a</th>\n",
       "      <th>b</th>\n",
       "      <th>c</th>\n",
       "      <th>d</th>\n",
       "      <td>message</td>\n",
       "    </tr>\n",
       "    <tr>\n",
       "      <th>#just wanted things more difficult for you</th>\n",
       "      <th>NaN</th>\n",
       "      <th>NaN</th>\n",
       "      <th>NaN</th>\n",
       "      <td>NaN</td>\n",
       "    </tr>\n",
       "    <tr>\n",
       "      <th>#who reads csv files with computers</th>\n",
       "      <th>anyway?</th>\n",
       "      <th>NaN</th>\n",
       "      <th>NaN</th>\n",
       "      <td>NaN</td>\n",
       "    </tr>\n",
       "    <tr>\n",
       "      <th>1</th>\n",
       "      <th>2</th>\n",
       "      <th>3</th>\n",
       "      <th>4</th>\n",
       "      <td>Hello</td>\n",
       "    </tr>\n",
       "    <tr>\n",
       "      <th>5</th>\n",
       "      <th>6</th>\n",
       "      <th>7</th>\n",
       "      <th>8</th>\n",
       "      <td>World</td>\n",
       "    </tr>\n",
       "    <tr>\n",
       "      <th>9</th>\n",
       "      <th>10</th>\n",
       "      <th>11</th>\n",
       "      <th>12</th>\n",
       "      <td>foo</td>\n",
       "    </tr>\n",
       "  </tbody>\n",
       "</table>\n",
       "</div>"
      ],
      "text/plain": [
       "                                                              #hey!\n",
       "a                                          b       c   d    message\n",
       "#just wanted things more difficult for you NaN     NaN NaN      NaN\n",
       "#who reads csv files with computers        anyway? NaN NaN      NaN\n",
       "1                                          2       3   4      Hello\n",
       "5                                          6       7   8      World\n",
       "9                                          10      11  12       foo"
      ]
     },
     "execution_count": 88,
     "metadata": {},
     "output_type": "execute_result"
    }
   ],
   "source": [
    "## seeing the data of csv file\n",
    "\n",
    "frame=pd.read_csv('testfile3.csv')\n",
    "frame"
   ]
  },
  {
   "cell_type": "code",
   "execution_count": 89,
   "metadata": {},
   "outputs": [],
   "source": [
    "## converting csv file data to pickle format(Binary/Serialized data format)\n",
    "\n",
    "frame.to_pickle('framePickel')"
   ]
  },
  {
   "cell_type": "code",
   "execution_count": null,
   "metadata": {},
   "outputs": [],
   "source": [
    "## If you open the folder and try to see this framePickle file it is in complied format ie. we can't read it properly\n",
    "## As It is compiled data and hence easy for the machine to read it fastly.\n",
    "## therefore we convert the large files into pickles so that it can be read by machine quickly."
   ]
  },
  {
   "cell_type": "code",
   "execution_count": 90,
   "metadata": {},
   "outputs": [
    {
     "data": {
      "text/html": [
       "<div>\n",
       "<style scoped>\n",
       "    .dataframe tbody tr th:only-of-type {\n",
       "        vertical-align: middle;\n",
       "    }\n",
       "\n",
       "    .dataframe tbody tr th {\n",
       "        vertical-align: top;\n",
       "    }\n",
       "\n",
       "    .dataframe thead th {\n",
       "        text-align: right;\n",
       "    }\n",
       "</style>\n",
       "<table border=\"1\" class=\"dataframe\">\n",
       "  <thead>\n",
       "    <tr style=\"text-align: right;\">\n",
       "      <th></th>\n",
       "      <th></th>\n",
       "      <th></th>\n",
       "      <th></th>\n",
       "      <th>#hey!</th>\n",
       "    </tr>\n",
       "  </thead>\n",
       "  <tbody>\n",
       "    <tr>\n",
       "      <th>a</th>\n",
       "      <th>b</th>\n",
       "      <th>c</th>\n",
       "      <th>d</th>\n",
       "      <td>message</td>\n",
       "    </tr>\n",
       "    <tr>\n",
       "      <th>#just wanted things more difficult for you</th>\n",
       "      <th>NaN</th>\n",
       "      <th>NaN</th>\n",
       "      <th>NaN</th>\n",
       "      <td>NaN</td>\n",
       "    </tr>\n",
       "    <tr>\n",
       "      <th>#who reads csv files with computers</th>\n",
       "      <th>anyway?</th>\n",
       "      <th>NaN</th>\n",
       "      <th>NaN</th>\n",
       "      <td>NaN</td>\n",
       "    </tr>\n",
       "    <tr>\n",
       "      <th>1</th>\n",
       "      <th>2</th>\n",
       "      <th>3</th>\n",
       "      <th>4</th>\n",
       "      <td>Hello</td>\n",
       "    </tr>\n",
       "    <tr>\n",
       "      <th>5</th>\n",
       "      <th>6</th>\n",
       "      <th>7</th>\n",
       "      <th>8</th>\n",
       "      <td>World</td>\n",
       "    </tr>\n",
       "    <tr>\n",
       "      <th>9</th>\n",
       "      <th>10</th>\n",
       "      <th>11</th>\n",
       "      <th>12</th>\n",
       "      <td>foo</td>\n",
       "    </tr>\n",
       "  </tbody>\n",
       "</table>\n",
       "</div>"
      ],
      "text/plain": [
       "                                                              #hey!\n",
       "a                                          b       c   d    message\n",
       "#just wanted things more difficult for you NaN     NaN NaN      NaN\n",
       "#who reads csv files with computers        anyway? NaN NaN      NaN\n",
       "1                                          2       3   4      Hello\n",
       "5                                          6       7   8      World\n",
       "9                                          10      11  12       foo"
      ]
     },
     "execution_count": 90,
     "metadata": {},
     "output_type": "execute_result"
    }
   ],
   "source": [
    "pd.read_pickle('framePickel')"
   ]
  },
  {
   "cell_type": "markdown",
   "metadata": {},
   "source": [
    "### 2. HDF5 Format:"
   ]
  },
  {
   "cell_type": "code",
   "execution_count": 94,
   "metadata": {},
   "outputs": [],
   "source": [
    "import numpy as np\n",
    "import pandas as pd"
   ]
  },
  {
   "cell_type": "code",
   "execution_count": 96,
   "metadata": {},
   "outputs": [
    {
     "data": {
      "text/plain": [
       "<class 'pandas.io.pytables.HDFStore'>\n",
       "File path: mydata.h5"
      ]
     },
     "execution_count": 96,
     "metadata": {},
     "output_type": "execute_result"
    }
   ],
   "source": [
    "frame=pd.DataFrame({'a':np.random.randn(100)})\n",
    "store=pd.HDFStore('mydata.h5')\n",
    "store['obj1']=frame\n",
    "store['obj1_col']=frame['a']\n",
    "store"
   ]
  },
  {
   "cell_type": "code",
   "execution_count": 97,
   "metadata": {},
   "outputs": [
    {
     "data": {
      "text/html": [
       "<div>\n",
       "<style scoped>\n",
       "    .dataframe tbody tr th:only-of-type {\n",
       "        vertical-align: middle;\n",
       "    }\n",
       "\n",
       "    .dataframe tbody tr th {\n",
       "        vertical-align: top;\n",
       "    }\n",
       "\n",
       "    .dataframe thead th {\n",
       "        text-align: right;\n",
       "    }\n",
       "</style>\n",
       "<table border=\"1\" class=\"dataframe\">\n",
       "  <thead>\n",
       "    <tr style=\"text-align: right;\">\n",
       "      <th></th>\n",
       "      <th>a</th>\n",
       "    </tr>\n",
       "  </thead>\n",
       "  <tbody>\n",
       "    <tr>\n",
       "      <th>0</th>\n",
       "      <td>0.097669</td>\n",
       "    </tr>\n",
       "    <tr>\n",
       "      <th>1</th>\n",
       "      <td>0.581771</td>\n",
       "    </tr>\n",
       "    <tr>\n",
       "      <th>2</th>\n",
       "      <td>0.044012</td>\n",
       "    </tr>\n",
       "    <tr>\n",
       "      <th>3</th>\n",
       "      <td>2.097156</td>\n",
       "    </tr>\n",
       "    <tr>\n",
       "      <th>4</th>\n",
       "      <td>-0.745599</td>\n",
       "    </tr>\n",
       "    <tr>\n",
       "      <th>...</th>\n",
       "      <td>...</td>\n",
       "    </tr>\n",
       "    <tr>\n",
       "      <th>95</th>\n",
       "      <td>-1.145478</td>\n",
       "    </tr>\n",
       "    <tr>\n",
       "      <th>96</th>\n",
       "      <td>0.828733</td>\n",
       "    </tr>\n",
       "    <tr>\n",
       "      <th>97</th>\n",
       "      <td>-0.239431</td>\n",
       "    </tr>\n",
       "    <tr>\n",
       "      <th>98</th>\n",
       "      <td>-1.199985</td>\n",
       "    </tr>\n",
       "    <tr>\n",
       "      <th>99</th>\n",
       "      <td>0.094079</td>\n",
       "    </tr>\n",
       "  </tbody>\n",
       "</table>\n",
       "<p>100 rows × 1 columns</p>\n",
       "</div>"
      ],
      "text/plain": [
       "           a\n",
       "0   0.097669\n",
       "1   0.581771\n",
       "2   0.044012\n",
       "3   2.097156\n",
       "4  -0.745599\n",
       "..       ...\n",
       "95 -1.145478\n",
       "96  0.828733\n",
       "97 -0.239431\n",
       "98 -1.199985\n",
       "99  0.094079\n",
       "\n",
       "[100 rows x 1 columns]"
      ]
     },
     "execution_count": 97,
     "metadata": {},
     "output_type": "execute_result"
    }
   ],
   "source": [
    "store['obj1']"
   ]
  },
  {
   "cell_type": "markdown",
   "metadata": {},
   "source": [
    "## Web API :"
   ]
  },
  {
   "cell_type": "code",
   "execution_count": 98,
   "metadata": {},
   "outputs": [],
   "source": [
    "import requests"
   ]
  },
  {
   "cell_type": "code",
   "execution_count": 100,
   "metadata": {},
   "outputs": [
    {
     "data": {
      "text/plain": [
       "<Response [200]>"
      ]
     },
     "execution_count": 100,
     "metadata": {},
     "output_type": "execute_result"
    }
   ],
   "source": [
    "url='https://api.github.com/repos/pandas-dev/pandas/issues'\n",
    "resp=requests.get(url)\n",
    "resp"
   ]
  },
  {
   "cell_type": "code",
   "execution_count": 101,
   "metadata": {},
   "outputs": [
    {
     "data": {
      "text/plain": [
       "requests.models.Response"
      ]
     },
     "execution_count": 101,
     "metadata": {},
     "output_type": "execute_result"
    }
   ],
   "source": [
    "type(resp)"
   ]
  },
  {
   "cell_type": "code",
   "execution_count": 111,
   "metadata": {},
   "outputs": [
    {
     "data": {
      "text/plain": [
       "[{'url': 'https://api.github.com/repos/pandas-dev/pandas/issues/39430',\n",
       "  'repository_url': 'https://api.github.com/repos/pandas-dev/pandas',\n",
       "  'labels_url': 'https://api.github.com/repos/pandas-dev/pandas/issues/39430/labels{/name}',\n",
       "  'comments_url': 'https://api.github.com/repos/pandas-dev/pandas/issues/39430/comments',\n",
       "  'events_url': 'https://api.github.com/repos/pandas-dev/pandas/issues/39430/events',\n",
       "  'html_url': 'https://github.com/pandas-dev/pandas/issues/39430',\n",
       "  'id': 794799103,\n",
       "  'node_id': 'MDU6SXNzdWU3OTQ3OTkxMDM=',\n",
       "  'number': 39430,\n",
       "  'title': \"BUG: read_json(orient='table') converts 'float64' to  'datetime64' datatype if the column name ends with '_time'\",\n",
       "  'user': {'login': 'thoo',\n",
       "   'id': 6972290,\n",
       "   'node_id': 'MDQ6VXNlcjY5NzIyOTA=',\n",
       "   'avatar_url': 'https://avatars.githubusercontent.com/u/6972290?v=4',\n",
       "   'gravatar_id': '',\n",
       "   'url': 'https://api.github.com/users/thoo',\n",
       "   'html_url': 'https://github.com/thoo',\n",
       "   'followers_url': 'https://api.github.com/users/thoo/followers',\n",
       "   'following_url': 'https://api.github.com/users/thoo/following{/other_user}',\n",
       "   'gists_url': 'https://api.github.com/users/thoo/gists{/gist_id}',\n",
       "   'starred_url': 'https://api.github.com/users/thoo/starred{/owner}{/repo}',\n",
       "   'subscriptions_url': 'https://api.github.com/users/thoo/subscriptions',\n",
       "   'organizations_url': 'https://api.github.com/users/thoo/orgs',\n",
       "   'repos_url': 'https://api.github.com/users/thoo/repos',\n",
       "   'events_url': 'https://api.github.com/users/thoo/events{/privacy}',\n",
       "   'received_events_url': 'https://api.github.com/users/thoo/received_events',\n",
       "   'type': 'User',\n",
       "   'site_admin': False},\n",
       "  'labels': [{'id': 76811,\n",
       "    'node_id': 'MDU6TGFiZWw3NjgxMQ==',\n",
       "    'url': 'https://api.github.com/repos/pandas-dev/pandas/labels/Bug',\n",
       "    'name': 'Bug',\n",
       "    'color': 'e10c02',\n",
       "    'default': False,\n",
       "    'description': None},\n",
       "   {'id': 1954720290,\n",
       "    'node_id': 'MDU6TGFiZWwxOTU0NzIwMjkw',\n",
       "    'url': 'https://api.github.com/repos/pandas-dev/pandas/labels/Needs%20Triage',\n",
       "    'name': 'Needs Triage',\n",
       "    'color': '0052cc',\n",
       "    'default': False,\n",
       "    'description': 'Issue that has not been reviewed by a pandas team member'}],\n",
       "  'state': 'open',\n",
       "  'locked': False,\n",
       "  'assignee': None,\n",
       "  'assignees': [],\n",
       "  'milestone': None,\n",
       "  'comments': 0,\n",
       "  'created_at': '2021-01-27T06:00:39Z',\n",
       "  'updated_at': '2021-01-27T06:00:39Z',\n",
       "  'closed_at': None,\n",
       "  'author_association': 'CONTRIBUTOR',\n",
       "  'active_lock_reason': None,\n",
       "  'body': \"- [ X] I have checked that this issue has not already been reported.\\r\\n\\r\\n- [ X] I have confirmed this bug exists on the latest version of pandas.\\r\\n\\r\\n- [ ] (optional) I have confirmed this bug exists on the master branch of pandas.\\r\\n\\r\\n---\\r\\n\\r\\n**Note**: Please read [this guide](https://matthewrocklin.com/blog/work/2018/02/28/minimal-bug-reports) detailing how to provide the necessary information for us to reproduce your bug.\\r\\n\\r\\n#### Code Sample, a copy-pastable example\\r\\n\\r\\n```python\\r\\nimport numpy as np\\r\\nimport pandas as pd\\r\\ndf1=pd.DataFrame({'test_time':[np.nan,np.nan]})\\r\\ndf1.info()\\r\\n```\\r\\nThis returns the data type as `float64`.  \\r\\n```python \\r\\nRangeIndex: 2 entries, 0 to 1\\r\\nData columns (total 1 columns):\\r\\n #   Column     Non-Null Count  Dtype\\r\\n---  ------     --------------  -----\\r\\n 0   test_time  0 non-null      float64\\r\\ndtypes: float64(1)\\r\\nmemory usage: 144.0 bytes\\r\\n```\\r\\nNow convert `df1` to `json` and convert it back to `DataFrame`. \\r\\n```python\\r\\ndf2=pd.read_json(df1.to_json(orient='table'),orient='table')\\r\\ndf2.info()\\r\\n```\\r\\nThis convert the data type from `float64` to `datetime64` as shown below.\\r\\n```python\\r\\n<class 'pandas.core.frame.DataFrame'>\\r\\nInt64Index: 2 entries, 0 to 1\\r\\nData columns (total 1 columns):\\r\\n #   Column     Non-Null Count  Dtype\\r\\n---  ------     --------------  -----\\r\\n 0   test_time  0 non-null      datetime64[ns]\\r\\ndtypes: datetime64[ns](1)\\r\\nmemory usage: 32.0 bytes\\r\\n```\\r\\n\\r\\nThe following works as expected if the column named is changed to avoid to end with  `_time` . \\r\\n\\r\\n```python\\r\\nDF1=pd.DataFrame({'test_t':[np.nan,np.nan]})\\r\\nDF1.info()\\r\\nDF2=pd.read_json(DF1.to_json(orient='table'),orient='table')\\r\\nDF2.info()\\r\\n```\\r\\n#### Problem description\\r\\nWhen the data is read from `json` , the column names ending with `_time` change the data type from `float64` to `datetime64`.  \\r\\n\\r\\n`DataFrame => to_json (orient='table') => read_json(orient='table') => DataFrame` \\r\\nshould return the same data type since `orient='table' ` encodes all the column data type in the `json` string. \\r\\n\\r\\n\\r\\n#### Expected Output\\r\\n\\r\\n#### Output of ``pd.show_versions()``\\r\\n\\r\\n<details>\\r\\n\\r\\nINSTALLED VERSIONS\\r\\n------------------\\r\\ncommit           : 9d598a5e1eee26df95b3910e3f2934890d062caa\\r\\npython           : 3.7.8.final.0\\r\\npython-bits      : 64\\r\\nOS               : Darwin\\r\\nOS-release       : 19.5.0\\r\\nVersion          : Darwin Kernel Version 19.5.0: Tue May 26 20:41:44 PDT 2020; root:xnu-6153.121.2~2/RELEASE_X86_64\\r\\nmachine          : x86_64\\r\\nprocessor        : i386\\r\\nbyteorder        : little\\r\\nLC_ALL           : None\\r\\nLANG             : en_US.UTF-8\\r\\nLOCALE           : en_US.UTF-8\\r\\n\\r\\npandas           : 1.2.1\\r\\nnumpy            : 1.19.4\\r\\npytz             : 2020.5\\r\\ndateutil         : 2.8.1\\r\\npip              : 20.3.3\\r\\nsetuptools       : 51.1.1\\r\\nCython           : 0.29.21\\r\\npytest           : 6.2.1\\r\\nhypothesis       : None\\r\\nsphinx           : 3.4.2\\r\\nblosc            : None\\r\\nfeather          : None\\r\\nxlsxwriter       : 1.3.7\\r\\nlxml.etree       : 4.6.2\\r\\nhtml5lib         : 1.1\\r\\npymysql          : None\\r\\npsycopg2         : 2.8.6 (dt dec pq3 ext lo64)\\r\\njinja2           : 2.11.2\\r\\nIPython          : 7.19.0\\r\\npandas_datareader: None\\r\\nbs4              : 4.9.3\\r\\nbottleneck       : 1.3.2\\r\\nfsspec           : 0.8.3\\r\\nfastparquet      : None\\r\\ngcsfs            : None\\r\\nmatplotlib       : 3.3.2\\r\\nnumexpr          : 2.7.2\\r\\nodfpy            : None\\r\\nopenpyxl         : 3.0.5\\r\\npandas_gbq       : None\\r\\npyarrow          : 1.0.1\\r\\npyxlsb           : None\\r\\ns3fs             : None\\r\\nscipy            : 1.5.2\\r\\nsqlalchemy       : 1.3.22\\r\\ntables           : 3.6.1\\r\\ntabulate         : 0.8.7\\r\\nxarray           : None\\r\\nxlrd             : 2.0.1\\r\\nxlwt             : 1.3.0\\r\\nnumba            : 0.50.1\\r\\n\\r\\n</details>\\r\\n\",\n",
       "  'performed_via_github_app': None},\n",
       " {'url': 'https://api.github.com/repos/pandas-dev/pandas/issues/39429',\n",
       "  'repository_url': 'https://api.github.com/repos/pandas-dev/pandas',\n",
       "  'labels_url': 'https://api.github.com/repos/pandas-dev/pandas/issues/39429/labels{/name}',\n",
       "  'comments_url': 'https://api.github.com/repos/pandas-dev/pandas/issues/39429/comments',\n",
       "  'events_url': 'https://api.github.com/repos/pandas-dev/pandas/issues/39429/events',\n",
       "  'html_url': 'https://github.com/pandas-dev/pandas/pull/39429',\n",
       "  'id': 794639952,\n",
       "  'node_id': 'MDExOlB1bGxSZXF1ZXN0NTYyMTIzMTky',\n",
       "  'number': 39429,\n",
       "  'title': 'Backport PR #39406 on branch 1.2.x (DOC: link to correct PR)',\n",
       "  'user': {'login': 'meeseeksmachine',\n",
       "   'id': 39504233,\n",
       "   'node_id': 'MDQ6VXNlcjM5NTA0MjMz',\n",
       "   'avatar_url': 'https://avatars.githubusercontent.com/u/39504233?v=4',\n",
       "   'gravatar_id': '',\n",
       "   'url': 'https://api.github.com/users/meeseeksmachine',\n",
       "   'html_url': 'https://github.com/meeseeksmachine',\n",
       "   'followers_url': 'https://api.github.com/users/meeseeksmachine/followers',\n",
       "   'following_url': 'https://api.github.com/users/meeseeksmachine/following{/other_user}',\n",
       "   'gists_url': 'https://api.github.com/users/meeseeksmachine/gists{/gist_id}',\n",
       "   'starred_url': 'https://api.github.com/users/meeseeksmachine/starred{/owner}{/repo}',\n",
       "   'subscriptions_url': 'https://api.github.com/users/meeseeksmachine/subscriptions',\n",
       "   'organizations_url': 'https://api.github.com/users/meeseeksmachine/orgs',\n",
       "   'repos_url': 'https://api.github.com/users/meeseeksmachine/repos',\n",
       "   'events_url': 'https://api.github.com/users/meeseeksmachine/events{/privacy}',\n",
       "   'received_events_url': 'https://api.github.com/users/meeseeksmachine/received_events',\n",
       "   'type': 'User',\n",
       "   'site_admin': False},\n",
       "  'labels': [{'id': 134699,\n",
       "    'node_id': 'MDU6TGFiZWwxMzQ2OTk=',\n",
       "    'url': 'https://api.github.com/repos/pandas-dev/pandas/labels/Docs',\n",
       "    'name': 'Docs',\n",
       "    'color': '3465A4',\n",
       "    'default': False,\n",
       "    'description': None}],\n",
       "  'state': 'open',\n",
       "  'locked': False,\n",
       "  'assignee': None,\n",
       "  'assignees': [],\n",
       "  'milestone': {'url': 'https://api.github.com/repos/pandas-dev/pandas/milestones/82',\n",
       "   'html_url': 'https://github.com/pandas-dev/pandas/milestone/82',\n",
       "   'labels_url': 'https://api.github.com/repos/pandas-dev/pandas/milestones/82/labels',\n",
       "   'id': 6317919,\n",
       "   'node_id': 'MDk6TWlsZXN0b25lNjMxNzkxOQ==',\n",
       "   'number': 82,\n",
       "   'title': '1.2.2',\n",
       "   'description': 'on-merge: backport to 1.2.x',\n",
       "   'creator': {'login': 'jreback',\n",
       "    'id': 953992,\n",
       "    'node_id': 'MDQ6VXNlcjk1Mzk5Mg==',\n",
       "    'avatar_url': 'https://avatars.githubusercontent.com/u/953992?v=4',\n",
       "    'gravatar_id': '',\n",
       "    'url': 'https://api.github.com/users/jreback',\n",
       "    'html_url': 'https://github.com/jreback',\n",
       "    'followers_url': 'https://api.github.com/users/jreback/followers',\n",
       "    'following_url': 'https://api.github.com/users/jreback/following{/other_user}',\n",
       "    'gists_url': 'https://api.github.com/users/jreback/gists{/gist_id}',\n",
       "    'starred_url': 'https://api.github.com/users/jreback/starred{/owner}{/repo}',\n",
       "    'subscriptions_url': 'https://api.github.com/users/jreback/subscriptions',\n",
       "    'organizations_url': 'https://api.github.com/users/jreback/orgs',\n",
       "    'repos_url': 'https://api.github.com/users/jreback/repos',\n",
       "    'events_url': 'https://api.github.com/users/jreback/events{/privacy}',\n",
       "    'received_events_url': 'https://api.github.com/users/jreback/received_events',\n",
       "    'type': 'User',\n",
       "    'site_admin': False},\n",
       "   'open_issues': 15,\n",
       "   'closed_issues': 10,\n",
       "   'state': 'open',\n",
       "   'created_at': '2021-01-16T01:20:17Z',\n",
       "   'updated_at': '2021-01-26T23:33:10Z',\n",
       "   'due_on': '2021-02-07T08:00:00Z',\n",
       "   'closed_at': None},\n",
       "  'comments': 0,\n",
       "  'created_at': '2021-01-26T23:33:09Z',\n",
       "  'updated_at': '2021-01-26T23:33:27Z',\n",
       "  'closed_at': None,\n",
       "  'author_association': 'NONE',\n",
       "  'active_lock_reason': None,\n",
       "  'pull_request': {'url': 'https://api.github.com/repos/pandas-dev/pandas/pulls/39429',\n",
       "   'html_url': 'https://github.com/pandas-dev/pandas/pull/39429',\n",
       "   'diff_url': 'https://github.com/pandas-dev/pandas/pull/39429.diff',\n",
       "   'patch_url': 'https://github.com/pandas-dev/pandas/pull/39429.patch'},\n",
       "  'body': 'Backport PR #39406: DOC: link to correct PR',\n",
       "  'performed_via_github_app': None},\n",
       " {'url': 'https://api.github.com/repos/pandas-dev/pandas/issues/39428',\n",
       "  'repository_url': 'https://api.github.com/repos/pandas-dev/pandas',\n",
       "  'labels_url': 'https://api.github.com/repos/pandas-dev/pandas/issues/39428/labels{/name}',\n",
       "  'comments_url': 'https://api.github.com/repos/pandas-dev/pandas/issues/39428/comments',\n",
       "  'events_url': 'https://api.github.com/repos/pandas-dev/pandas/issues/39428/events',\n",
       "  'html_url': 'https://github.com/pandas-dev/pandas/pull/39428',\n",
       "  'id': 794639849,\n",
       "  'node_id': 'MDExOlB1bGxSZXF1ZXN0NTYyMTIzMTA1',\n",
       "  'number': 39428,\n",
       "  'title': 'Backport PR #39376 on branch 1.2.x (REGR: write compressed pickle files with protocol=5)',\n",
       "  'user': {'login': 'meeseeksmachine',\n",
       "   'id': 39504233,\n",
       "   'node_id': 'MDQ6VXNlcjM5NTA0MjMz',\n",
       "   'avatar_url': 'https://avatars.githubusercontent.com/u/39504233?v=4',\n",
       "   'gravatar_id': '',\n",
       "   'url': 'https://api.github.com/users/meeseeksmachine',\n",
       "   'html_url': 'https://github.com/meeseeksmachine',\n",
       "   'followers_url': 'https://api.github.com/users/meeseeksmachine/followers',\n",
       "   'following_url': 'https://api.github.com/users/meeseeksmachine/following{/other_user}',\n",
       "   'gists_url': 'https://api.github.com/users/meeseeksmachine/gists{/gist_id}',\n",
       "   'starred_url': 'https://api.github.com/users/meeseeksmachine/starred{/owner}{/repo}',\n",
       "   'subscriptions_url': 'https://api.github.com/users/meeseeksmachine/subscriptions',\n",
       "   'organizations_url': 'https://api.github.com/users/meeseeksmachine/orgs',\n",
       "   'repos_url': 'https://api.github.com/users/meeseeksmachine/repos',\n",
       "   'events_url': 'https://api.github.com/users/meeseeksmachine/events{/privacy}',\n",
       "   'received_events_url': 'https://api.github.com/users/meeseeksmachine/received_events',\n",
       "   'type': 'User',\n",
       "   'site_admin': False},\n",
       "  'labels': [{'id': 1625435109,\n",
       "    'node_id': 'MDU6TGFiZWwxNjI1NDM1MTA5',\n",
       "    'url': 'https://api.github.com/repos/pandas-dev/pandas/labels/IO%20Pickle',\n",
       "    'name': 'IO Pickle',\n",
       "    'color': '6c1cdb',\n",
       "    'default': False,\n",
       "    'description': 'Pickle: read_pickle, to_pickle'}],\n",
       "  'state': 'open',\n",
       "  'locked': False,\n",
       "  'assignee': None,\n",
       "  'assignees': [],\n",
       "  'milestone': {'url': 'https://api.github.com/repos/pandas-dev/pandas/milestones/82',\n",
       "   'html_url': 'https://github.com/pandas-dev/pandas/milestone/82',\n",
       "   'labels_url': 'https://api.github.com/repos/pandas-dev/pandas/milestones/82/labels',\n",
       "   'id': 6317919,\n",
       "   'node_id': 'MDk6TWlsZXN0b25lNjMxNzkxOQ==',\n",
       "   'number': 82,\n",
       "   'title': '1.2.2',\n",
       "   'description': 'on-merge: backport to 1.2.x',\n",
       "   'creator': {'login': 'jreback',\n",
       "    'id': 953992,\n",
       "    'node_id': 'MDQ6VXNlcjk1Mzk5Mg==',\n",
       "    'avatar_url': 'https://avatars.githubusercontent.com/u/953992?v=4',\n",
       "    'gravatar_id': '',\n",
       "    'url': 'https://api.github.com/users/jreback',\n",
       "    'html_url': 'https://github.com/jreback',\n",
       "    'followers_url': 'https://api.github.com/users/jreback/followers',\n",
       "    'following_url': 'https://api.github.com/users/jreback/following{/other_user}',\n",
       "    'gists_url': 'https://api.github.com/users/jreback/gists{/gist_id}',\n",
       "    'starred_url': 'https://api.github.com/users/jreback/starred{/owner}{/repo}',\n",
       "    'subscriptions_url': 'https://api.github.com/users/jreback/subscriptions',\n",
       "    'organizations_url': 'https://api.github.com/users/jreback/orgs',\n",
       "    'repos_url': 'https://api.github.com/users/jreback/repos',\n",
       "    'events_url': 'https://api.github.com/users/jreback/events{/privacy}',\n",
       "    'received_events_url': 'https://api.github.com/users/jreback/received_events',\n",
       "    'type': 'User',\n",
       "    'site_admin': False},\n",
       "   'open_issues': 15,\n",
       "   'closed_issues': 10,\n",
       "   'state': 'open',\n",
       "   'created_at': '2021-01-16T01:20:17Z',\n",
       "   'updated_at': '2021-01-26T23:33:10Z',\n",
       "   'due_on': '2021-02-07T08:00:00Z',\n",
       "   'closed_at': None},\n",
       "  'comments': 0,\n",
       "  'created_at': '2021-01-26T23:32:57Z',\n",
       "  'updated_at': '2021-01-26T23:33:16Z',\n",
       "  'closed_at': None,\n",
       "  'author_association': 'NONE',\n",
       "  'active_lock_reason': None,\n",
       "  'pull_request': {'url': 'https://api.github.com/repos/pandas-dev/pandas/pulls/39428',\n",
       "   'html_url': 'https://github.com/pandas-dev/pandas/pull/39428',\n",
       "   'diff_url': 'https://github.com/pandas-dev/pandas/pull/39428.diff',\n",
       "   'patch_url': 'https://github.com/pandas-dev/pandas/pull/39428.patch'},\n",
       "  'body': 'Backport PR #39376: REGR: write compressed pickle files with protocol=5',\n",
       "  'performed_via_github_app': None},\n",
       " {'url': 'https://api.github.com/repos/pandas-dev/pandas/issues/39427',\n",
       "  'repository_url': 'https://api.github.com/repos/pandas-dev/pandas',\n",
       "  'labels_url': 'https://api.github.com/repos/pandas-dev/pandas/issues/39427/labels{/name}',\n",
       "  'comments_url': 'https://api.github.com/repos/pandas-dev/pandas/issues/39427/comments',\n",
       "  'events_url': 'https://api.github.com/repos/pandas-dev/pandas/issues/39427/events',\n",
       "  'html_url': 'https://github.com/pandas-dev/pandas/pull/39427',\n",
       "  'id': 794627214,\n",
       "  'node_id': 'MDExOlB1bGxSZXF1ZXN0NTYyMTEyNTc4',\n",
       "  'number': 39427,\n",
       "  'title': 'REF: reuse can_hold_element for NumericIndex._validate_fill_value',\n",
       "  'user': {'login': 'jbrockmendel',\n",
       "   'id': 8078968,\n",
       "   'node_id': 'MDQ6VXNlcjgwNzg5Njg=',\n",
       "   'avatar_url': 'https://avatars.githubusercontent.com/u/8078968?v=4',\n",
       "   'gravatar_id': '',\n",
       "   'url': 'https://api.github.com/users/jbrockmendel',\n",
       "   'html_url': 'https://github.com/jbrockmendel',\n",
       "   'followers_url': 'https://api.github.com/users/jbrockmendel/followers',\n",
       "   'following_url': 'https://api.github.com/users/jbrockmendel/following{/other_user}',\n",
       "   'gists_url': 'https://api.github.com/users/jbrockmendel/gists{/gist_id}',\n",
       "   'starred_url': 'https://api.github.com/users/jbrockmendel/starred{/owner}{/repo}',\n",
       "   'subscriptions_url': 'https://api.github.com/users/jbrockmendel/subscriptions',\n",
       "   'organizations_url': 'https://api.github.com/users/jbrockmendel/orgs',\n",
       "   'repos_url': 'https://api.github.com/users/jbrockmendel/repos',\n",
       "   'events_url': 'https://api.github.com/users/jbrockmendel/events{/privacy}',\n",
       "   'received_events_url': 'https://api.github.com/users/jbrockmendel/received_events',\n",
       "   'type': 'User',\n",
       "   'site_admin': False},\n",
       "  'labels': [],\n",
       "  'state': 'open',\n",
       "  'locked': False,\n",
       "  'assignee': None,\n",
       "  'assignees': [],\n",
       "  'milestone': None,\n",
       "  'comments': 0,\n",
       "  'created_at': '2021-01-26T23:05:12Z',\n",
       "  'updated_at': '2021-01-26T23:05:12Z',\n",
       "  'closed_at': None,\n",
       "  'author_association': 'MEMBER',\n",
       "  'active_lock_reason': None,\n",
       "  'pull_request': {'url': 'https://api.github.com/repos/pandas-dev/pandas/pulls/39427',\n",
       "   'html_url': 'https://github.com/pandas-dev/pandas/pull/39427',\n",
       "   'diff_url': 'https://github.com/pandas-dev/pandas/pull/39427.diff',\n",
       "   'patch_url': 'https://github.com/pandas-dev/pandas/pull/39427.patch'},\n",
       "  'body': '- [ ] closes #xxxx\\r\\n- [ ] tests added / passed\\r\\n- [ ] Ensure all linting tests pass, see [here](https://pandas.pydata.org/pandas-docs/dev/development/contributing.html#code-standards) for how to run them\\r\\n- [ ] whatsnew entry\\r\\n',\n",
       "  'performed_via_github_app': None},\n",
       " {'url': 'https://api.github.com/repos/pandas-dev/pandas/issues/39426',\n",
       "  'repository_url': 'https://api.github.com/repos/pandas-dev/pandas',\n",
       "  'labels_url': 'https://api.github.com/repos/pandas-dev/pandas/issues/39426/labels{/name}',\n",
       "  'comments_url': 'https://api.github.com/repos/pandas-dev/pandas/issues/39426/comments',\n",
       "  'events_url': 'https://api.github.com/repos/pandas-dev/pandas/issues/39426/events',\n",
       "  'html_url': 'https://github.com/pandas-dev/pandas/issues/39426',\n",
       "  'id': 794594666,\n",
       "  'node_id': 'MDU6SXNzdWU3OTQ1OTQ2NjY=',\n",
       "  'number': 39426,\n",
       "  'title': 'BUG: sort_values create an unprintable object',\n",
       "  'user': {'login': 'gshimansky',\n",
       "   'id': 11276794,\n",
       "   'node_id': 'MDQ6VXNlcjExMjc2Nzk0',\n",
       "   'avatar_url': 'https://avatars.githubusercontent.com/u/11276794?v=4',\n",
       "   'gravatar_id': '',\n",
       "   'url': 'https://api.github.com/users/gshimansky',\n",
       "   'html_url': 'https://github.com/gshimansky',\n",
       "   'followers_url': 'https://api.github.com/users/gshimansky/followers',\n",
       "   'following_url': 'https://api.github.com/users/gshimansky/following{/other_user}',\n",
       "   'gists_url': 'https://api.github.com/users/gshimansky/gists{/gist_id}',\n",
       "   'starred_url': 'https://api.github.com/users/gshimansky/starred{/owner}{/repo}',\n",
       "   'subscriptions_url': 'https://api.github.com/users/gshimansky/subscriptions',\n",
       "   'organizations_url': 'https://api.github.com/users/gshimansky/orgs',\n",
       "   'repos_url': 'https://api.github.com/users/gshimansky/repos',\n",
       "   'events_url': 'https://api.github.com/users/gshimansky/events{/privacy}',\n",
       "   'received_events_url': 'https://api.github.com/users/gshimansky/received_events',\n",
       "   'type': 'User',\n",
       "   'site_admin': False},\n",
       "  'labels': [{'id': 76811,\n",
       "    'node_id': 'MDU6TGFiZWw3NjgxMQ==',\n",
       "    'url': 'https://api.github.com/repos/pandas-dev/pandas/labels/Bug',\n",
       "    'name': 'Bug',\n",
       "    'color': 'e10c02',\n",
       "    'default': False,\n",
       "    'description': None},\n",
       "   {'id': 1954720290,\n",
       "    'node_id': 'MDU6TGFiZWwxOTU0NzIwMjkw',\n",
       "    'url': 'https://api.github.com/repos/pandas-dev/pandas/labels/Needs%20Triage',\n",
       "    'name': 'Needs Triage',\n",
       "    'color': '0052cc',\n",
       "    'default': False,\n",
       "    'description': 'Issue that has not been reviewed by a pandas team member'}],\n",
       "  'state': 'open',\n",
       "  'locked': False,\n",
       "  'assignee': None,\n",
       "  'assignees': [],\n",
       "  'milestone': None,\n",
       "  'comments': 5,\n",
       "  'created_at': '2021-01-26T22:05:21Z',\n",
       "  'updated_at': '2021-01-27T06:35:34Z',\n",
       "  'closed_at': None,\n",
       "  'author_association': 'NONE',\n",
       "  'active_lock_reason': None,\n",
       "  'body': '- [x] I have checked that this issue has not already been reported.\\r\\n\\r\\n- [x] I have confirmed this bug exists on the latest version of pandas.\\r\\n\\r\\n- [ ] (optional) I have confirmed this bug exists on the master branch of pandas.\\r\\n\\r\\n---\\r\\n\\r\\n**Note**: Please read [this guide](https://matthewrocklin.com/blog/work/2018/02/28/minimal-bug-reports) detailing how to provide the necessary information for us to reproduce your bug.\\r\\n\\r\\n#### Code Sample, a copy-pastable example\\r\\n\\r\\n```python\\r\\n# Your code here\\r\\nimport pandas as pd\\r\\nimport numpy as np\\r\\n\\r\\nRAND_LOW = 0\\r\\nRAND_HIGH = 100\\r\\nNCOLS = 2 ** 5\\r\\nNROWS = 2 ** 2\\r\\n\\r\\nrandom_state = np.random.RandomState(seed=42)\\r\\ndata = {\\r\\n    \"col{}\".format(int((i - NCOLS / 2) % NCOLS + 1)): random_state.randint(\\r\\n        RAND_LOW, RAND_HIGH, size=(NROWS)\\r\\n    )\\r\\n    for i in range(NCOLS)\\r\\n}\\r\\ndf1 = pd.DataFrame(data)\\r\\nprint(df1)\\r\\ndf2 = df1.sort_values(df1.index[0], axis=1, ignore_index=True)\\r\\nprint(df2)\\r\\n```\\r\\n\\r\\n#### Problem description\\r\\n\\r\\n[this should explain **why** the current behaviour is a problem and why the expected output is a better solution]\\r\\nPrinting object returned by `sort_values` produces an exception because some internal metadata is wrong:\\r\\n\\r\\n```\\r\\nTraceback (most recent call last):\\r\\n  File \"sort_values_test6.py\", line 19, in <module>\\r\\n    print(df2)\\r\\n  File \"/localdisk/gashiman/miniconda3/lib/python3.8/site-packages/pandas/core/frame.py\", line 803, in __repr__\\r\\n    self.to_string(\\r\\n  File \"/localdisk/gashiman/miniconda3/lib/python3.8/site-packages/pandas/core/frame.py\", line 939, in to_string\\r\\n    return fmt.DataFrameRenderer(formatter).to_string(\\r\\n  File \"/localdisk/gashiman/miniconda3/lib/python3.8/site-packages/pandas/io/formats/format.py\", line 1031, in to_string\\r\\n    string = string_formatter.to_string()\\r\\n  File \"/localdisk/gashiman/miniconda3/lib/python3.8/site-packages/pandas/io/formats/string.py\", line 23, in to_string\\r\\n    text = self._get_string_representation()\\r\\n  File \"/localdisk/gashiman/miniconda3/lib/python3.8/site-packages/pandas/io/formats/string.py\", line 47, in _get_string_representation\\r\\n    return self._fit_strcols_to_terminal_width(strcols)\\r\\n  File \"/localdisk/gashiman/miniconda3/lib/python3.8/site-packages/pandas/io/formats/string.py\", line 179, in _fit_strcols_to_terminal_width\\r\\n    self.fmt.truncate()\\r\\n  File \"/localdisk/gashiman/miniconda3/lib/python3.8/site-packages/pandas/io/formats/format.py\", line 700, in truncate\\r\\n    self._truncate_horizontally()\\r\\n  File \"/localdisk/gashiman/miniconda3/lib/python3.8/site-packages/pandas/io/formats/format.py\", line 718, in _truncate_horizontally\\r\\n    self.tr_frame = concat((left, right), axis=1)\\r\\n  File \"/localdisk/gashiman/miniconda3/lib/python3.8/site-packages/pandas/core/reshape/concat.py\", line 298, in concat\\r\\n    return op.get_result()\\r\\n  File \"/localdisk/gashiman/miniconda3/lib/python3.8/site-packages/pandas/core/reshape/concat.py\", line 520, in get_result\\r\\n    new_data = concatenate_block_managers(\\r\\n  File \"/localdisk/gashiman/miniconda3/lib/python3.8/site-packages/pandas/core/internals/concat.py\", line 89, in concatenate_block_managers\\r\\n    return BlockManager(blocks, axes)\\r\\n  File \"/localdisk/gashiman/miniconda3/lib/python3.8/site-packages/pandas/core/internals/managers.py\", line 143, in __init__\\r\\n    self._verify_integrity()\\r\\n  File \"/localdisk/gashiman/miniconda3/lib/python3.8/site-packages/pandas/core/internals/managers.py\", line 323, in _verify_integrity\\r\\n    raise construction_error(tot_items, block.shape[1:], self.axes)\\r\\nValueError: Shape of passed values is (4, 16), indices imply (32, 16)\\r\\n```\\r\\n\\r\\n#### Expected Output\\r\\n\\r\\n#### Output of ``pd.show_versions()``\\r\\n\\r\\n<details>\\r\\n\\r\\n[paste the output of ``pd.show_versions()`` here leaving a blank line after the details tag]\\r\\nINSTALLED VERSIONS\\r\\n------------------\\r\\ncommit           : 9d598a5e1eee26df95b3910e3f2934890d062caa\\r\\npython           : 3.8.6.final.0\\r\\npython-bits      : 64\\r\\nOS               : Linux\\r\\nOS-release       : 5.4.0-56-generic\\r\\nVersion          : #62-Ubuntu SMP Mon Nov 23 19:20:19 UTC 2020\\r\\nmachine          : x86_64\\r\\nprocessor        : x86_64\\r\\nbyteorder        : little\\r\\nLC_ALL           : None\\r\\nLANG             : en_US.UTF-8\\r\\nLOCALE           : en_US.UTF-8\\r\\n\\r\\npandas           : 1.2.1\\r\\nnumpy            : 1.19.4\\r\\npytz             : 2020.1\\r\\ndateutil         : 2.8.1\\r\\npip              : 20.3.1\\r\\nsetuptools       : 49.6.0.post20201009\\r\\nCython           : None\\r\\npytest           : 6.2.1\\r\\nhypothesis       : None\\r\\nsphinx           : None\\r\\nblosc            : None\\r\\nfeather          : 0.4.1\\r\\nxlsxwriter       : None\\r\\nlxml.etree       : 4.6.2\\r\\nhtml5lib         : None\\r\\npymysql          : None\\r\\npsycopg2         : None\\r\\njinja2           : 2.11.2\\r\\nIPython          : 7.18.1\\r\\npandas_datareader: None\\r\\nbs4              : 4.9.3\\r\\nbottleneck       : None\\r\\nfsspec           : 0.8.4\\r\\nfastparquet      : None\\r\\ngcsfs            : None\\r\\nmatplotlib       : 3.2.2\\r\\nnumexpr          : 2.7.1\\r\\nodfpy            : None\\r\\nopenpyxl         : 3.0.5\\r\\npandas_gbq       : 0.14.1\\r\\npyarrow          : 2.0.0\\r\\npyxlsb           : None\\r\\ns3fs             : 0.5.2\\r\\nscipy            : 1.5.4\\r\\nsqlalchemy       : 1.3.21\\r\\ntables           : 3.6.1\\r\\ntabulate         : None\\r\\nxarray           : 0.16.2\\r\\nxlrd             : 2.0.1\\r\\nxlwt             : None\\r\\nnumba            : None\\r\\n\\r\\n</details>\\r\\n',\n",
       "  'performed_via_github_app': None},\n",
       " {'url': 'https://api.github.com/repos/pandas-dev/pandas/issues/39425',\n",
       "  'repository_url': 'https://api.github.com/repos/pandas-dev/pandas',\n",
       "  'labels_url': 'https://api.github.com/repos/pandas-dev/pandas/issues/39425/labels{/name}',\n",
       "  'comments_url': 'https://api.github.com/repos/pandas-dev/pandas/issues/39425/comments',\n",
       "  'events_url': 'https://api.github.com/repos/pandas-dev/pandas/issues/39425/events',\n",
       "  'html_url': 'https://github.com/pandas-dev/pandas/pull/39425',\n",
       "  'id': 794577671,\n",
       "  'node_id': 'MDExOlB1bGxSZXF1ZXN0NTYyMDcwNzE0',\n",
       "  'number': 39425,\n",
       "  'title': 'REF: de-duplicate MultiIndex validation',\n",
       "  'user': {'login': 'jbrockmendel',\n",
       "   'id': 8078968,\n",
       "   'node_id': 'MDQ6VXNlcjgwNzg5Njg=',\n",
       "   'avatar_url': 'https://avatars.githubusercontent.com/u/8078968?v=4',\n",
       "   'gravatar_id': '',\n",
       "   'url': 'https://api.github.com/users/jbrockmendel',\n",
       "   'html_url': 'https://github.com/jbrockmendel',\n",
       "   'followers_url': 'https://api.github.com/users/jbrockmendel/followers',\n",
       "   'following_url': 'https://api.github.com/users/jbrockmendel/following{/other_user}',\n",
       "   'gists_url': 'https://api.github.com/users/jbrockmendel/gists{/gist_id}',\n",
       "   'starred_url': 'https://api.github.com/users/jbrockmendel/starred{/owner}{/repo}',\n",
       "   'subscriptions_url': 'https://api.github.com/users/jbrockmendel/subscriptions',\n",
       "   'organizations_url': 'https://api.github.com/users/jbrockmendel/orgs',\n",
       "   'repos_url': 'https://api.github.com/users/jbrockmendel/repos',\n",
       "   'events_url': 'https://api.github.com/users/jbrockmendel/events{/privacy}',\n",
       "   'received_events_url': 'https://api.github.com/users/jbrockmendel/received_events',\n",
       "   'type': 'User',\n",
       "   'site_admin': False},\n",
       "  'labels': [],\n",
       "  'state': 'open',\n",
       "  'locked': False,\n",
       "  'assignee': None,\n",
       "  'assignees': [],\n",
       "  'milestone': None,\n",
       "  'comments': 0,\n",
       "  'created_at': '2021-01-26T21:35:11Z',\n",
       "  'updated_at': '2021-01-26T21:35:11Z',\n",
       "  'closed_at': None,\n",
       "  'author_association': 'MEMBER',\n",
       "  'active_lock_reason': None,\n",
       "  'pull_request': {'url': 'https://api.github.com/repos/pandas-dev/pandas/pulls/39425',\n",
       "   'html_url': 'https://github.com/pandas-dev/pandas/pull/39425',\n",
       "   'diff_url': 'https://github.com/pandas-dev/pandas/pull/39425.diff',\n",
       "   'patch_url': 'https://github.com/pandas-dev/pandas/pull/39425.patch'},\n",
       "  'body': '',\n",
       "  'performed_via_github_app': None},\n",
       " {'url': 'https://api.github.com/repos/pandas-dev/pandas/issues/39424',\n",
       "  'repository_url': 'https://api.github.com/repos/pandas-dev/pandas',\n",
       "  'labels_url': 'https://api.github.com/repos/pandas-dev/pandas/issues/39424/labels{/name}',\n",
       "  'comments_url': 'https://api.github.com/repos/pandas-dev/pandas/issues/39424/comments',\n",
       "  'events_url': 'https://api.github.com/repos/pandas-dev/pandas/issues/39424/events',\n",
       "  'html_url': 'https://github.com/pandas-dev/pandas/issues/39424',\n",
       "  'id': 794576960,\n",
       "  'node_id': 'MDU6SXNzdWU3OTQ1NzY5NjA=',\n",
       "  'number': 39424,\n",
       "  'title': 'BUG: indexing with missing labels deprecation not applied to MultiIndex',\n",
       "  'user': {'login': 'attack68',\n",
       "   'id': 24256554,\n",
       "   'node_id': 'MDQ6VXNlcjI0MjU2NTU0',\n",
       "   'avatar_url': 'https://avatars.githubusercontent.com/u/24256554?v=4',\n",
       "   'gravatar_id': '',\n",
       "   'url': 'https://api.github.com/users/attack68',\n",
       "   'html_url': 'https://github.com/attack68',\n",
       "   'followers_url': 'https://api.github.com/users/attack68/followers',\n",
       "   'following_url': 'https://api.github.com/users/attack68/following{/other_user}',\n",
       "   'gists_url': 'https://api.github.com/users/attack68/gists{/gist_id}',\n",
       "   'starred_url': 'https://api.github.com/users/attack68/starred{/owner}{/repo}',\n",
       "   'subscriptions_url': 'https://api.github.com/users/attack68/subscriptions',\n",
       "   'organizations_url': 'https://api.github.com/users/attack68/orgs',\n",
       "   'repos_url': 'https://api.github.com/users/attack68/repos',\n",
       "   'events_url': 'https://api.github.com/users/attack68/events{/privacy}',\n",
       "   'received_events_url': 'https://api.github.com/users/attack68/received_events',\n",
       "   'type': 'User',\n",
       "   'site_admin': False},\n",
       "  'labels': [{'id': 76811,\n",
       "    'node_id': 'MDU6TGFiZWw3NjgxMQ==',\n",
       "    'url': 'https://api.github.com/repos/pandas-dev/pandas/labels/Bug',\n",
       "    'name': 'Bug',\n",
       "    'color': 'e10c02',\n",
       "    'default': False,\n",
       "    'description': None},\n",
       "   {'id': 1954720290,\n",
       "    'node_id': 'MDU6TGFiZWwxOTU0NzIwMjkw',\n",
       "    'url': 'https://api.github.com/repos/pandas-dev/pandas/labels/Needs%20Triage',\n",
       "    'name': 'Needs Triage',\n",
       "    'color': '0052cc',\n",
       "    'default': False,\n",
       "    'description': 'Issue that has not been reviewed by a pandas team member'}],\n",
       "  'state': 'open',\n",
       "  'locked': False,\n",
       "  'assignee': None,\n",
       "  'assignees': [],\n",
       "  'milestone': None,\n",
       "  'comments': 1,\n",
       "  'created_at': '2021-01-26T21:33:54Z',\n",
       "  'updated_at': '2021-01-26T22:32:34Z',\n",
       "  'closed_at': None,\n",
       "  'author_association': 'CONTRIBUTOR',\n",
       "  'active_lock_reason': None,\n",
       "  'body': '- [x] I have checked that this issue has not already been reported.\\r\\n\\r\\n- [x] I have confirmed this bug exists on the latest version of pandas.\\r\\n\\r\\n- [x] (optional) I have confirmed this bug exists on the master branch of pandas.\\r\\n\\r\\n---\\r\\n\\r\\n#### Code Sample, a copy-pastable example\\r\\n\\r\\n```python\\r\\ndf = pd.DataFrame({(\"z\",\"a\"): [1, 2, 3], (\"z\",\"b\"):[4, 5, 6]})\\r\\ndf.loc[pd.IndexSlice[:, pd.IndexSlice[\"z\", [\"a\", \"b\", \"c\"]]]]  # works: DataFrame with columns \\'a\\' and \\'b\\'.\\r\\n\\r\\ndf = pd.DataFrame({(\"a\"): [1, 2, 3], (\"b\"):[4, 5, 6]})\\r\\ndf.loc[pd.IndexSlice[:, pd.IndexSlice[[\"a\", \"b\", \"c\"]]]]  # KeyError: missing label \\'c\\'\\r\\n```\\r\\n\\r\\n#### Problem description\\r\\n\\r\\nShould this behaviour be consistent?\\r\\nA recent decision to move to KeyError: https://pandas.pydata.org/pandas-docs/stable/user_guide/indexing.html#deprecate-loc-reindex-listlike\\r\\n\\r\\n#### Expected Output\\r\\n\\r\\nBoth return KeyError?\\r\\n\\r\\nThis can be linked to #32125 also.',\n",
       "  'performed_via_github_app': None},\n",
       " {'url': 'https://api.github.com/repos/pandas-dev/pandas/issues/39423',\n",
       "  'repository_url': 'https://api.github.com/repos/pandas-dev/pandas',\n",
       "  'labels_url': 'https://api.github.com/repos/pandas-dev/pandas/issues/39423/labels{/name}',\n",
       "  'comments_url': 'https://api.github.com/repos/pandas-dev/pandas/issues/39423/comments',\n",
       "  'events_url': 'https://api.github.com/repos/pandas-dev/pandas/issues/39423/events',\n",
       "  'html_url': 'https://github.com/pandas-dev/pandas/pull/39423',\n",
       "  'id': 794570808,\n",
       "  'node_id': 'MDExOlB1bGxSZXF1ZXN0NTYyMDY0ODk3',\n",
       "  'number': 39423,\n",
       "  'title': 'BUG: Assert_frame_equal always raising AssertionError when comparing extension dtypes',\n",
       "  'user': {'login': 'phofl',\n",
       "   'id': 61934744,\n",
       "   'node_id': 'MDQ6VXNlcjYxOTM0NzQ0',\n",
       "   'avatar_url': 'https://avatars.githubusercontent.com/u/61934744?v=4',\n",
       "   'gravatar_id': '',\n",
       "   'url': 'https://api.github.com/users/phofl',\n",
       "   'html_url': 'https://github.com/phofl',\n",
       "   'followers_url': 'https://api.github.com/users/phofl/followers',\n",
       "   'following_url': 'https://api.github.com/users/phofl/following{/other_user}',\n",
       "   'gists_url': 'https://api.github.com/users/phofl/gists{/gist_id}',\n",
       "   'starred_url': 'https://api.github.com/users/phofl/starred{/owner}{/repo}',\n",
       "   'subscriptions_url': 'https://api.github.com/users/phofl/subscriptions',\n",
       "   'organizations_url': 'https://api.github.com/users/phofl/orgs',\n",
       "   'repos_url': 'https://api.github.com/users/phofl/repos',\n",
       "   'events_url': 'https://api.github.com/users/phofl/events{/privacy}',\n",
       "   'received_events_url': 'https://api.github.com/users/phofl/received_events',\n",
       "   'type': 'User',\n",
       "   'site_admin': False},\n",
       "  'labels': [{'id': 32815646,\n",
       "    'node_id': 'MDU6TGFiZWwzMjgxNTY0Ng==',\n",
       "    'url': 'https://api.github.com/repos/pandas-dev/pandas/labels/Regression',\n",
       "    'name': 'Regression',\n",
       "    'color': 'e11d21',\n",
       "    'default': False,\n",
       "    'description': 'Functionality that used to work in a prior pandas version'},\n",
       "   {'id': 127685,\n",
       "    'node_id': 'MDU6TGFiZWwxMjc2ODU=',\n",
       "    'url': 'https://api.github.com/repos/pandas-dev/pandas/labels/Testing',\n",
       "    'name': 'Testing',\n",
       "    'color': 'C4A000',\n",
       "    'default': False,\n",
       "    'description': 'Custom testing functions or related to the test suite'}],\n",
       "  'state': 'open',\n",
       "  'locked': False,\n",
       "  'assignee': None,\n",
       "  'assignees': [],\n",
       "  'milestone': None,\n",
       "  'comments': 1,\n",
       "  'created_at': '2021-01-26T21:23:03Z',\n",
       "  'updated_at': '2021-01-26T21:25:01Z',\n",
       "  'closed_at': None,\n",
       "  'author_association': 'MEMBER',\n",
       "  'active_lock_reason': None,\n",
       "  'pull_request': {'url': 'https://api.github.com/repos/pandas-dev/pandas/pulls/39423',\n",
       "   'html_url': 'https://github.com/pandas-dev/pandas/pull/39423',\n",
       "   'diff_url': 'https://github.com/pandas-dev/pandas/pull/39423.diff',\n",
       "   'patch_url': 'https://github.com/pandas-dev/pandas/pull/39423.patch'},\n",
       "  'body': '- [x] closes #39410\\r\\n- [x] tests added / passed\\r\\n- [x] Ensure all linting tests pass, see [here](https://pandas.pydata.org/pandas-docs/dev/development/contributing.html#code-standards) for how to run them\\r\\n- [x] whatsnew entry\\r\\n\\r\\n',\n",
       "  'performed_via_github_app': None},\n",
       " {'url': 'https://api.github.com/repos/pandas-dev/pandas/issues/39422',\n",
       "  'repository_url': 'https://api.github.com/repos/pandas-dev/pandas',\n",
       "  'labels_url': 'https://api.github.com/repos/pandas-dev/pandas/issues/39422/labels{/name}',\n",
       "  'comments_url': 'https://api.github.com/repos/pandas-dev/pandas/issues/39422/comments',\n",
       "  'events_url': 'https://api.github.com/repos/pandas-dev/pandas/issues/39422/events',\n",
       "  'html_url': 'https://github.com/pandas-dev/pandas/issues/39422',\n",
       "  'id': 794568102,\n",
       "  'node_id': 'MDU6SXNzdWU3OTQ1NjgxMDI=',\n",
       "  'number': 39422,\n",
       "  'title': 'BUG: pd.DataFrame is created inconsistently from numpy.ndarray for non-native pandas dtypes such as: datetime64[ms], etc..',\n",
       "  'user': {'login': 'MichalHeydelQC',\n",
       "   'id': 41172676,\n",
       "   'node_id': 'MDQ6VXNlcjQxMTcyNjc2',\n",
       "   'avatar_url': 'https://avatars.githubusercontent.com/u/41172676?v=4',\n",
       "   'gravatar_id': '',\n",
       "   'url': 'https://api.github.com/users/MichalHeydelQC',\n",
       "   'html_url': 'https://github.com/MichalHeydelQC',\n",
       "   'followers_url': 'https://api.github.com/users/MichalHeydelQC/followers',\n",
       "   'following_url': 'https://api.github.com/users/MichalHeydelQC/following{/other_user}',\n",
       "   'gists_url': 'https://api.github.com/users/MichalHeydelQC/gists{/gist_id}',\n",
       "   'starred_url': 'https://api.github.com/users/MichalHeydelQC/starred{/owner}{/repo}',\n",
       "   'subscriptions_url': 'https://api.github.com/users/MichalHeydelQC/subscriptions',\n",
       "   'organizations_url': 'https://api.github.com/users/MichalHeydelQC/orgs',\n",
       "   'repos_url': 'https://api.github.com/users/MichalHeydelQC/repos',\n",
       "   'events_url': 'https://api.github.com/users/MichalHeydelQC/events{/privacy}',\n",
       "   'received_events_url': 'https://api.github.com/users/MichalHeydelQC/received_events',\n",
       "   'type': 'User',\n",
       "   'site_admin': False},\n",
       "  'labels': [{'id': 76811,\n",
       "    'node_id': 'MDU6TGFiZWw3NjgxMQ==',\n",
       "    'url': 'https://api.github.com/repos/pandas-dev/pandas/labels/Bug',\n",
       "    'name': 'Bug',\n",
       "    'color': 'e10c02',\n",
       "    'default': False,\n",
       "    'description': None},\n",
       "   {'id': 1954720290,\n",
       "    'node_id': 'MDU6TGFiZWwxOTU0NzIwMjkw',\n",
       "    'url': 'https://api.github.com/repos/pandas-dev/pandas/labels/Needs%20Triage',\n",
       "    'name': 'Needs Triage',\n",
       "    'color': '0052cc',\n",
       "    'default': False,\n",
       "    'description': 'Issue that has not been reviewed by a pandas team member'}],\n",
       "  'state': 'open',\n",
       "  'locked': False,\n",
       "  'assignee': None,\n",
       "  'assignees': [],\n",
       "  'milestone': None,\n",
       "  'comments': 0,\n",
       "  'created_at': '2021-01-26T21:18:25Z',\n",
       "  'updated_at': '2021-01-26T21:18:25Z',\n",
       "  'closed_at': None,\n",
       "  'author_association': 'NONE',\n",
       "  'active_lock_reason': None,\n",
       "  'body': '- [x] I have checked that this issue has not already been reported.\\r\\n\\r\\n- [x] I have confirmed this bug exists on the latest version of pandas.\\r\\n\\r\\n- [ ] (optional) I have confirmed this bug exists on the master branch of pandas.\\r\\n\\r\\n---\\r\\n\\r\\n**Note**: Please read [this guide](https://matthewrocklin.com/blog/work/2018/02/28/minimal-bug-reports) detailing how to provide the necessary information for us to reproduce your bug.\\r\\n\\r\\n#### Code Sample, a copy-pastable example\\r\\n\\r\\n```python\\r\\nimport pandas as pd\\r\\nimport numpy as np\\r\\n\\r\\na = np.array(\\r\\n    [\\r\\n        [\"2015-01-01\", \"2015-01-02\", \"2015-01-03\"],\\r\\n        [\"2017-01-01\", \"2017-01-02\", \"2017-02-03\"],\\r\\n    ],\\r\\n    dtype=\"datetime64[ms]\",\\r\\n)\\r\\n\\r\\nprint(pd.DataFrame(a))\\r\\n           0          1          2\\r\\n0 2015-01-01 2015-01-03 2017-01-02\\r\\n1 2015-01-02 2017-01-01 2017-02-03\\r\\n\\r\\n\\r\\nb = np.array(\\r\\n    [\\r\\n        [\"2015-01-01\", \"2015-01-02\", \"2015-01-03\"],\\r\\n        [\"2017-01-01\", \"2017-01-02\", \"2017-02-03\"],\\r\\n    ],\\r\\n    dtype=\"datetime64[M]\",\\r\\n)\\r\\n\\r\\nprint(pd.DataFrame(b))\\r\\n           0          1          2\\r\\n0 2015-01-01 2015-01-03 2017-01-02\\r\\n1 2015-01-02 2017-01-01 2017-02-03\\r\\n\\r\\nc = np.array(\\r\\n    [\\r\\n        [\"2015-01-01\", \"2015-01-02\", \"2015-01-03\"],\\r\\n        [\"2017-01-01\", \"2017-01-02\", \"2017-02-03\"],\\r\\n    ],\\r\\n    dtype=\"datetime64[ns]\",\\r\\n)\\r\\n\\r\\nprint(pd.DataFrame(c))\\r\\n           0          1          2\\r\\n0 2015-01-01 2015-01-02 2015-01-03\\r\\n1 2017-01-01 2017-01-02 2017-02-03\\r\\n\\r\\n```\\r\\n\\r\\n#### Problem description\\r\\nThe exists an inconsistency how pd.DataFrame() is created from 2D numpy.ndarray for not pandas native type. The dataframe should be transposed for datetime64[M], datetime64[ms] etc.\\r\\n\\r\\n\\r\\n#### Expected Output\\r\\n```python\\r\\nprint(pd.DataFrame(a))\\r\\n           0          1          2\\r\\n0 2015-01-01 2015-01-02 2015-01-03\\r\\n1 2017-01-01 2017-01-02 2017-02-03\\r\\n\\r\\nprint(pd.DataFrame(b))\\r\\n0 2015-01-01 2015-01-02 2015-01-03\\r\\n1 2017-01-01 2017-01-02 2017-02-03\\r\\n```\\r\\n\\r\\n#### Possible Hint\\r\\n```python\\r\\n\\r\\nd = np.array(\\r\\n    [\\r\\n        [\"2015-01-01\", \"2015-01-02\", \"2015-01-03\"],\\r\\n        [\"2017-01-01\", \"2017-01-02\", \"2017-02-03\"],\\r\\n    ],\\r\\n    dtype=\"datetime64[ms]\",\\r\\n    order=\"f\",\\r\\n)\\r\\n\\r\\nprint(pd.DataFrame(d))\\r\\n0 2015-01-01 2015-01-02 2015-01-03\\r\\n1 2017-01-01 2017-01-02 2017-02-03\\r\\n\\r\\n```\\r\\n\\r\\n#### Output of ``pd.show_versions()``\\r\\n\\r\\n<details>\\r\\n\\r\\nINSTALLED VERSIONS\\r\\n------------------\\r\\ncommit           : db08276bc116c438d3fdee492026f8223584c477\\r\\npython           : 3.8.5.final.0\\r\\npython-bits      : 64\\r\\nOS               : Windows\\r\\nOS-release       : 10\\r\\nVersion          : 10.0.19041\\r\\nmachine          : AMD64\\r\\nprocessor        : Intel64 Family 6 Model 158 Stepping 9, GenuineIntel\\r\\nbyteorder        : little\\r\\nLC_ALL           : None\\r\\nLANG             : None\\r\\nLOCALE           : English_United Kingdom.1252\\r\\n\\r\\npandas           : 1.1.3\\r\\nnumpy            : 1.19.2\\r\\npytz             : 2020.1\\r\\ndateutil         : 2.8.1\\r\\npip              : 21.0\\r\\nsetuptools       : 49.6.0.post20210108\\r\\nCython           : None\\r\\npytest           : 6.2.1\\r\\nhypothesis       : None\\r\\nsphinx           : None\\r\\nblosc            : None\\r\\nfeather          : None\\r\\nxlsxwriter       : None\\r\\nlxml.etree       : None\\r\\nhtml5lib         : None\\r\\npymysql          : None\\r\\npsycopg2         : None\\r\\njinja2           : 2.11.2\\r\\nIPython          : 7.18.1\\r\\npandas_datareader: None\\r\\nbs4              : 4.9.3\\r\\nbottleneck       : None\\r\\nfsspec           : None\\r\\nfastparquet      : None\\r\\ngcsfs            : None\\r\\nmatplotlib       : 3.3.3\\r\\nnumexpr          : None\\r\\nodfpy            : None\\r\\nopenpyxl         : None\\r\\npandas_gbq       : None\\r\\npyarrow          : None\\r\\npytables         : None\\r\\npyxlsb           : None\\r\\ns3fs             : None\\r\\nscipy            : 1.6.0\\r\\nsqlalchemy       : 1.3.22\\r\\ntables           : None\\r\\ntabulate         : None\\r\\nxarray           : None\\r\\nxlrd             : None\\r\\nxlwt             : None\\r\\nnumba            : None\\r\\n\\r\\n</details>\\r\\n',\n",
       "  'performed_via_github_app': None},\n",
       " {'url': 'https://api.github.com/repos/pandas-dev/pandas/issues/39421',\n",
       "  'repository_url': 'https://api.github.com/repos/pandas-dev/pandas',\n",
       "  'labels_url': 'https://api.github.com/repos/pandas-dev/pandas/issues/39421/labels{/name}',\n",
       "  'comments_url': 'https://api.github.com/repos/pandas-dev/pandas/issues/39421/comments',\n",
       "  'events_url': 'https://api.github.com/repos/pandas-dev/pandas/issues/39421/events',\n",
       "  'html_url': 'https://github.com/pandas-dev/pandas/pull/39421',\n",
       "  'id': 794559400,\n",
       "  'node_id': 'MDExOlB1bGxSZXF1ZXN0NTYyMDU1MjY2',\n",
       "  'number': 39421,\n",
       "  'title': 'BUG: Subset slicer on Styler failed on MultiIndex with slice(None) ',\n",
       "  'user': {'login': 'attack68',\n",
       "   'id': 24256554,\n",
       "   'node_id': 'MDQ6VXNlcjI0MjU2NTU0',\n",
       "   'avatar_url': 'https://avatars.githubusercontent.com/u/24256554?v=4',\n",
       "   'gravatar_id': '',\n",
       "   'url': 'https://api.github.com/users/attack68',\n",
       "   'html_url': 'https://github.com/attack68',\n",
       "   'followers_url': 'https://api.github.com/users/attack68/followers',\n",
       "   'following_url': 'https://api.github.com/users/attack68/following{/other_user}',\n",
       "   'gists_url': 'https://api.github.com/users/attack68/gists{/gist_id}',\n",
       "   'starred_url': 'https://api.github.com/users/attack68/starred{/owner}{/repo}',\n",
       "   'subscriptions_url': 'https://api.github.com/users/attack68/subscriptions',\n",
       "   'organizations_url': 'https://api.github.com/users/attack68/orgs',\n",
       "   'repos_url': 'https://api.github.com/users/attack68/repos',\n",
       "   'events_url': 'https://api.github.com/users/attack68/events{/privacy}',\n",
       "   'received_events_url': 'https://api.github.com/users/attack68/received_events',\n",
       "   'type': 'User',\n",
       "   'site_admin': False},\n",
       "  'labels': [],\n",
       "  'state': 'open',\n",
       "  'locked': False,\n",
       "  'assignee': None,\n",
       "  'assignees': [],\n",
       "  'milestone': None,\n",
       "  'comments': 0,\n",
       "  'created_at': '2021-01-26T21:03:49Z',\n",
       "  'updated_at': '2021-01-26T21:03:49Z',\n",
       "  'closed_at': None,\n",
       "  'author_association': 'CONTRIBUTOR',\n",
       "  'active_lock_reason': None,\n",
       "  'pull_request': {'url': 'https://api.github.com/repos/pandas-dev/pandas/pulls/39421',\n",
       "   'html_url': 'https://github.com/pandas-dev/pandas/pull/39421',\n",
       "   'diff_url': 'https://github.com/pandas-dev/pandas/pull/39421.diff',\n",
       "   'patch_url': 'https://github.com/pandas-dev/pandas/pull/39421.patch'},\n",
       "  'body': \"- [x] closes #33562\\r\\n- [x] tests added / passed\\r\\n- [x] Ensure all linting tests pass, see [here](https://pandas.pydata.org/pandas-docs/dev/development/contributing.html#code-standards) for how to run them\\r\\n- [ ] whatsnew entry\\r\\n\\r\\nThe problem with above issue was with the function `non_reducing_slice`. It didn't correctly re-format slicing tuples on multiindices when rows or cols also contained a `slice(None)`. An additional check is now done. This method is only used for `Styler` currently.\\r\\n\\r\\nTests Added / reformmatted.\",\n",
       "  'performed_via_github_app': None},\n",
       " {'url': 'https://api.github.com/repos/pandas-dev/pandas/issues/39420',\n",
       "  'repository_url': 'https://api.github.com/repos/pandas-dev/pandas',\n",
       "  'labels_url': 'https://api.github.com/repos/pandas-dev/pandas/issues/39420/labels{/name}',\n",
       "  'comments_url': 'https://api.github.com/repos/pandas-dev/pandas/issues/39420/comments',\n",
       "  'events_url': 'https://api.github.com/repos/pandas-dev/pandas/issues/39420/events',\n",
       "  'html_url': 'https://github.com/pandas-dev/pandas/pull/39420',\n",
       "  'id': 794558279,\n",
       "  'node_id': 'MDExOlB1bGxSZXF1ZXN0NTYyMDU0MzMw',\n",
       "  'number': 39420,\n",
       "  'title': 'Read hdf returns unexpected values for categorical',\n",
       "  'user': {'login': 'nofarm3',\n",
       "   'id': 8852168,\n",
       "   'node_id': 'MDQ6VXNlcjg4NTIxNjg=',\n",
       "   'avatar_url': 'https://avatars.githubusercontent.com/u/8852168?v=4',\n",
       "   'gravatar_id': '',\n",
       "   'url': 'https://api.github.com/users/nofarm3',\n",
       "   'html_url': 'https://github.com/nofarm3',\n",
       "   'followers_url': 'https://api.github.com/users/nofarm3/followers',\n",
       "   'following_url': 'https://api.github.com/users/nofarm3/following{/other_user}',\n",
       "   'gists_url': 'https://api.github.com/users/nofarm3/gists{/gist_id}',\n",
       "   'starred_url': 'https://api.github.com/users/nofarm3/starred{/owner}{/repo}',\n",
       "   'subscriptions_url': 'https://api.github.com/users/nofarm3/subscriptions',\n",
       "   'organizations_url': 'https://api.github.com/users/nofarm3/orgs',\n",
       "   'repos_url': 'https://api.github.com/users/nofarm3/repos',\n",
       "   'events_url': 'https://api.github.com/users/nofarm3/events{/privacy}',\n",
       "   'received_events_url': 'https://api.github.com/users/nofarm3/received_events',\n",
       "   'type': 'User',\n",
       "   'site_admin': False},\n",
       "  'labels': [{'id': 78527356,\n",
       "    'node_id': 'MDU6TGFiZWw3ODUyNzM1Ng==',\n",
       "    'url': 'https://api.github.com/repos/pandas-dev/pandas/labels/Categorical',\n",
       "    'name': 'Categorical',\n",
       "    'color': 'e11d21',\n",
       "    'default': False,\n",
       "    'description': 'Categorical Data Type'},\n",
       "   {'id': 47229190,\n",
       "    'node_id': 'MDU6TGFiZWw0NzIyOTE5MA==',\n",
       "    'url': 'https://api.github.com/repos/pandas-dev/pandas/labels/IO%20HDF5',\n",
       "    'name': 'IO HDF5',\n",
       "    'color': '5319e7',\n",
       "    'default': False,\n",
       "    'description': 'read_hdf, HDFStore'}],\n",
       "  'state': 'open',\n",
       "  'locked': False,\n",
       "  'assignee': None,\n",
       "  'assignees': [],\n",
       "  'milestone': None,\n",
       "  'comments': 1,\n",
       "  'created_at': '2021-01-26T21:01:58Z',\n",
       "  'updated_at': '2021-01-26T23:37:13Z',\n",
       "  'closed_at': None,\n",
       "  'author_association': 'CONTRIBUTOR',\n",
       "  'active_lock_reason': None,\n",
       "  'pull_request': {'url': 'https://api.github.com/repos/pandas-dev/pandas/pulls/39420',\n",
       "   'html_url': 'https://github.com/pandas-dev/pandas/pull/39420',\n",
       "   'diff_url': 'https://github.com/pandas-dev/pandas/pull/39420.diff',\n",
       "   'patch_url': 'https://github.com/pandas-dev/pandas/pull/39420.patch'},\n",
       "  'body': '- [V] closes #39189\\r\\n- [V] tests added / passed\\r\\n- [V] Ensure all linting tests pass, see [here](https://pandas.pydata.org/pandas-docs/dev/development/contributing.html#code-standards) for how to run them\\r\\n- [V] whatsnew entry\\r\\n\\r\\nThis bug happens when filtering on categorical string columns and choose a value which doesn\\'t exist in the column.\\u2028Instead of returning an empty dataframe, we get some records.\\u2028It happens because of the usage in numpy\\xa0`searchsorted(v, side=\"left\")`\\xa0that find indices where elements should be inserted to maintain order (and not 0 in case that the value doesn\\'t exist), like was assumed in the code.\\r\\nI changed it to first the for the value, and use\\xa0`searchsorted`\\xa0only if value exists, I also added a test for this specific use case.\\u2028I think in the long run, maybe we should refactor this area in the code since one function covers multiple use cases which makes it more complex to test.\\r\\n\\r\\nIn addition, I moved the logic to a new method to keep the single-responsibility principle and to make it easier to test.',\n",
       "  'performed_via_github_app': None},\n",
       " {'url': 'https://api.github.com/repos/pandas-dev/pandas/issues/39418',\n",
       "  'repository_url': 'https://api.github.com/repos/pandas-dev/pandas',\n",
       "  'labels_url': 'https://api.github.com/repos/pandas-dev/pandas/issues/39418/labels{/name}',\n",
       "  'comments_url': 'https://api.github.com/repos/pandas-dev/pandas/issues/39418/comments',\n",
       "  'events_url': 'https://api.github.com/repos/pandas-dev/pandas/issues/39418/events',\n",
       "  'html_url': 'https://github.com/pandas-dev/pandas/issues/39418',\n",
       "  'id': 794522372,\n",
       "  'node_id': 'MDU6SXNzdWU3OTQ1MjIzNzI=',\n",
       "  'number': 39418,\n",
       "  'title': 'BUG: SettingWithCopyError raised unsystematically (?)',\n",
       "  'user': {'login': 'nolanbconaway',\n",
       "   'id': 1770896,\n",
       "   'node_id': 'MDQ6VXNlcjE3NzA4OTY=',\n",
       "   'avatar_url': 'https://avatars.githubusercontent.com/u/1770896?v=4',\n",
       "   'gravatar_id': '',\n",
       "   'url': 'https://api.github.com/users/nolanbconaway',\n",
       "   'html_url': 'https://github.com/nolanbconaway',\n",
       "   'followers_url': 'https://api.github.com/users/nolanbconaway/followers',\n",
       "   'following_url': 'https://api.github.com/users/nolanbconaway/following{/other_user}',\n",
       "   'gists_url': 'https://api.github.com/users/nolanbconaway/gists{/gist_id}',\n",
       "   'starred_url': 'https://api.github.com/users/nolanbconaway/starred{/owner}{/repo}',\n",
       "   'subscriptions_url': 'https://api.github.com/users/nolanbconaway/subscriptions',\n",
       "   'organizations_url': 'https://api.github.com/users/nolanbconaway/orgs',\n",
       "   'repos_url': 'https://api.github.com/users/nolanbconaway/repos',\n",
       "   'events_url': 'https://api.github.com/users/nolanbconaway/events{/privacy}',\n",
       "   'received_events_url': 'https://api.github.com/users/nolanbconaway/received_events',\n",
       "   'type': 'User',\n",
       "   'site_admin': False},\n",
       "  'labels': [{'id': 76811,\n",
       "    'node_id': 'MDU6TGFiZWw3NjgxMQ==',\n",
       "    'url': 'https://api.github.com/repos/pandas-dev/pandas/labels/Bug',\n",
       "    'name': 'Bug',\n",
       "    'color': 'e10c02',\n",
       "    'default': False,\n",
       "    'description': None},\n",
       "   {'id': 1954720290,\n",
       "    'node_id': 'MDU6TGFiZWwxOTU0NzIwMjkw',\n",
       "    'url': 'https://api.github.com/repos/pandas-dev/pandas/labels/Needs%20Triage',\n",
       "    'name': 'Needs Triage',\n",
       "    'color': '0052cc',\n",
       "    'default': False,\n",
       "    'description': 'Issue that has not been reviewed by a pandas team member'}],\n",
       "  'state': 'open',\n",
       "  'locked': False,\n",
       "  'assignee': None,\n",
       "  'assignees': [],\n",
       "  'milestone': None,\n",
       "  'comments': 0,\n",
       "  'created_at': '2021-01-26T20:03:16Z',\n",
       "  'updated_at': '2021-01-26T20:03:16Z',\n",
       "  'closed_at': None,\n",
       "  'author_association': 'NONE',\n",
       "  'active_lock_reason': None,\n",
       "  'body': '- [x] I have checked that this issue has not already been reported.\\r\\n\\r\\n- [x] I have confirmed this bug exists on the latest version of pandas.\\r\\n\\r\\n- [ ] (optional) I have confirmed this bug exists on the master branch of pandas.\\r\\n\\r\\n---\\r\\n\\r\\n**Note**: Please read [this guide](https://matthewrocklin.com/blog/work/2018/02/28/minimal-bug-reports) detailing how to provide the necessary information for us to reproduce your bug.\\r\\n\\r\\n#### Code Sample, a copy-pastable example\\r\\n\\r\\n```python\\r\\nimport pandas as pd\\r\\n\\r\\npd.options.mode.chained_assignment = \"raise\"\\r\\n\\r\\n\\r\\ndef f(df):\\r\\n    res = df[\"a\"]\\r\\n    is_two = df[\"a\"] == 2\\r\\n    res.loc[is_two] = None\\r\\n    return res\\r\\n\\r\\n\\r\\ndf1 = pd.DataFrame(dict(a=range(3)))\\r\\ndf2 = df1.assign(b=pd.date_range(\"2020-01-01\", \"2020-01-03\"))\\r\\n\\r\\nf(df1)  # no problem\\r\\nf(df2)  # SettingWithCopyError\\r\\n```\\r\\n\\r\\n#### Problem description\\r\\n\\r\\nThe function above selects a column `a`, finds the position of values that are equal to two and sets those values to None, then returns the `a` Series. \\r\\n\\r\\nWhen a dataframe only contains the `a` column, there is no problem. When a datetime column is introduced, `SettingWithCopyError` is raised. \\r\\n\\r\\n#### Expected Output\\r\\n\\r\\nBecause the function `f` does not access any column besides `a`, I expect it to behave identically for both dataframes. \\r\\n\\r\\n#### Output of ``pd.show_versions()``\\r\\n\\r\\n<details>\\r\\n\\r\\nINSTALLED VERSIONS\\r\\n------------------\\r\\ncommit           : 9d598a5e1eee26df95b3910e3f2934890d062caa\\r\\npython           : 3.8.5.final.0\\r\\npython-bits      : 64\\r\\nOS               : Darwin\\r\\nOS-release       : 19.6.0\\r\\nVersion          : Darwin Kernel Version 19.6.0: Tue Nov 10 00:10:30 PST 2020; root:xnu-6153.141.10~1/RELEASE_X86_64\\r\\nmachine          : x86_64\\r\\nprocessor        : i386\\r\\nbyteorder        : little\\r\\nLC_ALL           : None\\r\\nLANG             : en_US.UTF-8\\r\\nLOCALE           : en_US.UTF-8\\r\\n\\r\\npandas           : 1.2.1\\r\\nnumpy            : 1.19.4\\r\\npytz             : 2020.4\\r\\ndateutil         : 2.8.1\\r\\npip              : 20.3.3\\r\\nsetuptools       : 47.1.0\\r\\nCython           : None\\r\\npytest           : None\\r\\nhypothesis       : None\\r\\nsphinx           : None\\r\\nblosc            : None\\r\\nfeather          : None\\r\\nxlsxwriter       : None\\r\\nlxml.etree       : None\\r\\nhtml5lib         : None\\r\\npymysql          : None\\r\\npsycopg2         : 2.8.6 (dt dec pq3 ext lo64)\\r\\njinja2           : 2.11.2\\r\\nIPython          : 7.19.0\\r\\npandas_datareader: None\\r\\nbs4              : None\\r\\nbottleneck       : None\\r\\nfsspec           : None\\r\\nfastparquet      : None\\r\\ngcsfs            : None\\r\\nmatplotlib       : 3.3.3\\r\\nnumexpr          : None\\r\\nodfpy            : None\\r\\nopenpyxl         : None\\r\\npandas_gbq       : None\\r\\npyarrow          : None\\r\\npyxlsb           : None\\r\\ns3fs             : None\\r\\nscipy            : 1.5.4\\r\\nsqlalchemy       : None\\r\\ntables           : None\\r\\ntabulate         : None\\r\\nxarray           : 0.16.2\\r\\nxlrd             : None\\r\\nxlwt             : None\\r\\nnumba            : None\\r\\n</details>\\r\\n',\n",
       "  'performed_via_github_app': None},\n",
       " {'url': 'https://api.github.com/repos/pandas-dev/pandas/issues/39417',\n",
       "  'repository_url': 'https://api.github.com/repos/pandas-dev/pandas',\n",
       "  'labels_url': 'https://api.github.com/repos/pandas-dev/pandas/issues/39417/labels{/name}',\n",
       "  'comments_url': 'https://api.github.com/repos/pandas-dev/pandas/issues/39417/comments',\n",
       "  'events_url': 'https://api.github.com/repos/pandas-dev/pandas/issues/39417/events',\n",
       "  'html_url': 'https://github.com/pandas-dev/pandas/issues/39417',\n",
       "  'id': 794483977,\n",
       "  'node_id': 'MDU6SXNzdWU3OTQ0ODM5Nzc=',\n",
       "  'number': 39417,\n",
       "  'title': 'CI: add sdist test for PRs',\n",
       "  'user': {'login': 'fangchenli',\n",
       "   'id': 7614606,\n",
       "   'node_id': 'MDQ6VXNlcjc2MTQ2MDY=',\n",
       "   'avatar_url': 'https://avatars.githubusercontent.com/u/7614606?v=4',\n",
       "   'gravatar_id': '',\n",
       "   'url': 'https://api.github.com/users/fangchenli',\n",
       "   'html_url': 'https://github.com/fangchenli',\n",
       "   'followers_url': 'https://api.github.com/users/fangchenli/followers',\n",
       "   'following_url': 'https://api.github.com/users/fangchenli/following{/other_user}',\n",
       "   'gists_url': 'https://api.github.com/users/fangchenli/gists{/gist_id}',\n",
       "   'starred_url': 'https://api.github.com/users/fangchenli/starred{/owner}{/repo}',\n",
       "   'subscriptions_url': 'https://api.github.com/users/fangchenli/subscriptions',\n",
       "   'organizations_url': 'https://api.github.com/users/fangchenli/orgs',\n",
       "   'repos_url': 'https://api.github.com/users/fangchenli/repos',\n",
       "   'events_url': 'https://api.github.com/users/fangchenli/events{/privacy}',\n",
       "   'received_events_url': 'https://api.github.com/users/fangchenli/received_events',\n",
       "   'type': 'User',\n",
       "   'site_admin': False},\n",
       "  'labels': [{'id': 129350,\n",
       "    'node_id': 'MDU6TGFiZWwxMjkzNTA=',\n",
       "    'url': 'https://api.github.com/repos/pandas-dev/pandas/labels/Build',\n",
       "    'name': 'Build',\n",
       "    'color': '75507B',\n",
       "    'default': False,\n",
       "    'description': 'Library building on various platforms'},\n",
       "   {'id': 48070600,\n",
       "    'node_id': 'MDU6TGFiZWw0ODA3MDYwMA==',\n",
       "    'url': 'https://api.github.com/repos/pandas-dev/pandas/labels/CI',\n",
       "    'name': 'CI',\n",
       "    'color': 'a2bca7',\n",
       "    'default': False,\n",
       "    'description': 'Related to Continuous Integration'}],\n",
       "  'state': 'open',\n",
       "  'locked': False,\n",
       "  'assignee': None,\n",
       "  'assignees': [],\n",
       "  'milestone': None,\n",
       "  'comments': 0,\n",
       "  'created_at': '2021-01-26T19:02:23Z',\n",
       "  'updated_at': '2021-01-26T19:06:33Z',\n",
       "  'closed_at': None,\n",
       "  'author_association': 'MEMBER',\n",
       "  'active_lock_reason': None,\n",
       "  'body': 'In #38852, we talked about adding CI job to build and test sdist. So we could discover relevant errors sooner. xref https://github.com/pandas-dev/pandas/pull/38852#discussion_r552490251',\n",
       "  'performed_via_github_app': None},\n",
       " {'url': 'https://api.github.com/repos/pandas-dev/pandas/issues/39416',\n",
       "  'repository_url': 'https://api.github.com/repos/pandas-dev/pandas',\n",
       "  'labels_url': 'https://api.github.com/repos/pandas-dev/pandas/issues/39416/labels{/name}',\n",
       "  'comments_url': 'https://api.github.com/repos/pandas-dev/pandas/issues/39416/comments',\n",
       "  'events_url': 'https://api.github.com/repos/pandas-dev/pandas/issues/39416/events',\n",
       "  'html_url': 'https://github.com/pandas-dev/pandas/issues/39416',\n",
       "  'id': 794476749,\n",
       "  'node_id': 'MDU6SXNzdWU3OTQ0NzY3NDk=',\n",
       "  'number': 39416,\n",
       "  'title': 'BLD: optinal numpy import',\n",
       "  'user': {'login': 'fangchenli',\n",
       "   'id': 7614606,\n",
       "   'node_id': 'MDQ6VXNlcjc2MTQ2MDY=',\n",
       "   'avatar_url': 'https://avatars.githubusercontent.com/u/7614606?v=4',\n",
       "   'gravatar_id': '',\n",
       "   'url': 'https://api.github.com/users/fangchenli',\n",
       "   'html_url': 'https://github.com/fangchenli',\n",
       "   'followers_url': 'https://api.github.com/users/fangchenli/followers',\n",
       "   'following_url': 'https://api.github.com/users/fangchenli/following{/other_user}',\n",
       "   'gists_url': 'https://api.github.com/users/fangchenli/gists{/gist_id}',\n",
       "   'starred_url': 'https://api.github.com/users/fangchenli/starred{/owner}{/repo}',\n",
       "   'subscriptions_url': 'https://api.github.com/users/fangchenli/subscriptions',\n",
       "   'organizations_url': 'https://api.github.com/users/fangchenli/orgs',\n",
       "   'repos_url': 'https://api.github.com/users/fangchenli/repos',\n",
       "   'events_url': 'https://api.github.com/users/fangchenli/events{/privacy}',\n",
       "   'received_events_url': 'https://api.github.com/users/fangchenli/received_events',\n",
       "   'type': 'User',\n",
       "   'site_admin': False},\n",
       "  'labels': [{'id': 129350,\n",
       "    'node_id': 'MDU6TGFiZWwxMjkzNTA=',\n",
       "    'url': 'https://api.github.com/repos/pandas-dev/pandas/labels/Build',\n",
       "    'name': 'Build',\n",
       "    'color': '75507B',\n",
       "    'default': False,\n",
       "    'description': 'Library building on various platforms'}],\n",
       "  'state': 'open',\n",
       "  'locked': False,\n",
       "  'assignee': None,\n",
       "  'assignees': [],\n",
       "  'milestone': None,\n",
       "  'comments': 1,\n",
       "  'created_at': '2021-01-26T18:50:52Z',\n",
       "  'updated_at': '2021-01-26T18:56:24Z',\n",
       "  'closed_at': None,\n",
       "  'author_association': 'MEMBER',\n",
       "  'active_lock_reason': None,\n",
       "  'body': 'The added workflow pip installs pandas without the requirements pre-installed. Seems to pull in requirements OK. (I also wanted to test with other versions of setuptools locally though before approving this PR)\\r\\n\\r\\nOT for the sdist build step we do `python setup.py clean --quiet`. This fails if numpy not installed.\\r\\n\\r\\n_Originally posted by @simonjayhawkins in https://github.com/pandas-dev/pandas/pull/38852#r552479485_',\n",
       "  'performed_via_github_app': None},\n",
       " {'url': 'https://api.github.com/repos/pandas-dev/pandas/issues/39415',\n",
       "  'repository_url': 'https://api.github.com/repos/pandas-dev/pandas',\n",
       "  'labels_url': 'https://api.github.com/repos/pandas-dev/pandas/issues/39415/labels{/name}',\n",
       "  'comments_url': 'https://api.github.com/repos/pandas-dev/pandas/issues/39415/comments',\n",
       "  'events_url': 'https://api.github.com/repos/pandas-dev/pandas/issues/39415/events',\n",
       "  'html_url': 'https://github.com/pandas-dev/pandas/issues/39415',\n",
       "  'id': 794474522,\n",
       "  'node_id': 'MDU6SXNzdWU3OTQ0NzQ1MjI=',\n",
       "  'number': 39415,\n",
       "  'title': 'BLD: Enable PEP 517',\n",
       "  'user': {'login': 'fangchenli',\n",
       "   'id': 7614606,\n",
       "   'node_id': 'MDQ6VXNlcjc2MTQ2MDY=',\n",
       "   'avatar_url': 'https://avatars.githubusercontent.com/u/7614606?v=4',\n",
       "   'gravatar_id': '',\n",
       "   'url': 'https://api.github.com/users/fangchenli',\n",
       "   'html_url': 'https://github.com/fangchenli',\n",
       "   'followers_url': 'https://api.github.com/users/fangchenli/followers',\n",
       "   'following_url': 'https://api.github.com/users/fangchenli/following{/other_user}',\n",
       "   'gists_url': 'https://api.github.com/users/fangchenli/gists{/gist_id}',\n",
       "   'starred_url': 'https://api.github.com/users/fangchenli/starred{/owner}{/repo}',\n",
       "   'subscriptions_url': 'https://api.github.com/users/fangchenli/subscriptions',\n",
       "   'organizations_url': 'https://api.github.com/users/fangchenli/orgs',\n",
       "   'repos_url': 'https://api.github.com/users/fangchenli/repos',\n",
       "   'events_url': 'https://api.github.com/users/fangchenli/events{/privacy}',\n",
       "   'received_events_url': 'https://api.github.com/users/fangchenli/received_events',\n",
       "   'type': 'User',\n",
       "   'site_admin': False},\n",
       "  'labels': [{'id': 129350,\n",
       "    'node_id': 'MDU6TGFiZWwxMjkzNTA=',\n",
       "    'url': 'https://api.github.com/repos/pandas-dev/pandas/labels/Build',\n",
       "    'name': 'Build',\n",
       "    'color': '75507B',\n",
       "    'default': False,\n",
       "    'description': 'Library building on various platforms'},\n",
       "   {'id': 219960758,\n",
       "    'node_id': 'MDU6TGFiZWwyMTk5NjA3NTg=',\n",
       "    'url': 'https://api.github.com/repos/pandas-dev/pandas/labels/Needs%20Discussion',\n",
       "    'name': 'Needs Discussion',\n",
       "    'color': '207de5',\n",
       "    'default': False,\n",
       "    'description': None}],\n",
       "  'state': 'open',\n",
       "  'locked': False,\n",
       "  'assignee': None,\n",
       "  'assignees': [],\n",
       "  'milestone': None,\n",
       "  'comments': 0,\n",
       "  'created_at': '2021-01-26T18:47:16Z',\n",
       "  'updated_at': '2021-01-26T18:47:32Z',\n",
       "  'closed_at': None,\n",
       "  'author_association': 'MEMBER',\n",
       "  'active_lock_reason': None,\n",
       "  'body': 'After #38852, we could enable PEP 517 by modifying PATH in setup.py or use non-vendored versioneer. See https://github.com/python-versioneer/python-versioneer/issues/193 for details. ',\n",
       "  'performed_via_github_app': None},\n",
       " {'url': 'https://api.github.com/repos/pandas-dev/pandas/issues/39414',\n",
       "  'repository_url': 'https://api.github.com/repos/pandas-dev/pandas',\n",
       "  'labels_url': 'https://api.github.com/repos/pandas-dev/pandas/issues/39414/labels{/name}',\n",
       "  'comments_url': 'https://api.github.com/repos/pandas-dev/pandas/issues/39414/comments',\n",
       "  'events_url': 'https://api.github.com/repos/pandas-dev/pandas/issues/39414/events',\n",
       "  'html_url': 'https://github.com/pandas-dev/pandas/pull/39414',\n",
       "  'id': 794423350,\n",
       "  'node_id': 'MDExOlB1bGxSZXF1ZXN0NTYxOTQyNjc3',\n",
       "  'number': 39414,\n",
       "  'title': 'update link to config.py in options user guide',\n",
       "  'user': {'login': 'enryH',\n",
       "   'id': 2833836,\n",
       "   'node_id': 'MDQ6VXNlcjI4MzM4MzY=',\n",
       "   'avatar_url': 'https://avatars.githubusercontent.com/u/2833836?v=4',\n",
       "   'gravatar_id': '',\n",
       "   'url': 'https://api.github.com/users/enryH',\n",
       "   'html_url': 'https://github.com/enryH',\n",
       "   'followers_url': 'https://api.github.com/users/enryH/followers',\n",
       "   'following_url': 'https://api.github.com/users/enryH/following{/other_user}',\n",
       "   'gists_url': 'https://api.github.com/users/enryH/gists{/gist_id}',\n",
       "   'starred_url': 'https://api.github.com/users/enryH/starred{/owner}{/repo}',\n",
       "   'subscriptions_url': 'https://api.github.com/users/enryH/subscriptions',\n",
       "   'organizations_url': 'https://api.github.com/users/enryH/orgs',\n",
       "   'repos_url': 'https://api.github.com/users/enryH/repos',\n",
       "   'events_url': 'https://api.github.com/users/enryH/events{/privacy}',\n",
       "   'received_events_url': 'https://api.github.com/users/enryH/received_events',\n",
       "   'type': 'User',\n",
       "   'site_admin': False},\n",
       "  'labels': [{'id': 134699,\n",
       "    'node_id': 'MDU6TGFiZWwxMzQ2OTk=',\n",
       "    'url': 'https://api.github.com/repos/pandas-dev/pandas/labels/Docs',\n",
       "    'name': 'Docs',\n",
       "    'color': '3465A4',\n",
       "    'default': False,\n",
       "    'description': None}],\n",
       "  'state': 'open',\n",
       "  'locked': False,\n",
       "  'assignee': None,\n",
       "  'assignees': [],\n",
       "  'milestone': {'url': 'https://api.github.com/repos/pandas-dev/pandas/milestones/80',\n",
       "   'html_url': 'https://github.com/pandas-dev/pandas/milestone/80',\n",
       "   'labels_url': 'https://api.github.com/repos/pandas-dev/pandas/milestones/80/labels',\n",
       "   'id': 6095818,\n",
       "   'node_id': 'MDk6TWlsZXN0b25lNjA5NTgxOA==',\n",
       "   'number': 80,\n",
       "   'title': '1.3',\n",
       "   'description': '',\n",
       "   'creator': {'login': 'jreback',\n",
       "    'id': 953992,\n",
       "    'node_id': 'MDQ6VXNlcjk1Mzk5Mg==',\n",
       "    'avatar_url': 'https://avatars.githubusercontent.com/u/953992?v=4',\n",
       "    'gravatar_id': '',\n",
       "    'url': 'https://api.github.com/users/jreback',\n",
       "    'html_url': 'https://github.com/jreback',\n",
       "    'followers_url': 'https://api.github.com/users/jreback/followers',\n",
       "    'following_url': 'https://api.github.com/users/jreback/following{/other_user}',\n",
       "    'gists_url': 'https://api.github.com/users/jreback/gists{/gist_id}',\n",
       "    'starred_url': 'https://api.github.com/users/jreback/starred{/owner}{/repo}',\n",
       "    'subscriptions_url': 'https://api.github.com/users/jreback/subscriptions',\n",
       "    'organizations_url': 'https://api.github.com/users/jreback/orgs',\n",
       "    'repos_url': 'https://api.github.com/users/jreback/repos',\n",
       "    'events_url': 'https://api.github.com/users/jreback/events{/privacy}',\n",
       "    'received_events_url': 'https://api.github.com/users/jreback/received_events',\n",
       "    'type': 'User',\n",
       "    'site_admin': False},\n",
       "   'open_issues': 96,\n",
       "   'closed_issues': 602,\n",
       "   'state': 'open',\n",
       "   'created_at': '2020-11-11T19:05:43Z',\n",
       "   'updated_at': '2021-01-27T01:49:57Z',\n",
       "   'due_on': '2021-05-31T07:00:00Z',\n",
       "   'closed_at': None},\n",
       "  'comments': 0,\n",
       "  'created_at': '2021-01-26T17:32:18Z',\n",
       "  'updated_at': '2021-01-27T01:34:58Z',\n",
       "  'closed_at': None,\n",
       "  'author_association': 'NONE',\n",
       "  'active_lock_reason': None,\n",
       "  'pull_request': {'url': 'https://api.github.com/repos/pandas-dev/pandas/pulls/39414',\n",
       "   'html_url': 'https://github.com/pandas-dev/pandas/pull/39414',\n",
       "   'diff_url': 'https://github.com/pandas-dev/pandas/pull/39414.diff',\n",
       "   'patch_url': 'https://github.com/pandas-dev/pandas/pull/39414.patch'},\n",
       "  'body': '- `config.py` now `config_core.py` ?!\\r\\n- maybe also [pandas/_config/config.py](/github.com/pandas-dev/pandas/blob/master/pandas/_config/config.py)\\r\\n\\r\\n- link in [`user_guide/options` ](https://pandas.pydata.org/pandas-docs/stable/user_guide/options.html) changed. ',\n",
       "  'performed_via_github_app': None},\n",
       " {'url': 'https://api.github.com/repos/pandas-dev/pandas/issues/39413',\n",
       "  'repository_url': 'https://api.github.com/repos/pandas-dev/pandas',\n",
       "  'labels_url': 'https://api.github.com/repos/pandas-dev/pandas/issues/39413/labels{/name}',\n",
       "  'comments_url': 'https://api.github.com/repos/pandas-dev/pandas/issues/39413/comments',\n",
       "  'events_url': 'https://api.github.com/repos/pandas-dev/pandas/issues/39413/events',\n",
       "  'html_url': 'https://github.com/pandas-dev/pandas/issues/39413',\n",
       "  'id': 794416126,\n",
       "  'node_id': 'MDU6SXNzdWU3OTQ0MTYxMjY=',\n",
       "  'number': 39413,\n",
       "  'title': 'BUG: Performance regression to_csv when formatting datatime index',\n",
       "  'user': {'login': 'StefRe',\n",
       "   'id': 19879328,\n",
       "   'node_id': 'MDQ6VXNlcjE5ODc5MzI4',\n",
       "   'avatar_url': 'https://avatars.githubusercontent.com/u/19879328?v=4',\n",
       "   'gravatar_id': '',\n",
       "   'url': 'https://api.github.com/users/StefRe',\n",
       "   'html_url': 'https://github.com/StefRe',\n",
       "   'followers_url': 'https://api.github.com/users/StefRe/followers',\n",
       "   'following_url': 'https://api.github.com/users/StefRe/following{/other_user}',\n",
       "   'gists_url': 'https://api.github.com/users/StefRe/gists{/gist_id}',\n",
       "   'starred_url': 'https://api.github.com/users/StefRe/starred{/owner}{/repo}',\n",
       "   'subscriptions_url': 'https://api.github.com/users/StefRe/subscriptions',\n",
       "   'organizations_url': 'https://api.github.com/users/StefRe/orgs',\n",
       "   'repos_url': 'https://api.github.com/users/StefRe/repos',\n",
       "   'events_url': 'https://api.github.com/users/StefRe/events{/privacy}',\n",
       "   'received_events_url': 'https://api.github.com/users/StefRe/received_events',\n",
       "   'type': 'User',\n",
       "   'site_admin': False},\n",
       "  'labels': [{'id': 76811,\n",
       "    'node_id': 'MDU6TGFiZWw3NjgxMQ==',\n",
       "    'url': 'https://api.github.com/repos/pandas-dev/pandas/labels/Bug',\n",
       "    'name': 'Bug',\n",
       "    'color': 'e10c02',\n",
       "    'default': False,\n",
       "    'description': None},\n",
       "   {'id': 1954720290,\n",
       "    'node_id': 'MDU6TGFiZWwxOTU0NzIwMjkw',\n",
       "    'url': 'https://api.github.com/repos/pandas-dev/pandas/labels/Needs%20Triage',\n",
       "    'name': 'Needs Triage',\n",
       "    'color': '0052cc',\n",
       "    'default': False,\n",
       "    'description': 'Issue that has not been reviewed by a pandas team member'}],\n",
       "  'state': 'open',\n",
       "  'locked': False,\n",
       "  'assignee': None,\n",
       "  'assignees': [],\n",
       "  'milestone': None,\n",
       "  'comments': 0,\n",
       "  'created_at': '2021-01-26T17:21:56Z',\n",
       "  'updated_at': '2021-01-26T17:21:56Z',\n",
       "  'closed_at': None,\n",
       "  'author_association': 'CONTRIBUTOR',\n",
       "  'active_lock_reason': None,\n",
       "  'body': \"- [x] I have checked that this issue has not already been reported.\\r\\n\\r\\n- [x] I have confirmed this bug exists on the latest version of pandas.\\r\\n\\r\\n- [ ] (optional) I have confirmed this bug exists on the master branch of pandas.\\r\\n\\r\\n---\\r\\n\\r\\n#### Code Sample, a copy-pastable example\\r\\nAll variants give identical output. The issue is not the different execution time of the individual variants but the performance regression of the first variant. The other variants are just to show that nothing changed here between versions `1.1.5` and `1.2.0`, Version `1.2.1` give the same results as version `1.2.0`.\\r\\n\\r\\n```python\\r\\nimport pandas as pd\\r\\n\\r\\nprint(pd.__version__)\\r\\n\\r\\nn = 100_000\\r\\ndf = pd.DataFrame(index=range(n)).assign(timestamp=pd.to_datetime('2020-01-26 12:34:56'), col1=1)\\r\\n\\r\\n%timeit _ = df.set_index('timestamp').to_csv(date_format='%Y-%m-%d %H:%M:%S')\\r\\n%timeit _ = df.to_csv(index=False)\\r\\n%timeit _ = df.to_csv(date_format='%Y-%m-%d %H:%M:%S', index=False)\\r\\n%timeit _ = df.set_index('timestamp').to_csv()\\r\\n%timeit _ = df.set_index(df.timestamp.dt.strftime('%Y-%m-%d %H:%M:%S')).drop('timestamp',1).to_csv()\\r\\n```\\r\\n\\r\\n#### Problem description\\r\\n\\r\\nUsing a `data_format` for a datetime index in `to_csv` is 3 times slower in version `1.2.0` than in `1.1.5` (\\r\\nsee first row in test output: 2.39 s instead of 807 ms):\\r\\n```\\r\\n1.1.5\\r\\n807 ms ± 4.97 ms per loop (mean ± std. dev. of 7 runs, 1 loop each)\\r\\n269 ms ± 2.4 ms per loop (mean ± std. dev. of 7 runs, 1 loop each)\\r\\n1 s ± 4.99 ms per loop (mean ± std. dev. of 7 runs, 1 loop each)\\r\\n216 ms ± 3.59 ms per loop (mean ± std. dev. of 7 runs, 1 loop each)\\r\\n961 ms ± 4.65 ms per loop (mean ± std. dev. of 7 runs, 1 loop each)\\r\\n\\r\\n1.2.0\\r\\n2.39 s ± 41.4 ms per loop (mean ± std. dev. of 7 runs, 1 loop each)\\r\\n264 ms ± 4.32 ms per loop (mean ± std. dev. of 7 runs, 1 loop each)\\r\\n1.01 s ± 5.4 ms per loop (mean ± std. dev. of 7 runs, 1 loop each)\\r\\n215 ms ± 4.44 ms per loop (mean ± std. dev. of 7 runs, 1 loop each)\\r\\n970 ms ± 5.29 ms per loop (mean ± std. dev. of 7 runs, 1 loop each)\\r\\n```\\r\\nThis might be related to #37484. \\r\\n\\r\\n<details>\\r\\n\\r\\nINSTALLED VERSIONS\\r\\n------------------\\r\\ncommit           : 3e89b4c4b1580aa890023fc550774e63d499da25\\r\\npython           : 3.8.2.final.0\\r\\npython-bits      : 64\\r\\nOS               : Windows\\r\\nOS-release       : 10\\r\\nVersion          : 10.0.18362\\r\\nmachine          : AMD64\\r\\nprocessor        : Intel64 Family 6 Model 158 Stepping 10, GenuineIntel\\r\\nbyteorder        : little\\r\\nLC_ALL           : None\\r\\nLANG             : en\\r\\nLOCALE           : de_DE.cp1252\\r\\n\\r\\npandas           : 1.2.0\\r\\nnumpy            : 1.19.0\\r\\npytz             : 2020.1\\r\\ndateutil         : 2.8.1\\r\\npip              : 20.1.1\\r\\nsetuptools       : 41.2.0\\r\\nCython           : 0.29.14\\r\\npytest           : 5.4.1\\r\\nhypothesis       : None\\r\\nsphinx           : 2.4.4\\r\\nblosc            : None\\r\\nfeather          : None\\r\\nxlsxwriter       : 1.2.9\\r\\nlxml.etree       : 4.5.0\\r\\nhtml5lib         : None\\r\\npymysql          : None\\r\\npsycopg2         : None\\r\\njinja2           : 2.11.1\\r\\nIPython          : 7.13.0\\r\\npandas_datareader: None\\r\\nbs4              : 4.9.1\\r\\nbottleneck       : 1.3.2\\r\\nfsspec           : 0.7.4\\r\\nfastparquet      : None\\r\\ngcsfs            : None\\r\\nmatplotlib       : 3.3.3\\r\\nnumexpr          : None\\r\\nodfpy            : None\\r\\nopenpyxl         : 3.0.4\\r\\npandas_gbq       : None\\r\\npyarrow          : 0.17.0\\r\\npyxlsb           : None\\r\\ns3fs             : None\\r\\nscipy            : 1.6.0\\r\\nsqlalchemy       : 1.3.16\\r\\ntables           : None\\r\\ntabulate         : None\\r\\nxarray           : 0.15.1\\r\\nxlrd             : 1.2.0\\r\\nxlwt             : None\\r\\nnumba            : 0.50.1\\r\\n\\r\\n</details>\\r\\n\",\n",
       "  'performed_via_github_app': None},\n",
       " {'url': 'https://api.github.com/repos/pandas-dev/pandas/issues/39412',\n",
       "  'repository_url': 'https://api.github.com/repos/pandas-dev/pandas',\n",
       "  'labels_url': 'https://api.github.com/repos/pandas-dev/pandas/issues/39412/labels{/name}',\n",
       "  'comments_url': 'https://api.github.com/repos/pandas-dev/pandas/issues/39412/comments',\n",
       "  'events_url': 'https://api.github.com/repos/pandas-dev/pandas/issues/39412/events',\n",
       "  'html_url': 'https://github.com/pandas-dev/pandas/pull/39412',\n",
       "  'id': 794358646,\n",
       "  'node_id': 'MDExOlB1bGxSZXF1ZXN0NTYxODg4NzY1',\n",
       "  'number': 39412,\n",
       "  'title': 'BUG: make Index.where behavior mirror Index.putmask behavior',\n",
       "  'user': {'login': 'jbrockmendel',\n",
       "   'id': 8078968,\n",
       "   'node_id': 'MDQ6VXNlcjgwNzg5Njg=',\n",
       "   'avatar_url': 'https://avatars.githubusercontent.com/u/8078968?v=4',\n",
       "   'gravatar_id': '',\n",
       "   'url': 'https://api.github.com/users/jbrockmendel',\n",
       "   'html_url': 'https://github.com/jbrockmendel',\n",
       "   'followers_url': 'https://api.github.com/users/jbrockmendel/followers',\n",
       "   'following_url': 'https://api.github.com/users/jbrockmendel/following{/other_user}',\n",
       "   'gists_url': 'https://api.github.com/users/jbrockmendel/gists{/gist_id}',\n",
       "   'starred_url': 'https://api.github.com/users/jbrockmendel/starred{/owner}{/repo}',\n",
       "   'subscriptions_url': 'https://api.github.com/users/jbrockmendel/subscriptions',\n",
       "   'organizations_url': 'https://api.github.com/users/jbrockmendel/orgs',\n",
       "   'repos_url': 'https://api.github.com/users/jbrockmendel/repos',\n",
       "   'events_url': 'https://api.github.com/users/jbrockmendel/events{/privacy}',\n",
       "   'received_events_url': 'https://api.github.com/users/jbrockmendel/received_events',\n",
       "   'type': 'User',\n",
       "   'site_admin': False},\n",
       "  'labels': [],\n",
       "  'state': 'open',\n",
       "  'locked': False,\n",
       "  'assignee': None,\n",
       "  'assignees': [],\n",
       "  'milestone': None,\n",
       "  'comments': 0,\n",
       "  'created_at': '2021-01-26T16:08:21Z',\n",
       "  'updated_at': '2021-01-26T17:32:41Z',\n",
       "  'closed_at': None,\n",
       "  'author_association': 'MEMBER',\n",
       "  'active_lock_reason': None,\n",
       "  'pull_request': {'url': 'https://api.github.com/repos/pandas-dev/pandas/pulls/39412',\n",
       "   'html_url': 'https://github.com/pandas-dev/pandas/pull/39412',\n",
       "   'diff_url': 'https://github.com/pandas-dev/pandas/pull/39412.diff',\n",
       "   'patch_url': 'https://github.com/pandas-dev/pandas/pull/39412.patch'},\n",
       "  'body': '- [ ] closes #xxxx\\r\\n- [x] tests added / passed\\r\\n- [x] Ensure all linting tests pass, see [here](https://pandas.pydata.org/pandas-docs/dev/development/contributing.html#code-standards) for how to run them\\r\\n- [ ] whatsnew entry\\r\\n',\n",
       "  'performed_via_github_app': None},\n",
       " {'url': 'https://api.github.com/repos/pandas-dev/pandas/issues/39410',\n",
       "  'repository_url': 'https://api.github.com/repos/pandas-dev/pandas',\n",
       "  'labels_url': 'https://api.github.com/repos/pandas-dev/pandas/issues/39410/labels{/name}',\n",
       "  'comments_url': 'https://api.github.com/repos/pandas-dev/pandas/issues/39410/comments',\n",
       "  'events_url': 'https://api.github.com/repos/pandas-dev/pandas/issues/39410/events',\n",
       "  'html_url': 'https://github.com/pandas-dev/pandas/issues/39410',\n",
       "  'id': 793989942,\n",
       "  'node_id': 'MDU6SXNzdWU3OTM5ODk5NDI=',\n",
       "  'number': 39410,\n",
       "  'title': 'BUG: pd.testing.assert_frame_equal(..., check_exact=True) raises AssertionError when comparing numeric ExtensionDtypes',\n",
       "  'user': {'login': 'apriha',\n",
       "   'id': 5945346,\n",
       "   'node_id': 'MDQ6VXNlcjU5NDUzNDY=',\n",
       "   'avatar_url': 'https://avatars.githubusercontent.com/u/5945346?v=4',\n",
       "   'gravatar_id': '',\n",
       "   'url': 'https://api.github.com/users/apriha',\n",
       "   'html_url': 'https://github.com/apriha',\n",
       "   'followers_url': 'https://api.github.com/users/apriha/followers',\n",
       "   'following_url': 'https://api.github.com/users/apriha/following{/other_user}',\n",
       "   'gists_url': 'https://api.github.com/users/apriha/gists{/gist_id}',\n",
       "   'starred_url': 'https://api.github.com/users/apriha/starred{/owner}{/repo}',\n",
       "   'subscriptions_url': 'https://api.github.com/users/apriha/subscriptions',\n",
       "   'organizations_url': 'https://api.github.com/users/apriha/orgs',\n",
       "   'repos_url': 'https://api.github.com/users/apriha/repos',\n",
       "   'events_url': 'https://api.github.com/users/apriha/events{/privacy}',\n",
       "   'received_events_url': 'https://api.github.com/users/apriha/received_events',\n",
       "   'type': 'User',\n",
       "   'site_admin': False},\n",
       "  'labels': [{'id': 76811,\n",
       "    'node_id': 'MDU6TGFiZWw3NjgxMQ==',\n",
       "    'url': 'https://api.github.com/repos/pandas-dev/pandas/labels/Bug',\n",
       "    'name': 'Bug',\n",
       "    'color': 'e10c02',\n",
       "    'default': False,\n",
       "    'description': None},\n",
       "   {'id': 32815646,\n",
       "    'node_id': 'MDU6TGFiZWwzMjgxNTY0Ng==',\n",
       "    'url': 'https://api.github.com/repos/pandas-dev/pandas/labels/Regression',\n",
       "    'name': 'Regression',\n",
       "    'color': 'e11d21',\n",
       "    'default': False,\n",
       "    'description': 'Functionality that used to work in a prior pandas version'},\n",
       "   {'id': 127685,\n",
       "    'node_id': 'MDU6TGFiZWwxMjc2ODU=',\n",
       "    'url': 'https://api.github.com/repos/pandas-dev/pandas/labels/Testing',\n",
       "    'name': 'Testing',\n",
       "    'color': 'C4A000',\n",
       "    'default': False,\n",
       "    'description': 'Custom testing functions or related to the test suite'}],\n",
       "  'state': 'open',\n",
       "  'locked': False,\n",
       "  'assignee': None,\n",
       "  'assignees': [],\n",
       "  'milestone': {'url': 'https://api.github.com/repos/pandas-dev/pandas/milestones/32',\n",
       "   'html_url': 'https://github.com/pandas-dev/pandas/milestone/32',\n",
       "   'labels_url': 'https://api.github.com/repos/pandas-dev/pandas/milestones/32/labels',\n",
       "   'id': 933188,\n",
       "   'node_id': 'MDk6TWlsZXN0b25lOTMzMTg4',\n",
       "   'number': 32,\n",
       "   'title': 'Contributions Welcome',\n",
       "   'description': 'Changes that would be nice to have in the next release. These issues are not blocking. They will be pushed to the next release if no one has time to fix them.',\n",
       "   'creator': {'login': 'jreback',\n",
       "    'id': 953992,\n",
       "    'node_id': 'MDQ6VXNlcjk1Mzk5Mg==',\n",
       "    'avatar_url': 'https://avatars.githubusercontent.com/u/953992?v=4',\n",
       "    'gravatar_id': '',\n",
       "    'url': 'https://api.github.com/users/jreback',\n",
       "    'html_url': 'https://github.com/jreback',\n",
       "    'followers_url': 'https://api.github.com/users/jreback/followers',\n",
       "    'following_url': 'https://api.github.com/users/jreback/following{/other_user}',\n",
       "    'gists_url': 'https://api.github.com/users/jreback/gists{/gist_id}',\n",
       "    'starred_url': 'https://api.github.com/users/jreback/starred{/owner}{/repo}',\n",
       "    'subscriptions_url': 'https://api.github.com/users/jreback/subscriptions',\n",
       "    'organizations_url': 'https://api.github.com/users/jreback/orgs',\n",
       "    'repos_url': 'https://api.github.com/users/jreback/repos',\n",
       "    'events_url': 'https://api.github.com/users/jreback/events{/privacy}',\n",
       "    'received_events_url': 'https://api.github.com/users/jreback/received_events',\n",
       "    'type': 'User',\n",
       "    'site_admin': False},\n",
       "   'open_issues': 1149,\n",
       "   'closed_issues': 663,\n",
       "   'state': 'open',\n",
       "   'created_at': '2015-01-13T10:53:19Z',\n",
       "   'updated_at': '2021-01-27T00:15:45Z',\n",
       "   'due_on': None,\n",
       "   'closed_at': None},\n",
       "  'comments': 1,\n",
       "  'created_at': '2021-01-26T07:03:35Z',\n",
       "  'updated_at': '2021-01-26T15:29:23Z',\n",
       "  'closed_at': None,\n",
       "  'author_association': 'NONE',\n",
       "  'active_lock_reason': None,\n",
       "  'body': '- [x] I have checked that this issue has not already been reported.\\r\\n\\r\\n- [x] I have confirmed this bug exists on the latest version of pandas.\\r\\n\\r\\n- [ ] (optional) I have confirmed this bug exists on the master branch of pandas.\\r\\n\\r\\n---\\r\\n\\r\\n**Note**: Please read [this guide](https://matthewrocklin.com/blog/work/2018/02/28/minimal-bug-reports) detailing how to provide the necessary information for us to reproduce your bug.\\r\\n\\r\\n#### Code Sample, a copy-pastable example\\r\\n\\r\\n```python\\r\\nimport pandas as pd\\r\\n\\r\\nd = {\"x\": [1, 2]}\\r\\n\\r\\ndf1 = pd.DataFrame(data=d, dtype=pd.UInt32Dtype())\\r\\ndf2 = pd.DataFrame(data=d, dtype=pd.UInt32Dtype())\\r\\n\\r\\npd.testing.assert_frame_equal(df1, df2, check_exact=True)\\r\\n```\\r\\n\\r\\n#### Problem description\\r\\n\\r\\nThe above code raises the following exception:\\r\\n\\r\\n```\\r\\nAssertionError: ndarray Expected type <class \\'numpy.ndarray\\'>, found <class \\'pandas.core.arrays.integer.IntegerArray\\'> instead\\r\\n```\\r\\n\\r\\nInstead, the usage of `pd.testing.assert_frame_equal(..., check_exact=True)` should not raise an exception when comparing numeric `ExtensionDtype`s.\\r\\n\\r\\n#### Expected Output\\r\\n\\r\\nNo exception.\\r\\n\\r\\n#### Output of ``pd.show_versions()``\\r\\n\\r\\n<details>\\r\\n\\r\\nINSTALLED VERSIONS\\r\\n------------------\\r\\ncommit           : 9d598a5e1eee26df95b3910e3f2934890d062caa\\r\\npython           : 3.8.7.final.0\\r\\npython-bits      : 64\\r\\nOS               : Darwin\\r\\nOS-release       : 17.7.0\\r\\nVersion          : Darwin Kernel Version 17.7.0: Fri Oct 30 13:34:27 PDT 2020; root:xnu-4570.71.82.8~1/RELEASE_X86_64\\r\\nmachine          : x86_64\\r\\nprocessor        : i386\\r\\nbyteorder        : little\\r\\nLC_ALL           : None\\r\\nLANG             : en_US.UTF-8\\r\\nLOCALE           : en_US.UTF-8\\r\\n\\r\\npandas           : 1.2.1\\r\\nnumpy            : 1.19.5\\r\\npytz             : 2020.5\\r\\ndateutil         : 2.8.1\\r\\npip              : 20.2.3\\r\\nsetuptools       : 49.2.1\\r\\nCython           : None\\r\\npytest           : None\\r\\nhypothesis       : None\\r\\nsphinx           : None\\r\\nblosc            : None\\r\\nfeather          : None\\r\\nxlsxwriter       : None\\r\\nlxml.etree       : None\\r\\nhtml5lib         : None\\r\\npymysql          : None\\r\\npsycopg2         : None\\r\\njinja2           : None\\r\\nIPython          : None\\r\\npandas_datareader: None\\r\\nbs4              : None\\r\\nbottleneck       : None\\r\\nfsspec           : None\\r\\nfastparquet      : None\\r\\ngcsfs            : None\\r\\nmatplotlib       : None\\r\\nnumexpr          : None\\r\\nodfpy            : None\\r\\nopenpyxl         : None\\r\\npandas_gbq       : None\\r\\npyarrow          : None\\r\\npyxlsb           : None\\r\\ns3fs             : None\\r\\nscipy            : None\\r\\nsqlalchemy       : None\\r\\ntables           : None\\r\\ntabulate         : None\\r\\nxarray           : None\\r\\nxlrd             : None\\r\\nxlwt             : None\\r\\nnumba            : None\\r\\n\\r\\n</details>\\r\\n',\n",
       "  'performed_via_github_app': None},\n",
       " {'url': 'https://api.github.com/repos/pandas-dev/pandas/issues/39409',\n",
       "  'repository_url': 'https://api.github.com/repos/pandas-dev/pandas',\n",
       "  'labels_url': 'https://api.github.com/repos/pandas-dev/pandas/issues/39409/labels{/name}',\n",
       "  'comments_url': 'https://api.github.com/repos/pandas-dev/pandas/issues/39409/comments',\n",
       "  'events_url': 'https://api.github.com/repos/pandas-dev/pandas/issues/39409/events',\n",
       "  'html_url': 'https://github.com/pandas-dev/pandas/pull/39409',\n",
       "  'id': 793926821,\n",
       "  'node_id': 'MDExOlB1bGxSZXF1ZXN0NTYxNTI4MDQ1',\n",
       "  'number': 39409,\n",
       "  'title': 'ENH: recognize Decimal(\"NaN\") in pd.isna',\n",
       "  'user': {'login': 'jbrockmendel',\n",
       "   'id': 8078968,\n",
       "   'node_id': 'MDQ6VXNlcjgwNzg5Njg=',\n",
       "   'avatar_url': 'https://avatars.githubusercontent.com/u/8078968?v=4',\n",
       "   'gravatar_id': '',\n",
       "   'url': 'https://api.github.com/users/jbrockmendel',\n",
       "   'html_url': 'https://github.com/jbrockmendel',\n",
       "   'followers_url': 'https://api.github.com/users/jbrockmendel/followers',\n",
       "   'following_url': 'https://api.github.com/users/jbrockmendel/following{/other_user}',\n",
       "   'gists_url': 'https://api.github.com/users/jbrockmendel/gists{/gist_id}',\n",
       "   'starred_url': 'https://api.github.com/users/jbrockmendel/starred{/owner}{/repo}',\n",
       "   'subscriptions_url': 'https://api.github.com/users/jbrockmendel/subscriptions',\n",
       "   'organizations_url': 'https://api.github.com/users/jbrockmendel/orgs',\n",
       "   'repos_url': 'https://api.github.com/users/jbrockmendel/repos',\n",
       "   'events_url': 'https://api.github.com/users/jbrockmendel/events{/privacy}',\n",
       "   'received_events_url': 'https://api.github.com/users/jbrockmendel/received_events',\n",
       "   'type': 'User',\n",
       "   'site_admin': False},\n",
       "  'labels': [],\n",
       "  'state': 'open',\n",
       "  'locked': False,\n",
       "  'assignee': None,\n",
       "  'assignees': [],\n",
       "  'milestone': None,\n",
       "  'comments': 1,\n",
       "  'created_at': '2021-01-26T04:53:43Z',\n",
       "  'updated_at': '2021-01-27T00:49:31Z',\n",
       "  'closed_at': None,\n",
       "  'author_association': 'MEMBER',\n",
       "  'active_lock_reason': None,\n",
       "  'pull_request': {'url': 'https://api.github.com/repos/pandas-dev/pandas/pulls/39409',\n",
       "   'html_url': 'https://github.com/pandas-dev/pandas/pull/39409',\n",
       "   'diff_url': 'https://github.com/pandas-dev/pandas/pull/39409.diff',\n",
       "   'patch_url': 'https://github.com/pandas-dev/pandas/pull/39409.patch'},\n",
       "  'body': '- [x] closes #23530\\r\\n- [ ] tests added / passed\\r\\n- [] Ensure all linting tests pass, see [here](https://pandas.pydata.org/pandas-docs/dev/development/contributing.html#code-standards) for how to run them\\r\\n- [ ] whatsnew entry\\r\\n\\r\\nDiscussion in #23530 seems ambivalent on whether this is desirable, and I don\\'t have a strong opinion on it in general.  BUT tm.assert_foo_equal is incorrect with Decimal(\"NaN\") ATM and id like to see that fixed.\\r\\n\\r\\nxref #32206',\n",
       "  'performed_via_github_app': None},\n",
       " {'url': 'https://api.github.com/repos/pandas-dev/pandas/issues/39403',\n",
       "  'repository_url': 'https://api.github.com/repos/pandas-dev/pandas',\n",
       "  'labels_url': 'https://api.github.com/repos/pandas-dev/pandas/issues/39403/labels{/name}',\n",
       "  'comments_url': 'https://api.github.com/repos/pandas-dev/pandas/issues/39403/comments',\n",
       "  'events_url': 'https://api.github.com/repos/pandas-dev/pandas/issues/39403/events',\n",
       "  'html_url': 'https://github.com/pandas-dev/pandas/pull/39403',\n",
       "  'id': 793703254,\n",
       "  'node_id': 'MDExOlB1bGxSZXF1ZXN0NTYxMzQ2MTkx',\n",
       "  'number': 39403,\n",
       "  'title': 'Clean up DataFrame.setitem behavior for duplicate columns',\n",
       "  'user': {'login': 'phofl',\n",
       "   'id': 61934744,\n",
       "   'node_id': 'MDQ6VXNlcjYxOTM0NzQ0',\n",
       "   'avatar_url': 'https://avatars.githubusercontent.com/u/61934744?v=4',\n",
       "   'gravatar_id': '',\n",
       "   'url': 'https://api.github.com/users/phofl',\n",
       "   'html_url': 'https://github.com/phofl',\n",
       "   'followers_url': 'https://api.github.com/users/phofl/followers',\n",
       "   'following_url': 'https://api.github.com/users/phofl/following{/other_user}',\n",
       "   'gists_url': 'https://api.github.com/users/phofl/gists{/gist_id}',\n",
       "   'starred_url': 'https://api.github.com/users/phofl/starred{/owner}{/repo}',\n",
       "   'subscriptions_url': 'https://api.github.com/users/phofl/subscriptions',\n",
       "   'organizations_url': 'https://api.github.com/users/phofl/orgs',\n",
       "   'repos_url': 'https://api.github.com/users/phofl/repos',\n",
       "   'events_url': 'https://api.github.com/users/phofl/events{/privacy}',\n",
       "   'received_events_url': 'https://api.github.com/users/phofl/received_events',\n",
       "   'type': 'User',\n",
       "   'site_admin': False},\n",
       "  'labels': [{'id': 2822098,\n",
       "    'node_id': 'MDU6TGFiZWwyODIyMDk4',\n",
       "    'url': 'https://api.github.com/repos/pandas-dev/pandas/labels/Indexing',\n",
       "    'name': 'Indexing',\n",
       "    'color': '0b02e1',\n",
       "    'default': False,\n",
       "    'description': 'Related to indexing on series/frames, not to indexes themselves'},\n",
       "   {'id': 127681,\n",
       "    'node_id': 'MDU6TGFiZWwxMjc2ODE=',\n",
       "    'url': 'https://api.github.com/repos/pandas-dev/pandas/labels/Refactor',\n",
       "    'name': 'Refactor',\n",
       "    'color': 'FCE94F',\n",
       "    'default': False,\n",
       "    'description': 'Internal refactoring of code'}],\n",
       "  'state': 'open',\n",
       "  'locked': False,\n",
       "  'assignee': None,\n",
       "  'assignees': [],\n",
       "  'milestone': None,\n",
       "  'comments': 1,\n",
       "  'created_at': '2021-01-25T20:30:25Z',\n",
       "  'updated_at': '2021-01-27T04:20:15Z',\n",
       "  'closed_at': None,\n",
       "  'author_association': 'MEMBER',\n",
       "  'active_lock_reason': None,\n",
       "  'pull_request': {'url': 'https://api.github.com/repos/pandas-dev/pandas/pulls/39403',\n",
       "   'html_url': 'https://github.com/pandas-dev/pandas/pull/39403',\n",
       "   'diff_url': 'https://github.com/pandas-dev/pandas/pull/39403.diff',\n",
       "   'patch_url': 'https://github.com/pandas-dev/pandas/pull/39403.patch'},\n",
       "  'body': '- [x] tests added / passed\\r\\n- [x] Ensure all linting tests pass, see [here](https://pandas.pydata.org/pandas-docs/dev/development/contributing.html#code-standards) for how to run them\\r\\n\\r\\ncc  @jbrockmendel This cleans the edgy behavior up for duplicate columns.\\r\\n\\r\\nPrevious test was wrong.',\n",
       "  'performed_via_github_app': None},\n",
       " {'url': 'https://api.github.com/repos/pandas-dev/pandas/issues/39402',\n",
       "  'repository_url': 'https://api.github.com/repos/pandas-dev/pandas',\n",
       "  'labels_url': 'https://api.github.com/repos/pandas-dev/pandas/issues/39402/labels{/name}',\n",
       "  'comments_url': 'https://api.github.com/repos/pandas-dev/pandas/issues/39402/comments',\n",
       "  'events_url': 'https://api.github.com/repos/pandas-dev/pandas/issues/39402/events',\n",
       "  'html_url': 'https://github.com/pandas-dev/pandas/issues/39402',\n",
       "  'id': 793689411,\n",
       "  'node_id': 'MDU6SXNzdWU3OTM2ODk0MTE=',\n",
       "  'number': 39402,\n",
       "  'title': 'BUG: astype from categorical to np.int32 conversion returns np.int64 in pandas 1.2.0 and 1.2.0',\n",
       "  'user': {'login': 'wchang778',\n",
       "   'id': 20376338,\n",
       "   'node_id': 'MDQ6VXNlcjIwMzc2MzM4',\n",
       "   'avatar_url': 'https://avatars.githubusercontent.com/u/20376338?v=4',\n",
       "   'gravatar_id': '',\n",
       "   'url': 'https://api.github.com/users/wchang778',\n",
       "   'html_url': 'https://github.com/wchang778',\n",
       "   'followers_url': 'https://api.github.com/users/wchang778/followers',\n",
       "   'following_url': 'https://api.github.com/users/wchang778/following{/other_user}',\n",
       "   'gists_url': 'https://api.github.com/users/wchang778/gists{/gist_id}',\n",
       "   'starred_url': 'https://api.github.com/users/wchang778/starred{/owner}{/repo}',\n",
       "   'subscriptions_url': 'https://api.github.com/users/wchang778/subscriptions',\n",
       "   'organizations_url': 'https://api.github.com/users/wchang778/orgs',\n",
       "   'repos_url': 'https://api.github.com/users/wchang778/repos',\n",
       "   'events_url': 'https://api.github.com/users/wchang778/events{/privacy}',\n",
       "   'received_events_url': 'https://api.github.com/users/wchang778/received_events',\n",
       "   'type': 'User',\n",
       "   'site_admin': False},\n",
       "  'labels': [{'id': 76811,\n",
       "    'node_id': 'MDU6TGFiZWw3NjgxMQ==',\n",
       "    'url': 'https://api.github.com/repos/pandas-dev/pandas/labels/Bug',\n",
       "    'name': 'Bug',\n",
       "    'color': 'e10c02',\n",
       "    'default': False,\n",
       "    'description': None},\n",
       "   {'id': 78527356,\n",
       "    'node_id': 'MDU6TGFiZWw3ODUyNzM1Ng==',\n",
       "    'url': 'https://api.github.com/repos/pandas-dev/pandas/labels/Categorical',\n",
       "    'name': 'Categorical',\n",
       "    'color': 'e11d21',\n",
       "    'default': False,\n",
       "    'description': 'Categorical Data Type'},\n",
       "   {'id': 31404521,\n",
       "    'node_id': 'MDU6TGFiZWwzMTQwNDUyMQ==',\n",
       "    'url': 'https://api.github.com/repos/pandas-dev/pandas/labels/Dtypes',\n",
       "    'name': 'Dtypes',\n",
       "    'color': 'e102d8',\n",
       "    'default': False,\n",
       "    'description': None},\n",
       "   {'id': 32815646,\n",
       "    'node_id': 'MDU6TGFiZWwzMjgxNTY0Ng==',\n",
       "    'url': 'https://api.github.com/repos/pandas-dev/pandas/labels/Regression',\n",
       "    'name': 'Regression',\n",
       "    'color': 'e11d21',\n",
       "    'default': False,\n",
       "    'description': 'Functionality that used to work in a prior pandas version'}],\n",
       "  'state': 'open',\n",
       "  'locked': False,\n",
       "  'assignee': None,\n",
       "  'assignees': [],\n",
       "  'milestone': {'url': 'https://api.github.com/repos/pandas-dev/pandas/milestones/82',\n",
       "   'html_url': 'https://github.com/pandas-dev/pandas/milestone/82',\n",
       "   'labels_url': 'https://api.github.com/repos/pandas-dev/pandas/milestones/82/labels',\n",
       "   'id': 6317919,\n",
       "   'node_id': 'MDk6TWlsZXN0b25lNjMxNzkxOQ==',\n",
       "   'number': 82,\n",
       "   'title': '1.2.2',\n",
       "   'description': 'on-merge: backport to 1.2.x',\n",
       "   'creator': {'login': 'jreback',\n",
       "    'id': 953992,\n",
       "    'node_id': 'MDQ6VXNlcjk1Mzk5Mg==',\n",
       "    'avatar_url': 'https://avatars.githubusercontent.com/u/953992?v=4',\n",
       "    'gravatar_id': '',\n",
       "    'url': 'https://api.github.com/users/jreback',\n",
       "    'html_url': 'https://github.com/jreback',\n",
       "    'followers_url': 'https://api.github.com/users/jreback/followers',\n",
       "    'following_url': 'https://api.github.com/users/jreback/following{/other_user}',\n",
       "    'gists_url': 'https://api.github.com/users/jreback/gists{/gist_id}',\n",
       "    'starred_url': 'https://api.github.com/users/jreback/starred{/owner}{/repo}',\n",
       "    'subscriptions_url': 'https://api.github.com/users/jreback/subscriptions',\n",
       "    'organizations_url': 'https://api.github.com/users/jreback/orgs',\n",
       "    'repos_url': 'https://api.github.com/users/jreback/repos',\n",
       "    'events_url': 'https://api.github.com/users/jreback/events{/privacy}',\n",
       "    'received_events_url': 'https://api.github.com/users/jreback/received_events',\n",
       "    'type': 'User',\n",
       "    'site_admin': False},\n",
       "   'open_issues': 15,\n",
       "   'closed_issues': 10,\n",
       "   'state': 'open',\n",
       "   'created_at': '2021-01-16T01:20:17Z',\n",
       "   'updated_at': '2021-01-26T23:33:10Z',\n",
       "   'due_on': '2021-02-07T08:00:00Z',\n",
       "   'closed_at': None},\n",
       "  'comments': 2,\n",
       "  'created_at': '2021-01-25T20:08:58Z',\n",
       "  'updated_at': '2021-01-26T20:17:41Z',\n",
       "  'closed_at': None,\n",
       "  'author_association': 'NONE',\n",
       "  'active_lock_reason': None,\n",
       "  'body': \"- [x ] I have checked that this issue has not already been reported.\\r\\n\\r\\n- [x ] I have confirmed this bug exists on the latest version of pandas.\\r\\n\\r\\n- [ ] (optional) I have confirmed this bug exists on the master branch of pandas.\\r\\n\\r\\n---\\r\\n\\r\\n**Note**: Please read [this guide](https://matthewrocklin.com/blog/work/2018/02/28/minimal-bug-reports) detailing how to provide the necessary information for us to reproduce your bug.\\r\\n\\r\\n#### Code Sample, a copy-pastable example\\r\\n\\r\\n```python\\r\\n# Your code here\\r\\n# numpy=1.18.5, pandas=1.2.x (has issue), pandas = 1.1.5 (no issue)\\r\\nimport pandas as pd\\r\\nimport numpy as pd\\r\\n\\r\\ndf  = pd.DataFrame(data={'column1': [2.0, -1.0, 3.0]})\\r\\ndf.column1 = df.column1.astype('category')\\r\\ndf.column1 = df.column1.astype(np.int32)\\r\\nassert df.column1.dtype.type == np.int32 # fails in pandas 1.2.x, returns np.int64\\r\\n\\r\\n```\\r\\n\\r\\n#### Problem description\\r\\n\\r\\n[this should explain **why** the current behaviour is a problem and why the expected output is a better solution]\\r\\nin pandas 1.1.5 astype correctly returning np.int32 as the column1 dtype.\\r\\nThis is expected as we are trying to convert this categorical col into np.int32.\\r\\nNow it returns np.int64 in pandas 1.2.x\\r\\n\\r\\n#### Expected Output\\r\\nno assertion error\\r\\n#### Output of ``pd.show_versions()``\\r\\nINSTALLED VERSIONS\\r\\n------------------\\r\\ncommit           : 3e89b4c4b1580aa890023fc550774e63d499da25\\r\\npython           : 3.8.5.final.0\\r\\npython-bits      : 64\\r\\nOS               : Windows\\r\\nOS-release       : 10\\r\\nVersion          : 10.0.17763\\r\\nmachine          : AMD64\\r\\nprocessor        : Intel64 Family 6 Model 79 Stepping 1, GenuineIntel\\r\\nbyteorder        : little\\r\\nLC_ALL           : None\\r\\nLANG             : en_US.UTF-8\\r\\nLOCALE           : English_United States.1252\\r\\n\\r\\npandas           : 1.2.0\\r\\nnumpy            : 1.18.5\\r\\npytz             : 2020.5\\r\\ndateutil         : 2.8.1\\r\\npip              : 20.1.1\\r\\nsetuptools       : 51.3.3.post20210118\\r\\nCython           : None\\r\\npytest           : 5.4.3\\r\\nhypothesis       : None\\r\\nsphinx           : None\\r\\nblosc            : None\\r\\nfeather          : None\\r\\nxlsxwriter       : 1.3.7\\r\\nlxml.etree       : None\\r\\nhtml5lib         : None\\r\\npymysql          : None\\r\\npsycopg2         : None\\r\\njinja2           : 2.11.2\\r\\nIPython          : 7.19.0\\r\\npandas_datareader: None\\r\\nbs4              : None\\r\\nbottleneck       : None\\r\\nfsspec           : None\\r\\nfastparquet      : None\\r\\ngcsfs            : None\\r\\nmatplotlib       : None\\r\\nnumexpr          : None\\r\\nodfpy            : None\\r\\nopenpyxl         : None\\r\\npandas_gbq       : None\\r\\npyarrow          : 2.0.0\\r\\npyxlsb           : None\\r\\ns3fs             : None\\r\\nscipy            : 1.6.0\\r\\nsqlalchemy       : 1.3.22\\r\\ntables           : None\\r\\ntabulate         : None\\r\\nxarray           : None\\r\\nxlrd             : None\\r\\nxlwt             : None\\r\\nnumba            : None\\r\\n\\r\\n<details>\\r\\n\\r\\n[paste the output of ``pd.show_versions()`` here leaving a blank line after the details tag]\\r\\npd.show_versions()\\r\\n</details>\\r\\n\",\n",
       "  'performed_via_github_app': None},\n",
       " {'url': 'https://api.github.com/repos/pandas-dev/pandas/issues/39401',\n",
       "  'repository_url': 'https://api.github.com/repos/pandas-dev/pandas',\n",
       "  'labels_url': 'https://api.github.com/repos/pandas-dev/pandas/issues/39401/labels{/name}',\n",
       "  'comments_url': 'https://api.github.com/repos/pandas-dev/pandas/issues/39401/comments',\n",
       "  'events_url': 'https://api.github.com/repos/pandas-dev/pandas/issues/39401/events',\n",
       "  'html_url': 'https://github.com/pandas-dev/pandas/issues/39401',\n",
       "  'id': 793607430,\n",
       "  'node_id': 'MDU6SXNzdWU3OTM2MDc0MzA=',\n",
       "  'number': 39401,\n",
       "  'title': 'ValueError when concatenating a length-one, reversed object',\n",
       "  'user': {'login': 'ahawryluk',\n",
       "   'id': 50434302,\n",
       "   'node_id': 'MDQ6VXNlcjUwNDM0MzAy',\n",
       "   'avatar_url': 'https://avatars.githubusercontent.com/u/50434302?v=4',\n",
       "   'gravatar_id': '',\n",
       "   'url': 'https://api.github.com/users/ahawryluk',\n",
       "   'html_url': 'https://github.com/ahawryluk',\n",
       "   'followers_url': 'https://api.github.com/users/ahawryluk/followers',\n",
       "   'following_url': 'https://api.github.com/users/ahawryluk/following{/other_user}',\n",
       "   'gists_url': 'https://api.github.com/users/ahawryluk/gists{/gist_id}',\n",
       "   'starred_url': 'https://api.github.com/users/ahawryluk/starred{/owner}{/repo}',\n",
       "   'subscriptions_url': 'https://api.github.com/users/ahawryluk/subscriptions',\n",
       "   'organizations_url': 'https://api.github.com/users/ahawryluk/orgs',\n",
       "   'repos_url': 'https://api.github.com/users/ahawryluk/repos',\n",
       "   'events_url': 'https://api.github.com/users/ahawryluk/events{/privacy}',\n",
       "   'received_events_url': 'https://api.github.com/users/ahawryluk/received_events',\n",
       "   'type': 'User',\n",
       "   'site_admin': False},\n",
       "  'labels': [{'id': 13098779,\n",
       "    'node_id': 'MDU6TGFiZWwxMzA5ODc3OQ==',\n",
       "    'url': 'https://api.github.com/repos/pandas-dev/pandas/labels/Reshaping',\n",
       "    'name': 'Reshaping',\n",
       "    'color': '02d7e1',\n",
       "    'default': False,\n",
       "    'description': 'Concat, Merge/Join, Stack/Unstack'}],\n",
       "  'state': 'open',\n",
       "  'locked': False,\n",
       "  'assignee': None,\n",
       "  'assignees': [],\n",
       "  'milestone': {'url': 'https://api.github.com/repos/pandas-dev/pandas/milestones/32',\n",
       "   'html_url': 'https://github.com/pandas-dev/pandas/milestone/32',\n",
       "   'labels_url': 'https://api.github.com/repos/pandas-dev/pandas/milestones/32/labels',\n",
       "   'id': 933188,\n",
       "   'node_id': 'MDk6TWlsZXN0b25lOTMzMTg4',\n",
       "   'number': 32,\n",
       "   'title': 'Contributions Welcome',\n",
       "   'description': 'Changes that would be nice to have in the next release. These issues are not blocking. They will be pushed to the next release if no one has time to fix them.',\n",
       "   'creator': {'login': 'jreback',\n",
       "    'id': 953992,\n",
       "    'node_id': 'MDQ6VXNlcjk1Mzk5Mg==',\n",
       "    'avatar_url': 'https://avatars.githubusercontent.com/u/953992?v=4',\n",
       "    'gravatar_id': '',\n",
       "    'url': 'https://api.github.com/users/jreback',\n",
       "    'html_url': 'https://github.com/jreback',\n",
       "    'followers_url': 'https://api.github.com/users/jreback/followers',\n",
       "    'following_url': 'https://api.github.com/users/jreback/following{/other_user}',\n",
       "    'gists_url': 'https://api.github.com/users/jreback/gists{/gist_id}',\n",
       "    'starred_url': 'https://api.github.com/users/jreback/starred{/owner}{/repo}',\n",
       "    'subscriptions_url': 'https://api.github.com/users/jreback/subscriptions',\n",
       "    'organizations_url': 'https://api.github.com/users/jreback/orgs',\n",
       "    'repos_url': 'https://api.github.com/users/jreback/repos',\n",
       "    'events_url': 'https://api.github.com/users/jreback/events{/privacy}',\n",
       "    'received_events_url': 'https://api.github.com/users/jreback/received_events',\n",
       "    'type': 'User',\n",
       "    'site_admin': False},\n",
       "   'open_issues': 1149,\n",
       "   'closed_issues': 663,\n",
       "   'state': 'open',\n",
       "   'created_at': '2015-01-13T10:53:19Z',\n",
       "   'updated_at': '2021-01-27T00:15:45Z',\n",
       "   'due_on': None,\n",
       "   'closed_at': None},\n",
       "  'comments': 1,\n",
       "  'created_at': '2021-01-25T18:08:48Z',\n",
       "  'updated_at': '2021-01-26T15:11:48Z',\n",
       "  'closed_at': None,\n",
       "  'author_association': 'NONE',\n",
       "  'active_lock_reason': None,\n",
       "  'body': 'The following code should return a new Series with a single value, but raises a ValueError:\\r\\n```python\\r\\nimport pandas as pd\\r\\ns = pd.Series([100])\\r\\npd.concat([s.iloc[::-1]])\\r\\n```\\r\\n\\r\\nThe corresponding example with a DataFrame also raises a ValueError:\\r\\n```python\\r\\nimport pandas as pd\\r\\ndf = pd.DataFrame([100])\\r\\npd.concat([df.iloc[::-1]])\\r\\n```\\r\\n\\r\\nThe DataFrame version can be reproduced with multiple columns, but any of the following modifications will prevent the bug:\\r\\n\\r\\n- create Series or DataFrame with len > 1\\r\\n- concatenate more than one object\\r\\n- remove the reversing operation `.iloc[::-1]`\\r\\n- pass ignore_index=True to pd.concat\\r\\n\\r\\nThis bug appeared as an edge case in a function that usually handles DataFrames with multiple rows.\\r\\n\\r\\n<details>\\r\\n<summary>Traceback for the Series example</summary>\\r\\n\\r\\n```\\r\\nC:\\\\Anaconda3\\\\lib\\\\site-packages\\\\pandas\\\\core\\\\reshape\\\\concat.py in concat(objs, axis, join, ignore_index, keys, levels, names, verify_integrity, sort, copy)\\r\\n    296     )\\r\\n    297\\r\\n--> 298     return op.get_result()\\r\\n    299\\r\\n    300\\r\\n\\r\\nC:\\\\Anaconda3\\\\lib\\\\site-packages\\\\pandas\\\\core\\\\reshape\\\\concat.py in get_result(self)\\r\\n    483\\r\\n    484                 res = concat_compat(arrs, axis=0)\\r\\n--> 485                 result = cons(res, index=self.new_axes[0], name=name, dtype=res.dtype)\\r\\n    486                 return result.__finalize__(self, method=\"concat\")\\r\\n    487\\r\\n\\r\\nC:\\\\Anaconda3\\\\lib\\\\site-packages\\\\pandas\\\\core\\\\series.py in __init__(self, data, index, dtype, name, copy, fastpath)\\r\\n    320                     if len(index) != len(data):\\r\\n    321                         raise ValueError(\\r\\n--> 322                             f\"Length of passed values is {len(data)}, \"\\r\\n    323                             f\"index implies {len(index)}.\"\\r\\n    324                         )\\r\\n\\r\\nValueError: Length of passed values is 1, index implies 0.\\r\\n```\\r\\n\\r\\n</details>\\r\\n\\r\\n<details>\\r\\n<summary>Traceback for the DataFrame example</summary>\\r\\n\\r\\n```\\r\\nC:\\\\Anaconda3\\\\lib\\\\site-packages\\\\pandas\\\\core\\\\reshape\\\\concat.py in concat(objs, axis, join, ignore_index, keys, levels, names, verify_integrity, sort, copy)\\r\\n    296     )\\r\\n    297\\r\\n--> 298     return op.get_result()\\r\\n    299\\r\\n    300\\r\\n\\r\\nC:\\\\Anaconda3\\\\lib\\\\site-packages\\\\pandas\\\\core\\\\reshape\\\\concat.py in get_result(self)\\r\\n    519\\r\\n    520             new_data = concatenate_block_managers(\\r\\n--> 521                 mgrs_indexers, self.new_axes, concat_axis=self.bm_axis, copy=self.copy\\r\\n    522             )\\r\\n    523             if not self.copy:\\r\\n\\r\\nC:\\\\Anaconda3\\\\lib\\\\site-packages\\\\pandas\\\\core\\\\internals\\\\concat.py in concatenate_block_managers(mgrs_indexers, axes, concat_axis, copy)\\r\\n     87         blocks.append(b)\\r\\n     88\\r\\n---> 89     return BlockManager(blocks, axes)\\r\\n     90\\r\\n     91\\r\\n\\r\\nC:\\\\Anaconda3\\\\lib\\\\site-packages\\\\pandas\\\\core\\\\internals\\\\managers.py in __init__(self, blocks, axes, do_integrity_check)\\r\\n    141\\r\\n    142         if do_integrity_check:\\r\\n--> 143             self._verify_integrity()\\r\\n    144\\r\\n    145         # Populate known_consolidate, blknos, and blklocs lazily\\r\\n\\r\\nC:\\\\Anaconda3\\\\lib\\\\site-packages\\\\pandas\\\\core\\\\internals\\\\managers.py in _verify_integrity(self)\\r\\n    321         for block in self.blocks:\\r\\n    322             if block.shape[1:] != mgr_shape[1:]:\\r\\n--> 323                 raise construction_error(tot_items, block.shape[1:], self.axes)\\r\\n    324         if len(self.items) != tot_items:\\r\\n    325             raise AssertionError(\\r\\n\\r\\nValueError: Shape of passed values is (1, 1), indices imply (0, 1)\\r\\n```\\r\\n\\r\\n</details>\\r\\n\\r\\n<details>\\r\\n<summary>pd.show_versions()</summary>\\r\\n\\r\\n```\\r\\nINSTALLED VERSIONS\\r\\n------------------\\r\\ncommit           : 9d598a5e1eee26df95b3910e3f2934890d062caa\\r\\npython           : 3.8.5.final.0\\r\\npython-bits      : 64\\r\\nOS               : Windows\\r\\nOS-release       : 10\\r\\nVersion          : 10.0.17763\\r\\nmachine          : AMD64\\r\\nprocessor        : Intel64 Family 6 Model 63 Stepping 2, GenuineIntel\\r\\nbyteorder        : little\\r\\nLC_ALL           : None\\r\\nLANG             : None\\r\\nLOCALE           : English_Canada.1252\\r\\n\\r\\npandas           : 1.2.1\\r\\nnumpy            : 1.19.2\\r\\npytz             : 2020.5\\r\\ndateutil         : 2.8.1\\r\\npip              : 20.3.3\\r\\nsetuptools       : 51.3.3.post20210118\\r\\nCython           : 0.29.21\\r\\npytest           : 6.2.1\\r\\nhypothesis       : None\\r\\nsphinx           : 3.4.3\\r\\nblosc            : None\\r\\nfeather          : None\\r\\nxlsxwriter       : 1.3.7\\r\\nlxml.etree       : 4.6.2\\r\\nhtml5lib         : 1.1\\r\\npymysql          : None\\r\\npsycopg2         : None\\r\\njinja2           : 2.11.2\\r\\nIPython          : 7.19.0\\r\\npandas_datareader: None\\r\\nbs4              : 4.9.3\\r\\nbottleneck       : 1.3.2\\r\\nfsspec           : 0.8.3\\r\\nfastparquet      : None\\r\\ngcsfs            : None\\r\\nmatplotlib       : 3.3.2\\r\\nnumexpr          : 2.7.2\\r\\nodfpy            : None\\r\\nopenpyxl         : 3.0.6\\r\\npandas_gbq       : None\\r\\npyarrow          : None\\r\\npyxlsb           : None\\r\\ns3fs             : None\\r\\nscipy            : 1.5.2\\r\\nsqlalchemy       : 1.3.21\\r\\ntables           : 3.6.1\\r\\ntabulate         : None\\r\\nxarray           : None\\r\\nxlrd             : 2.0.1\\r\\nxlwt             : 1.3.0\\r\\nnumba            : 0.51.2\\r\\n```\\r\\n\\r\\n</details>',\n",
       "  'performed_via_github_app': None},\n",
       " {'url': 'https://api.github.com/repos/pandas-dev/pandas/issues/39400',\n",
       "  'repository_url': 'https://api.github.com/repos/pandas-dev/pandas',\n",
       "  'labels_url': 'https://api.github.com/repos/pandas-dev/pandas/issues/39400/labels{/name}',\n",
       "  'comments_url': 'https://api.github.com/repos/pandas-dev/pandas/issues/39400/comments',\n",
       "  'events_url': 'https://api.github.com/repos/pandas-dev/pandas/issues/39400/events',\n",
       "  'html_url': 'https://github.com/pandas-dev/pandas/issues/39400',\n",
       "  'id': 793587715,\n",
       "  'node_id': 'MDU6SXNzdWU3OTM1ODc3MTU=',\n",
       "  'number': 39400,\n",
       "  'title': 'QST: Styler puts all CSS ids on a single attribute which is not rendered',\n",
       "  'user': {'login': 'NewtonXu',\n",
       "   'id': 19276367,\n",
       "   'node_id': 'MDQ6VXNlcjE5Mjc2MzY3',\n",
       "   'avatar_url': 'https://avatars.githubusercontent.com/u/19276367?v=4',\n",
       "   'gravatar_id': '',\n",
       "   'url': 'https://api.github.com/users/NewtonXu',\n",
       "   'html_url': 'https://github.com/NewtonXu',\n",
       "   'followers_url': 'https://api.github.com/users/NewtonXu/followers',\n",
       "   'following_url': 'https://api.github.com/users/NewtonXu/following{/other_user}',\n",
       "   'gists_url': 'https://api.github.com/users/NewtonXu/gists{/gist_id}',\n",
       "   'starred_url': 'https://api.github.com/users/NewtonXu/starred{/owner}{/repo}',\n",
       "   'subscriptions_url': 'https://api.github.com/users/NewtonXu/subscriptions',\n",
       "   'organizations_url': 'https://api.github.com/users/NewtonXu/orgs',\n",
       "   'repos_url': 'https://api.github.com/users/NewtonXu/repos',\n",
       "   'events_url': 'https://api.github.com/users/NewtonXu/events{/privacy}',\n",
       "   'received_events_url': 'https://api.github.com/users/NewtonXu/received_events',\n",
       "   'type': 'User',\n",
       "   'site_admin': False},\n",
       "  'labels': [{'id': 1728592794,\n",
       "    'node_id': 'MDU6TGFiZWwxNzI4NTkyNzk0',\n",
       "    'url': 'https://api.github.com/repos/pandas-dev/pandas/labels/Styler',\n",
       "    'name': 'Styler',\n",
       "    'color': '006b75',\n",
       "    'default': False,\n",
       "    'description': 'conditional formatting using DataFrame.style'},\n",
       "   {'id': 34444536,\n",
       "    'node_id': 'MDU6TGFiZWwzNDQ0NDUzNg==',\n",
       "    'url': 'https://api.github.com/repos/pandas-dev/pandas/labels/Usage%20Question',\n",
       "    'name': 'Usage Question',\n",
       "    'color': '0052cc',\n",
       "    'default': False,\n",
       "    'description': None}],\n",
       "  'state': 'open',\n",
       "  'locked': False,\n",
       "  'assignee': None,\n",
       "  'assignees': [],\n",
       "  'milestone': None,\n",
       "  'comments': 1,\n",
       "  'created_at': '2021-01-25T17:42:29Z',\n",
       "  'updated_at': '2021-01-26T15:16:42Z',\n",
       "  'closed_at': None,\n",
       "  'author_association': 'NONE',\n",
       "  'active_lock_reason': None,\n",
       "  'body': \"- [X ] I have searched the [[pandas] tag](https://stackoverflow.com/questions/tagged/pandas) on StackOverflow for similar questions.\\r\\n\\r\\n- [X ] I have asked my usage related question on [StackOverflow](https://stackoverflow.com/questions/65834907/pandas-styler-css-limit-reached).\\r\\n\\r\\n---\\r\\n\\r\\n#### Question about pandas\\r\\n\\r\\nI am trying to use the pandas dataframe styler to colour cells of the dataframe and present the result on a webpage. \\r\\nThe rendered CSS shows up as follows:\\r\\n```\\r\\n#T_394319f6_5c20_11eb_832b_04ed338ce712row0_col6,#T_394319f6_5c20_11eb_832b_04ed338ce712row0_col7, \\r\\n...\\r\\n#T_394319f6_5c20_11eb_832b_04ed338ce712row1_col6 { background-colour: red }\\r\\n```\\r\\n\\r\\nFor large tables, the number of ids can exceed 4096. When processed on the web-browser, the id's after 4096 are ignored and the cells are not coloured. Resulting in partially coloured HTML tables.\\r\\n\\r\\nI have verified my style function works by downloading the Excel file of the styled object, which is coloured correctly. It seems to be a limitation on various web-browsers (Chrome, Firefox, Edge). \\r\\n\\r\\nI have also tried randomizing the exact hexcode used to colour the cells, which fixes the problem. \\r\\n\\r\\nWhat can I do?\\r\\n\",\n",
       "  'performed_via_github_app': None},\n",
       " {'url': 'https://api.github.com/repos/pandas-dev/pandas/issues/39397',\n",
       "  'repository_url': 'https://api.github.com/repos/pandas-dev/pandas',\n",
       "  'labels_url': 'https://api.github.com/repos/pandas-dev/pandas/issues/39397/labels{/name}',\n",
       "  'comments_url': 'https://api.github.com/repos/pandas-dev/pandas/issues/39397/comments',\n",
       "  'events_url': 'https://api.github.com/repos/pandas-dev/pandas/issues/39397/events',\n",
       "  'html_url': 'https://github.com/pandas-dev/pandas/issues/39397',\n",
       "  'id': 793460322,\n",
       "  'node_id': 'MDU6SXNzdWU3OTM0NjAzMjI=',\n",
       "  'number': 39397,\n",
       "  'title': 'QST: When using df.loc[ ] in a for loop I get better performance overall than if I use df.loc() sequentially.',\n",
       "  'user': {'login': 'transreductionist',\n",
       "   'id': 8593071,\n",
       "   'node_id': 'MDQ6VXNlcjg1OTMwNzE=',\n",
       "   'avatar_url': 'https://avatars.githubusercontent.com/u/8593071?v=4',\n",
       "   'gravatar_id': '',\n",
       "   'url': 'https://api.github.com/users/transreductionist',\n",
       "   'html_url': 'https://github.com/transreductionist',\n",
       "   'followers_url': 'https://api.github.com/users/transreductionist/followers',\n",
       "   'following_url': 'https://api.github.com/users/transreductionist/following{/other_user}',\n",
       "   'gists_url': 'https://api.github.com/users/transreductionist/gists{/gist_id}',\n",
       "   'starred_url': 'https://api.github.com/users/transreductionist/starred{/owner}{/repo}',\n",
       "   'subscriptions_url': 'https://api.github.com/users/transreductionist/subscriptions',\n",
       "   'organizations_url': 'https://api.github.com/users/transreductionist/orgs',\n",
       "   'repos_url': 'https://api.github.com/users/transreductionist/repos',\n",
       "   'events_url': 'https://api.github.com/users/transreductionist/events{/privacy}',\n",
       "   'received_events_url': 'https://api.github.com/users/transreductionist/received_events',\n",
       "   'type': 'User',\n",
       "   'site_admin': False},\n",
       "  'labels': [{'id': 1954720290,\n",
       "    'node_id': 'MDU6TGFiZWwxOTU0NzIwMjkw',\n",
       "    'url': 'https://api.github.com/repos/pandas-dev/pandas/labels/Needs%20Triage',\n",
       "    'name': 'Needs Triage',\n",
       "    'color': '0052cc',\n",
       "    'default': False,\n",
       "    'description': 'Issue that has not been reviewed by a pandas team member'},\n",
       "   {'id': 34444536,\n",
       "    'node_id': 'MDU6TGFiZWwzNDQ0NDUzNg==',\n",
       "    'url': 'https://api.github.com/repos/pandas-dev/pandas/labels/Usage%20Question',\n",
       "    'name': 'Usage Question',\n",
       "    'color': '0052cc',\n",
       "    'default': False,\n",
       "    'description': None}],\n",
       "  'state': 'open',\n",
       "  'locked': False,\n",
       "  'assignee': None,\n",
       "  'assignees': [],\n",
       "  'milestone': None,\n",
       "  'comments': 3,\n",
       "  'created_at': '2021-01-25T15:06:13Z',\n",
       "  'updated_at': '2021-01-25T20:33:49Z',\n",
       "  'closed_at': None,\n",
       "  'author_association': 'NONE',\n",
       "  'active_lock_reason': None,\n",
       "  'body': '- [x] I have searched the [[pandas] tag](https://stackoverflow.com/questions/tagged/pandas) on StackOverflow for similar questions.\\r\\n\\r\\n- [ ] I have asked my usage related question on [StackOverflow](https://stackoverflow.com): I am not a StackOverflow user.\\r\\n\\r\\n---\\r\\n\\r\\n## Question about pandas\\r\\n\\r\\nWhen using df.loc[ ] in a for loop I get better performance overall then if I use df.loc() sequentially.\\r\\n\\r\\n### Background\\r\\nI have noticed the following behavior, which is more pronounced with larger DataFrames(). Currently, the \"larger\" DataFrame() we use is 75,000 rows with 2,100 columns. The DataFrame() is extended an additional 1,000 rows, and so is in total 76,000 rows long (see below). The columns are equally split between,\\r\\n- int64, float64, and object (a string).\\r\\n\\r\\nWe are pre-loading the DataFrame() with a 1,000 extra rows, which are used for updates instead of resorting to more costly appends. The code I used to look at the performance of updating rows with a list of Series and df.loc[ ] as opposed to using a single row with df.loc[ ] is listed below.\\r\\n\\r\\n### Behavior Updating Rows\\r\\n\\r\\nUsing update_multiple_rows() I find that,\\r\\n- mean = 3.0 seconds per row\\r\\n- maximum time to insert a row = 260 seconds at the first position 75001.\\r\\n\\r\\nUsing 2 repeated calls to update_one_row() I find that,\\r\\n- For each call the time required for one row to be updated is 260 seconds.\\r\\n\\r\\n```python\\r\\ndef main():\\r\\n    df = create_df()  # Returns a large DataFrame().\\r\\n    test_rows = get_test_rows()  # Gets 100 rows to update the DataFrame() with.\\r\\n   \\r\\n    update_multiple_rows(test_rows, 75001)\\r\\n\\r\\n    update_one_row(test_rows[0], 75001)\\r\\n    update_one_row(test_rows[0], 75001)\\r\\n\\r\\n\\r\\ndef update_multiple_rows(df: DataFrame, rows: list, index_start: int):\\r\\n    number_of_rows = len(rows)    \\r\\n    for i in range(index_start, number_of_rows + 1):\\r\\n        start = time()\\r\\n        df.loc[i] = new_row_data\\r\\n        elapsed = time() - start\\r\\n\\r\\ndef update_one_row(df: DataFrame, row: Series, index: int):\\r\\n    start = time()\\r\\n    df.loc[i] = new_row_data\\r\\n    elapsed = time() - start\\r\\n```\\r\\n\\r\\n',\n",
       "  'performed_via_github_app': None},\n",
       " {'url': 'https://api.github.com/repos/pandas-dev/pandas/issues/39394',\n",
       "  'repository_url': 'https://api.github.com/repos/pandas-dev/pandas',\n",
       "  'labels_url': 'https://api.github.com/repos/pandas-dev/pandas/issues/39394/labels{/name}',\n",
       "  'comments_url': 'https://api.github.com/repos/pandas-dev/pandas/issues/39394/comments',\n",
       "  'events_url': 'https://api.github.com/repos/pandas-dev/pandas/issues/39394/events',\n",
       "  'html_url': 'https://github.com/pandas-dev/pandas/pull/39394',\n",
       "  'id': 793268816,\n",
       "  'node_id': 'MDExOlB1bGxSZXF1ZXN0NTYwOTg1MzU3',\n",
       "  'number': 39394,\n",
       "  'title': \"ENH: Fix support for matplotlib's constrained_layout (#25261)\",\n",
       "  'user': {'login': 'mdruiter',\n",
       "   'id': 1555705,\n",
       "   'node_id': 'MDQ6VXNlcjE1NTU3MDU=',\n",
       "   'avatar_url': 'https://avatars.githubusercontent.com/u/1555705?v=4',\n",
       "   'gravatar_id': '',\n",
       "   'url': 'https://api.github.com/users/mdruiter',\n",
       "   'html_url': 'https://github.com/mdruiter',\n",
       "   'followers_url': 'https://api.github.com/users/mdruiter/followers',\n",
       "   'following_url': 'https://api.github.com/users/mdruiter/following{/other_user}',\n",
       "   'gists_url': 'https://api.github.com/users/mdruiter/gists{/gist_id}',\n",
       "   'starred_url': 'https://api.github.com/users/mdruiter/starred{/owner}{/repo}',\n",
       "   'subscriptions_url': 'https://api.github.com/users/mdruiter/subscriptions',\n",
       "   'organizations_url': 'https://api.github.com/users/mdruiter/orgs',\n",
       "   'repos_url': 'https://api.github.com/users/mdruiter/repos',\n",
       "   'events_url': 'https://api.github.com/users/mdruiter/events{/privacy}',\n",
       "   'received_events_url': 'https://api.github.com/users/mdruiter/received_events',\n",
       "   'type': 'User',\n",
       "   'site_admin': False},\n",
       "  'labels': [{'id': 2413328,\n",
       "    'node_id': 'MDU6TGFiZWwyNDEzMzI4',\n",
       "    'url': 'https://api.github.com/repos/pandas-dev/pandas/labels/Visualization',\n",
       "    'name': 'Visualization',\n",
       "    'color': '8AE234',\n",
       "    'default': False,\n",
       "    'description': None}],\n",
       "  'state': 'open',\n",
       "  'locked': False,\n",
       "  'assignee': None,\n",
       "  'assignees': [],\n",
       "  'milestone': None,\n",
       "  'comments': 1,\n",
       "  'created_at': '2021-01-25T10:46:58Z',\n",
       "  'updated_at': '2021-01-26T14:07:37Z',\n",
       "  'closed_at': None,\n",
       "  'author_association': 'NONE',\n",
       "  'active_lock_reason': None,\n",
       "  'pull_request': {'url': 'https://api.github.com/repos/pandas-dev/pandas/pulls/39394',\n",
       "   'html_url': 'https://github.com/pandas-dev/pandas/pull/39394',\n",
       "   'diff_url': 'https://github.com/pandas-dev/pandas/pull/39394.diff',\n",
       "   'patch_url': 'https://github.com/pandas-dev/pandas/pull/39394.patch'},\n",
       "  'body': '- [x] closes #25261\\r\\n- [x] tests added / passed\\r\\n- [x] Ensure all linting tests pass, see [here](https://pandas.pydata.org/pandas-docs/dev/development/contributing.html#code-standards) for how to run them\\r\\n- [x] whatsnew entry\\r\\n',\n",
       "  'performed_via_github_app': None},\n",
       " {'url': 'https://api.github.com/repos/pandas-dev/pandas/issues/39393',\n",
       "  'repository_url': 'https://api.github.com/repos/pandas-dev/pandas',\n",
       "  'labels_url': 'https://api.github.com/repos/pandas-dev/pandas/issues/39393/labels{/name}',\n",
       "  'comments_url': 'https://api.github.com/repos/pandas-dev/pandas/issues/39393/comments',\n",
       "  'events_url': 'https://api.github.com/repos/pandas-dev/pandas/issues/39393/events',\n",
       "  'html_url': 'https://github.com/pandas-dev/pandas/pull/39393',\n",
       "  'id': 793169472,\n",
       "  'node_id': 'MDExOlB1bGxSZXF1ZXN0NTYwOTAzMzUw',\n",
       "  'number': 39393,\n",
       "  'title': 'ENH: `Styler.apply` accept ndarray return with `axis=None` for consistency ',\n",
       "  'user': {'login': 'attack68',\n",
       "   'id': 24256554,\n",
       "   'node_id': 'MDQ6VXNlcjI0MjU2NTU0',\n",
       "   'avatar_url': 'https://avatars.githubusercontent.com/u/24256554?v=4',\n",
       "   'gravatar_id': '',\n",
       "   'url': 'https://api.github.com/users/attack68',\n",
       "   'html_url': 'https://github.com/attack68',\n",
       "   'followers_url': 'https://api.github.com/users/attack68/followers',\n",
       "   'following_url': 'https://api.github.com/users/attack68/following{/other_user}',\n",
       "   'gists_url': 'https://api.github.com/users/attack68/gists{/gist_id}',\n",
       "   'starred_url': 'https://api.github.com/users/attack68/starred{/owner}{/repo}',\n",
       "   'subscriptions_url': 'https://api.github.com/users/attack68/subscriptions',\n",
       "   'organizations_url': 'https://api.github.com/users/attack68/orgs',\n",
       "   'repos_url': 'https://api.github.com/users/attack68/repos',\n",
       "   'events_url': 'https://api.github.com/users/attack68/events{/privacy}',\n",
       "   'received_events_url': 'https://api.github.com/users/attack68/received_events',\n",
       "   'type': 'User',\n",
       "   'site_admin': False},\n",
       "  'labels': [],\n",
       "  'state': 'open',\n",
       "  'locked': False,\n",
       "  'assignee': None,\n",
       "  'assignees': [],\n",
       "  'milestone': None,\n",
       "  'comments': 0,\n",
       "  'created_at': '2021-01-25T08:40:28Z',\n",
       "  'updated_at': '2021-01-26T13:05:36Z',\n",
       "  'closed_at': None,\n",
       "  'author_association': 'CONTRIBUTOR',\n",
       "  'active_lock_reason': None,\n",
       "  'pull_request': {'url': 'https://api.github.com/repos/pandas-dev/pandas/pulls/39393',\n",
       "   'html_url': 'https://github.com/pandas-dev/pandas/pull/39393',\n",
       "   'diff_url': 'https://github.com/pandas-dev/pandas/pull/39393.diff',\n",
       "   'patch_url': 'https://github.com/pandas-dev/pandas/pull/39393.patch'},\n",
       "  'body': '- [x] closes #39359\\r\\n- [x] tests added / passed\\r\\n- [x] Ensure all linting tests pass, see [here](https://pandas.pydata.org/pandas-docs/dev/development/contributing.html#code-standards) for how to run them\\r\\n- [x] whatsnew entry\\r\\n\\r\\nAlso minor edits to docs to extend information and show examples.\\r\\n\\r\\ncc @TomAugspurger ',\n",
       "  'performed_via_github_app': None},\n",
       " {'url': 'https://api.github.com/repos/pandas-dev/pandas/issues/39392',\n",
       "  'repository_url': 'https://api.github.com/repos/pandas-dev/pandas',\n",
       "  'labels_url': 'https://api.github.com/repos/pandas-dev/pandas/issues/39392/labels{/name}',\n",
       "  'comments_url': 'https://api.github.com/repos/pandas-dev/pandas/issues/39392/comments',\n",
       "  'events_url': 'https://api.github.com/repos/pandas-dev/pandas/issues/39392/events',\n",
       "  'html_url': 'https://github.com/pandas-dev/pandas/pull/39392',\n",
       "  'id': 793152993,\n",
       "  'node_id': 'MDExOlB1bGxSZXF1ZXN0NTYwODg5MjU3',\n",
       "  'number': 39392,\n",
       "  'title': 'CI: split benchmarks from other checks',\n",
       "  'user': {'login': 'afeld',\n",
       "   'id': 86842,\n",
       "   'node_id': 'MDQ6VXNlcjg2ODQy',\n",
       "   'avatar_url': 'https://avatars.githubusercontent.com/u/86842?v=4',\n",
       "   'gravatar_id': '',\n",
       "   'url': 'https://api.github.com/users/afeld',\n",
       "   'html_url': 'https://github.com/afeld',\n",
       "   'followers_url': 'https://api.github.com/users/afeld/followers',\n",
       "   'following_url': 'https://api.github.com/users/afeld/following{/other_user}',\n",
       "   'gists_url': 'https://api.github.com/users/afeld/gists{/gist_id}',\n",
       "   'starred_url': 'https://api.github.com/users/afeld/starred{/owner}{/repo}',\n",
       "   'subscriptions_url': 'https://api.github.com/users/afeld/subscriptions',\n",
       "   'organizations_url': 'https://api.github.com/users/afeld/orgs',\n",
       "   'repos_url': 'https://api.github.com/users/afeld/repos',\n",
       "   'events_url': 'https://api.github.com/users/afeld/events{/privacy}',\n",
       "   'received_events_url': 'https://api.github.com/users/afeld/received_events',\n",
       "   'type': 'User',\n",
       "   'site_admin': False},\n",
       "  'labels': [{'id': 732775912,\n",
       "    'node_id': 'MDU6TGFiZWw3MzI3NzU5MTI=',\n",
       "    'url': 'https://api.github.com/repos/pandas-dev/pandas/labels/Benchmark',\n",
       "    'name': 'Benchmark',\n",
       "    'color': 'ae68cc',\n",
       "    'default': False,\n",
       "    'description': 'Performance (ASV) benchmarks'},\n",
       "   {'id': 48070600,\n",
       "    'node_id': 'MDU6TGFiZWw0ODA3MDYwMA==',\n",
       "    'url': 'https://api.github.com/repos/pandas-dev/pandas/labels/CI',\n",
       "    'name': 'CI',\n",
       "    'color': 'a2bca7',\n",
       "    'default': False,\n",
       "    'description': 'Related to Continuous Integration'}],\n",
       "  'state': 'open',\n",
       "  'locked': False,\n",
       "  'assignee': None,\n",
       "  'assignees': [],\n",
       "  'milestone': None,\n",
       "  'comments': 1,\n",
       "  'created_at': '2021-01-25T08:19:15Z',\n",
       "  'updated_at': '2021-01-25T14:59:32Z',\n",
       "  'closed_at': None,\n",
       "  'author_association': 'MEMBER',\n",
       "  'active_lock_reason': None,\n",
       "  'pull_request': {'url': 'https://api.github.com/repos/pandas-dev/pandas/pulls/39392',\n",
       "   'html_url': 'https://github.com/pandas-dev/pandas/pull/39392',\n",
       "   'diff_url': 'https://github.com/pandas-dev/pandas/pull/39392.diff',\n",
       "   'patch_url': 'https://github.com/pandas-dev/pandas/pull/39392.patch'},\n",
       "  'body': 'That job was the longest-running, so this should parallelize the various code checks with the benchmarks to get done in less wall clock time.\\r\\n\\r\\ncc @fangchenli\\r\\n\\r\\n- [ ] ~~closes #xxxx~~\\r\\n- [ ] tests added / passed\\r\\n- [ ] Ensure all linting tests pass, see [here](https://pandas.pydata.org/pandas-docs/dev/development/contributing.html#code-standards) for how to run them\\r\\n- [ ] ~~whatsnew entry~~\\r\\n',\n",
       "  'performed_via_github_app': None},\n",
       " {'url': 'https://api.github.com/repos/pandas-dev/pandas/issues/39390',\n",
       "  'repository_url': 'https://api.github.com/repos/pandas-dev/pandas',\n",
       "  'labels_url': 'https://api.github.com/repos/pandas-dev/pandas/issues/39390/labels{/name}',\n",
       "  'comments_url': 'https://api.github.com/repos/pandas-dev/pandas/issues/39390/comments',\n",
       "  'events_url': 'https://api.github.com/repos/pandas-dev/pandas/issues/39390/events',\n",
       "  'html_url': 'https://github.com/pandas-dev/pandas/pull/39390',\n",
       "  'id': 793132118,\n",
       "  'node_id': 'MDExOlB1bGxSZXF1ZXN0NTYwODcxMjc5',\n",
       "  'number': 39390,\n",
       "  'title': 'CI: save site+docs builds as artifacts',\n",
       "  'user': {'login': 'afeld',\n",
       "   'id': 86842,\n",
       "   'node_id': 'MDQ6VXNlcjg2ODQy',\n",
       "   'avatar_url': 'https://avatars.githubusercontent.com/u/86842?v=4',\n",
       "   'gravatar_id': '',\n",
       "   'url': 'https://api.github.com/users/afeld',\n",
       "   'html_url': 'https://github.com/afeld',\n",
       "   'followers_url': 'https://api.github.com/users/afeld/followers',\n",
       "   'following_url': 'https://api.github.com/users/afeld/following{/other_user}',\n",
       "   'gists_url': 'https://api.github.com/users/afeld/gists{/gist_id}',\n",
       "   'starred_url': 'https://api.github.com/users/afeld/starred{/owner}{/repo}',\n",
       "   'subscriptions_url': 'https://api.github.com/users/afeld/subscriptions',\n",
       "   'organizations_url': 'https://api.github.com/users/afeld/orgs',\n",
       "   'repos_url': 'https://api.github.com/users/afeld/repos',\n",
       "   'events_url': 'https://api.github.com/users/afeld/events{/privacy}',\n",
       "   'received_events_url': 'https://api.github.com/users/afeld/received_events',\n",
       "   'type': 'User',\n",
       "   'site_admin': False},\n",
       "  'labels': [{'id': 48070600,\n",
       "    'node_id': 'MDU6TGFiZWw0ODA3MDYwMA==',\n",
       "    'url': 'https://api.github.com/repos/pandas-dev/pandas/labels/CI',\n",
       "    'name': 'CI',\n",
       "    'color': 'a2bca7',\n",
       "    'default': False,\n",
       "    'description': 'Related to Continuous Integration'},\n",
       "   {'id': 134699,\n",
       "    'node_id': 'MDU6TGFiZWwxMzQ2OTk=',\n",
       "    'url': 'https://api.github.com/repos/pandas-dev/pandas/labels/Docs',\n",
       "    'name': 'Docs',\n",
       "    'color': '3465A4',\n",
       "    'default': False,\n",
       "    'description': None},\n",
       "   {'id': 1508144531,\n",
       "    'node_id': 'MDU6TGFiZWwxNTA4MTQ0NTMx',\n",
       "    'url': 'https://api.github.com/repos/pandas-dev/pandas/labels/Web',\n",
       "    'name': 'Web',\n",
       "    'color': '23ef97',\n",
       "    'default': False,\n",
       "    'description': 'pandas website'}],\n",
       "  'state': 'open',\n",
       "  'locked': False,\n",
       "  'assignee': None,\n",
       "  'assignees': [],\n",
       "  'milestone': {'url': 'https://api.github.com/repos/pandas-dev/pandas/milestones/80',\n",
       "   'html_url': 'https://github.com/pandas-dev/pandas/milestone/80',\n",
       "   'labels_url': 'https://api.github.com/repos/pandas-dev/pandas/milestones/80/labels',\n",
       "   'id': 6095818,\n",
       "   'node_id': 'MDk6TWlsZXN0b25lNjA5NTgxOA==',\n",
       "   'number': 80,\n",
       "   'title': '1.3',\n",
       "   'description': '',\n",
       "   'creator': {'login': 'jreback',\n",
       "    'id': 953992,\n",
       "    'node_id': 'MDQ6VXNlcjk1Mzk5Mg==',\n",
       "    'avatar_url': 'https://avatars.githubusercontent.com/u/953992?v=4',\n",
       "    'gravatar_id': '',\n",
       "    'url': 'https://api.github.com/users/jreback',\n",
       "    'html_url': 'https://github.com/jreback',\n",
       "    'followers_url': 'https://api.github.com/users/jreback/followers',\n",
       "    'following_url': 'https://api.github.com/users/jreback/following{/other_user}',\n",
       "    'gists_url': 'https://api.github.com/users/jreback/gists{/gist_id}',\n",
       "    'starred_url': 'https://api.github.com/users/jreback/starred{/owner}{/repo}',\n",
       "    'subscriptions_url': 'https://api.github.com/users/jreback/subscriptions',\n",
       "    'organizations_url': 'https://api.github.com/users/jreback/orgs',\n",
       "    'repos_url': 'https://api.github.com/users/jreback/repos',\n",
       "    'events_url': 'https://api.github.com/users/jreback/events{/privacy}',\n",
       "    'received_events_url': 'https://api.github.com/users/jreback/received_events',\n",
       "    'type': 'User',\n",
       "    'site_admin': False},\n",
       "   'open_issues': 96,\n",
       "   'closed_issues': 602,\n",
       "   'state': 'open',\n",
       "   'created_at': '2020-11-11T19:05:43Z',\n",
       "   'updated_at': '2021-01-27T01:49:57Z',\n",
       "   'due_on': '2021-05-31T07:00:00Z',\n",
       "   'closed_at': None},\n",
       "  'comments': 1,\n",
       "  'created_at': '2021-01-25T07:51:43Z',\n",
       "  'updated_at': '2021-01-25T10:59:57Z',\n",
       "  'closed_at': None,\n",
       "  'author_association': 'MEMBER',\n",
       "  'active_lock_reason': None,\n",
       "  'pull_request': {'url': 'https://api.github.com/repos/pandas-dev/pandas/pulls/39390',\n",
       "   'html_url': 'https://github.com/pandas-dev/pandas/pull/39390',\n",
       "   'diff_url': 'https://github.com/pandas-dev/pandas/pull/39390.diff',\n",
       "   'patch_url': 'https://github.com/pandas-dev/pandas/pull/39390.patch'},\n",
       "  'body': ' Makes the downloadable for previewing locally. Not as good as having a URL to preview it, but better than nothing.\\r\\n\\r\\n- [x] closes https://github.com/pandas-dev/pandas/issues/17921\\r\\n- [ ] tests ~~added /~~ passed\\r\\n- [ ] Ensure all linting tests pass, see [here](https://pandas.pydata.org/pandas-docs/dev/development/contributing.html#code-standards) for how to run them\\r\\n- [ ] ~~whatsnew entry~~',\n",
       "  'performed_via_github_app': None},\n",
       " {'url': 'https://api.github.com/repos/pandas-dev/pandas/issues/39389',\n",
       "  'repository_url': 'https://api.github.com/repos/pandas-dev/pandas',\n",
       "  'labels_url': 'https://api.github.com/repos/pandas-dev/pandas/issues/39389/labels{/name}',\n",
       "  'comments_url': 'https://api.github.com/repos/pandas-dev/pandas/issues/39389/comments',\n",
       "  'events_url': 'https://api.github.com/repos/pandas-dev/pandas/issues/39389/events',\n",
       "  'html_url': 'https://github.com/pandas-dev/pandas/issues/39389',\n",
       "  'id': 793000992,\n",
       "  'node_id': 'MDU6SXNzdWU3OTMwMDA5OTI=',\n",
       "  'number': 39389,\n",
       "  'title': 'BUG: DataFrame to_dict method raise Out of bounds nanosecond timestamp',\n",
       "  'user': {'login': 'BeanNan',\n",
       "   'id': 40813941,\n",
       "   'node_id': 'MDQ6VXNlcjQwODEzOTQx',\n",
       "   'avatar_url': 'https://avatars.githubusercontent.com/u/40813941?v=4',\n",
       "   'gravatar_id': '',\n",
       "   'url': 'https://api.github.com/users/BeanNan',\n",
       "   'html_url': 'https://github.com/BeanNan',\n",
       "   'followers_url': 'https://api.github.com/users/BeanNan/followers',\n",
       "   'following_url': 'https://api.github.com/users/BeanNan/following{/other_user}',\n",
       "   'gists_url': 'https://api.github.com/users/BeanNan/gists{/gist_id}',\n",
       "   'starred_url': 'https://api.github.com/users/BeanNan/starred{/owner}{/repo}',\n",
       "   'subscriptions_url': 'https://api.github.com/users/BeanNan/subscriptions',\n",
       "   'organizations_url': 'https://api.github.com/users/BeanNan/orgs',\n",
       "   'repos_url': 'https://api.github.com/users/BeanNan/repos',\n",
       "   'events_url': 'https://api.github.com/users/BeanNan/events{/privacy}',\n",
       "   'received_events_url': 'https://api.github.com/users/BeanNan/received_events',\n",
       "   'type': 'User',\n",
       "   'site_admin': False},\n",
       "  'labels': [{'id': 76811,\n",
       "    'node_id': 'MDU6TGFiZWw3NjgxMQ==',\n",
       "    'url': 'https://api.github.com/repos/pandas-dev/pandas/labels/Bug',\n",
       "    'name': 'Bug',\n",
       "    'color': 'e10c02',\n",
       "    'default': False,\n",
       "    'description': None},\n",
       "   {'id': 31404521,\n",
       "    'node_id': 'MDU6TGFiZWwzMTQwNDUyMQ==',\n",
       "    'url': 'https://api.github.com/repos/pandas-dev/pandas/labels/Dtypes',\n",
       "    'name': 'Dtypes',\n",
       "    'color': 'e102d8',\n",
       "    'default': False,\n",
       "    'description': None},\n",
       "   {'id': 219960758,\n",
       "    'node_id': 'MDU6TGFiZWwyMTk5NjA3NTg=',\n",
       "    'url': 'https://api.github.com/repos/pandas-dev/pandas/labels/Needs%20Discussion',\n",
       "    'name': 'Needs Discussion',\n",
       "    'color': '207de5',\n",
       "    'default': False,\n",
       "    'description': None},\n",
       "   {'id': 211840,\n",
       "    'node_id': 'MDU6TGFiZWwyMTE4NDA=',\n",
       "    'url': 'https://api.github.com/repos/pandas-dev/pandas/labels/Timeseries',\n",
       "    'name': 'Timeseries',\n",
       "    'color': 'AFEEEE',\n",
       "    'default': False,\n",
       "    'description': None}],\n",
       "  'state': 'open',\n",
       "  'locked': False,\n",
       "  'assignee': None,\n",
       "  'assignees': [],\n",
       "  'milestone': None,\n",
       "  'comments': 7,\n",
       "  'created_at': '2021-01-25T03:52:35Z',\n",
       "  'updated_at': '2021-01-25T11:51:37Z',\n",
       "  'closed_at': None,\n",
       "  'author_association': 'CONTRIBUTOR',\n",
       "  'active_lock_reason': None,\n",
       "  'body': \"- [x] I have checked that this issue has not already been reported.\\r\\n\\r\\n- [x] I have confirmed this bug exists on the latest version of pandas.\\r\\n\\r\\n- [x] (optional) I have confirmed this bug exists on the master branch of pandas.\\r\\n\\r\\n---\\r\\n\\r\\n**Note**: Please read [this guide](https://matthewrocklin.com/blog/work/2018/02/28/minimal-bug-reports) detailing how to provide the necessary information for us to reproduce your bug.\\r\\n\\r\\n#### Code Sample, a copy-pastable example\\r\\n\\r\\n```python\\r\\n# Your code here\\r\\nimport pandas as pd\\r\\nfrom datetime import datetime\\r\\n\\r\\nseries = pd.Series([datetime(year=4172, month=12, day=31)])\\r\\nseries.to_dict()\\r\\n\\r\\n# raise pandas._libs.tslibs.np_datetime.OutOfBoundsDatetime: \\r\\n# Out of bounds nanosecond timestamp: 4172-12-31 00:00:00\\r\\nd = {'d1': [datetime(year=4172, month=12, day=31)]}\\r\\ndf = pd.DataFrame(data=d)\\r\\ndf.to_dict(orient='records')\\r\\n\\r\\n```\\r\\n\\r\\n#### Problem description\\r\\n\\r\\nThe maximum default value of date in oracle database is 4172-12-31 00:00:00, so there is a lot of such data, we read the data by pandas + sqlalchemy and then to_dict() returns the result to the front-end display. But here an exception occurs.\\r\\n\\r\\nI think the to_dict operation does not need to check the date range, because the date type itself can exist is the language level allows, to_dict after getting the python object, python are allowed, we do not need to add restrictions here.\\r\\n\\r\\nhttps://github.com/pandas-dev/pandas/blob/37b5800afb335fe1d09dde9153ca32c48c39f73e/pandas/core/frame.py#L1632\\r\\n\\r\\n#37648 and #37571 may have something to do with it\\r\\n\\r\\n#### Expected Output\\r\\n\\r\\n#### Output of ``pd.show_versions()``\\r\\n\\r\\n<details>\\r\\n\\r\\n[paste the output of ``pd.show_versions()`` here leaving a blank line after the details tag]\\r\\nINSTALLED VERSIONS\\r\\n------------------\\r\\ncommit           : 37b5800afb335fe1d09dde9153ca32c48c39f73e\\r\\npython           : 3.8.6.final.0\\r\\npython-bits      : 64\\r\\nOS               : Darwin\\r\\nOS-release       : 20.2.0\\r\\nVersion          : Darwin Kernel Version 20.2.0: Wed Dec  2 20:39:59 PST 2020; root:xnu-7195.60.75~1/RELEASE_X86_64\\r\\nmachine          : x86_64\\r\\nprocessor        : i386\\r\\nbyteorder        : little\\r\\nLC_ALL           : en_US.UTF-8\\r\\nLANG             : en_US.UTF-8\\r\\nLOCALE           : en_US.UTF-8\\r\\n\\r\\npandas           : 1.3.0.dev0+529.g37b5800af\\r\\nnumpy            : 1.19.5\\r\\npytz             : 2020.5\\r\\ndateutil         : 2.8.1\\r\\npip              : 21.0\\r\\nsetuptools       : 49.2.1\\r\\nCython           : 0.29.21\\r\\npytest           : 6.2.1\\r\\nhypothesis       : 6.0.3\\r\\nsphinx           : 3.4.3\\r\\nblosc            : 1.10.2\\r\\nfeather          : None\\r\\nxlsxwriter       : 1.3.7\\r\\nlxml.etree       : 4.6.2\\r\\nhtml5lib         : 1.1\\r\\npymysql          : None\\r\\npsycopg2         : None\\r\\njinja2           : 2.11.2\\r\\nIPython          : 7.19.0\\r\\npandas_datareader: None\\r\\nbs4              : 4.9.3\\r\\nbottleneck       : 1.3.2\\r\\nfsspec           : 0.8.5\\r\\nfastparquet      : 0.5.0\\r\\ngcsfs            : 0.7.1\\r\\nmatplotlib       : 3.3.3\\r\\nnumexpr          : 2.7.2\\r\\nodfpy            : None\\r\\nopenpyxl         : 3.0.6\\r\\npandas_gbq       : None\\r\\npyarrow          : 2.0.0\\r\\npyxlsb           : None\\r\\ns3fs             : 0.5.2\\r\\nscipy            : 1.6.0\\r\\nsqlalchemy       : 1.3.22\\r\\ntables           : 3.6.1\\r\\ntabulate         : 0.8.7\\r\\nxarray           : 0.16.2\\r\\nxlrd             : 2.0.1\\r\\nxlwt             : 1.3.0\\r\\nnumba            : 0.52.0\\r\\n</details>\\r\\n\",\n",
       "  'performed_via_github_app': None}]"
      ]
     },
     "execution_count": 111,
     "metadata": {},
     "output_type": "execute_result"
    }
   ],
   "source": [
    "## Lets covert this Response into JSON format:\n",
    "## We get entire data exactly as it is present in the url page.\n",
    "\n",
    "data=resp.json()\n",
    "data"
   ]
  },
  {
   "cell_type": "code",
   "execution_count": 103,
   "metadata": {},
   "outputs": [
    {
     "data": {
      "text/plain": [
       "list"
      ]
     },
     "execution_count": 103,
     "metadata": {},
     "output_type": "execute_result"
    }
   ],
   "source": [
    "type(data)"
   ]
  },
  {
   "cell_type": "code",
   "execution_count": 104,
   "metadata": {},
   "outputs": [
    {
     "data": {
      "text/plain": [
       "{'url': 'https://api.github.com/repos/pandas-dev/pandas/issues/39430',\n",
       " 'repository_url': 'https://api.github.com/repos/pandas-dev/pandas',\n",
       " 'labels_url': 'https://api.github.com/repos/pandas-dev/pandas/issues/39430/labels{/name}',\n",
       " 'comments_url': 'https://api.github.com/repos/pandas-dev/pandas/issues/39430/comments',\n",
       " 'events_url': 'https://api.github.com/repos/pandas-dev/pandas/issues/39430/events',\n",
       " 'html_url': 'https://github.com/pandas-dev/pandas/issues/39430',\n",
       " 'id': 794799103,\n",
       " 'node_id': 'MDU6SXNzdWU3OTQ3OTkxMDM=',\n",
       " 'number': 39430,\n",
       " 'title': \"BUG: read_json(orient='table') converts 'float64' to  'datetime64' datatype if the column name ends with '_time'\",\n",
       " 'user': {'login': 'thoo',\n",
       "  'id': 6972290,\n",
       "  'node_id': 'MDQ6VXNlcjY5NzIyOTA=',\n",
       "  'avatar_url': 'https://avatars.githubusercontent.com/u/6972290?v=4',\n",
       "  'gravatar_id': '',\n",
       "  'url': 'https://api.github.com/users/thoo',\n",
       "  'html_url': 'https://github.com/thoo',\n",
       "  'followers_url': 'https://api.github.com/users/thoo/followers',\n",
       "  'following_url': 'https://api.github.com/users/thoo/following{/other_user}',\n",
       "  'gists_url': 'https://api.github.com/users/thoo/gists{/gist_id}',\n",
       "  'starred_url': 'https://api.github.com/users/thoo/starred{/owner}{/repo}',\n",
       "  'subscriptions_url': 'https://api.github.com/users/thoo/subscriptions',\n",
       "  'organizations_url': 'https://api.github.com/users/thoo/orgs',\n",
       "  'repos_url': 'https://api.github.com/users/thoo/repos',\n",
       "  'events_url': 'https://api.github.com/users/thoo/events{/privacy}',\n",
       "  'received_events_url': 'https://api.github.com/users/thoo/received_events',\n",
       "  'type': 'User',\n",
       "  'site_admin': False},\n",
       " 'labels': [{'id': 76811,\n",
       "   'node_id': 'MDU6TGFiZWw3NjgxMQ==',\n",
       "   'url': 'https://api.github.com/repos/pandas-dev/pandas/labels/Bug',\n",
       "   'name': 'Bug',\n",
       "   'color': 'e10c02',\n",
       "   'default': False,\n",
       "   'description': None},\n",
       "  {'id': 1954720290,\n",
       "   'node_id': 'MDU6TGFiZWwxOTU0NzIwMjkw',\n",
       "   'url': 'https://api.github.com/repos/pandas-dev/pandas/labels/Needs%20Triage',\n",
       "   'name': 'Needs Triage',\n",
       "   'color': '0052cc',\n",
       "   'default': False,\n",
       "   'description': 'Issue that has not been reviewed by a pandas team member'}],\n",
       " 'state': 'open',\n",
       " 'locked': False,\n",
       " 'assignee': None,\n",
       " 'assignees': [],\n",
       " 'milestone': None,\n",
       " 'comments': 0,\n",
       " 'created_at': '2021-01-27T06:00:39Z',\n",
       " 'updated_at': '2021-01-27T06:00:39Z',\n",
       " 'closed_at': None,\n",
       " 'author_association': 'CONTRIBUTOR',\n",
       " 'active_lock_reason': None,\n",
       " 'body': \"- [ X] I have checked that this issue has not already been reported.\\r\\n\\r\\n- [ X] I have confirmed this bug exists on the latest version of pandas.\\r\\n\\r\\n- [ ] (optional) I have confirmed this bug exists on the master branch of pandas.\\r\\n\\r\\n---\\r\\n\\r\\n**Note**: Please read [this guide](https://matthewrocklin.com/blog/work/2018/02/28/minimal-bug-reports) detailing how to provide the necessary information for us to reproduce your bug.\\r\\n\\r\\n#### Code Sample, a copy-pastable example\\r\\n\\r\\n```python\\r\\nimport numpy as np\\r\\nimport pandas as pd\\r\\ndf1=pd.DataFrame({'test_time':[np.nan,np.nan]})\\r\\ndf1.info()\\r\\n```\\r\\nThis returns the data type as `float64`.  \\r\\n```python \\r\\nRangeIndex: 2 entries, 0 to 1\\r\\nData columns (total 1 columns):\\r\\n #   Column     Non-Null Count  Dtype\\r\\n---  ------     --------------  -----\\r\\n 0   test_time  0 non-null      float64\\r\\ndtypes: float64(1)\\r\\nmemory usage: 144.0 bytes\\r\\n```\\r\\nNow convert `df1` to `json` and convert it back to `DataFrame`. \\r\\n```python\\r\\ndf2=pd.read_json(df1.to_json(orient='table'),orient='table')\\r\\ndf2.info()\\r\\n```\\r\\nThis convert the data type from `float64` to `datetime64` as shown below.\\r\\n```python\\r\\n<class 'pandas.core.frame.DataFrame'>\\r\\nInt64Index: 2 entries, 0 to 1\\r\\nData columns (total 1 columns):\\r\\n #   Column     Non-Null Count  Dtype\\r\\n---  ------     --------------  -----\\r\\n 0   test_time  0 non-null      datetime64[ns]\\r\\ndtypes: datetime64[ns](1)\\r\\nmemory usage: 32.0 bytes\\r\\n```\\r\\n\\r\\nThe following works as expected if the column named is changed to avoid to end with  `_time` . \\r\\n\\r\\n```python\\r\\nDF1=pd.DataFrame({'test_t':[np.nan,np.nan]})\\r\\nDF1.info()\\r\\nDF2=pd.read_json(DF1.to_json(orient='table'),orient='table')\\r\\nDF2.info()\\r\\n```\\r\\n#### Problem description\\r\\nWhen the data is read from `json` , the column names ending with `_time` change the data type from `float64` to `datetime64`.  \\r\\n\\r\\n`DataFrame => to_json (orient='table') => read_json(orient='table') => DataFrame` \\r\\nshould return the same data type since `orient='table' ` encodes all the column data type in the `json` string. \\r\\n\\r\\n\\r\\n#### Expected Output\\r\\n\\r\\n#### Output of ``pd.show_versions()``\\r\\n\\r\\n<details>\\r\\n\\r\\nINSTALLED VERSIONS\\r\\n------------------\\r\\ncommit           : 9d598a5e1eee26df95b3910e3f2934890d062caa\\r\\npython           : 3.7.8.final.0\\r\\npython-bits      : 64\\r\\nOS               : Darwin\\r\\nOS-release       : 19.5.0\\r\\nVersion          : Darwin Kernel Version 19.5.0: Tue May 26 20:41:44 PDT 2020; root:xnu-6153.121.2~2/RELEASE_X86_64\\r\\nmachine          : x86_64\\r\\nprocessor        : i386\\r\\nbyteorder        : little\\r\\nLC_ALL           : None\\r\\nLANG             : en_US.UTF-8\\r\\nLOCALE           : en_US.UTF-8\\r\\n\\r\\npandas           : 1.2.1\\r\\nnumpy            : 1.19.4\\r\\npytz             : 2020.5\\r\\ndateutil         : 2.8.1\\r\\npip              : 20.3.3\\r\\nsetuptools       : 51.1.1\\r\\nCython           : 0.29.21\\r\\npytest           : 6.2.1\\r\\nhypothesis       : None\\r\\nsphinx           : 3.4.2\\r\\nblosc            : None\\r\\nfeather          : None\\r\\nxlsxwriter       : 1.3.7\\r\\nlxml.etree       : 4.6.2\\r\\nhtml5lib         : 1.1\\r\\npymysql          : None\\r\\npsycopg2         : 2.8.6 (dt dec pq3 ext lo64)\\r\\njinja2           : 2.11.2\\r\\nIPython          : 7.19.0\\r\\npandas_datareader: None\\r\\nbs4              : 4.9.3\\r\\nbottleneck       : 1.3.2\\r\\nfsspec           : 0.8.3\\r\\nfastparquet      : None\\r\\ngcsfs            : None\\r\\nmatplotlib       : 3.3.2\\r\\nnumexpr          : 2.7.2\\r\\nodfpy            : None\\r\\nopenpyxl         : 3.0.5\\r\\npandas_gbq       : None\\r\\npyarrow          : 1.0.1\\r\\npyxlsb           : None\\r\\ns3fs             : None\\r\\nscipy            : 1.5.2\\r\\nsqlalchemy       : 1.3.22\\r\\ntables           : 3.6.1\\r\\ntabulate         : 0.8.7\\r\\nxarray           : None\\r\\nxlrd             : 2.0.1\\r\\nxlwt             : 1.3.0\\r\\nnumba            : 0.50.1\\r\\n\\r\\n</details>\\r\\n\",\n",
       " 'performed_via_github_app': None}"
      ]
     },
     "execution_count": 104,
     "metadata": {},
     "output_type": "execute_result"
    }
   ],
   "source": [
    "## To access first data inside this LISt. (It is nothing but Indexing technique in List)\n",
    "data[0]"
   ]
  },
  {
   "cell_type": "code",
   "execution_count": 107,
   "metadata": {},
   "outputs": [
    {
     "data": {
      "text/plain": [
       "'https://api.github.com/repos/pandas-dev/pandas/issues/39430/comments'"
      ]
     },
     "execution_count": 107,
     "metadata": {},
     "output_type": "execute_result"
    }
   ],
   "source": [
    "## If I want to access a particular data inside the first records (ie. the above dataset o/p)\n",
    "## say I want to access 'comments_url' data from this record.\n",
    "\n",
    "\n",
    "\n",
    "data[0]['comments_url']"
   ]
  },
  {
   "cell_type": "code",
   "execution_count": 108,
   "metadata": {},
   "outputs": [
    {
     "data": {
      "text/plain": [
       "str"
      ]
     },
     "execution_count": 108,
     "metadata": {},
     "output_type": "execute_result"
    }
   ],
   "source": [
    "type(data[0]['comments_url'])"
   ]
  },
  {
   "cell_type": "code",
   "execution_count": 112,
   "metadata": {},
   "outputs": [
    {
     "data": {
      "text/plain": [
       "{'login': 'thoo',\n",
       " 'id': 6972290,\n",
       " 'node_id': 'MDQ6VXNlcjY5NzIyOTA=',\n",
       " 'avatar_url': 'https://avatars.githubusercontent.com/u/6972290?v=4',\n",
       " 'gravatar_id': '',\n",
       " 'url': 'https://api.github.com/users/thoo',\n",
       " 'html_url': 'https://github.com/thoo',\n",
       " 'followers_url': 'https://api.github.com/users/thoo/followers',\n",
       " 'following_url': 'https://api.github.com/users/thoo/following{/other_user}',\n",
       " 'gists_url': 'https://api.github.com/users/thoo/gists{/gist_id}',\n",
       " 'starred_url': 'https://api.github.com/users/thoo/starred{/owner}{/repo}',\n",
       " 'subscriptions_url': 'https://api.github.com/users/thoo/subscriptions',\n",
       " 'organizations_url': 'https://api.github.com/users/thoo/orgs',\n",
       " 'repos_url': 'https://api.github.com/users/thoo/repos',\n",
       " 'events_url': 'https://api.github.com/users/thoo/events{/privacy}',\n",
       " 'received_events_url': 'https://api.github.com/users/thoo/received_events',\n",
       " 'type': 'User',\n",
       " 'site_admin': False}"
      ]
     },
     "execution_count": 112,
     "metadata": {},
     "output_type": "execute_result"
    }
   ],
   "source": [
    "data[0]['user']"
   ]
  },
  {
   "cell_type": "code",
   "execution_count": 117,
   "metadata": {},
   "outputs": [
    {
     "data": {
      "text/html": [
       "<div>\n",
       "<style scoped>\n",
       "    .dataframe tbody tr th:only-of-type {\n",
       "        vertical-align: middle;\n",
       "    }\n",
       "\n",
       "    .dataframe tbody tr th {\n",
       "        vertical-align: top;\n",
       "    }\n",
       "\n",
       "    .dataframe thead th {\n",
       "        text-align: right;\n",
       "    }\n",
       "</style>\n",
       "<table border=\"1\" class=\"dataframe\">\n",
       "  <thead>\n",
       "    <tr style=\"text-align: right;\">\n",
       "      <th></th>\n",
       "      <th>number</th>\n",
       "      <th>title</th>\n",
       "      <th>label</th>\n",
       "      <th>state</th>\n",
       "    </tr>\n",
       "  </thead>\n",
       "  <tbody>\n",
       "    <tr>\n",
       "      <th>0</th>\n",
       "      <td>39430</td>\n",
       "      <td>BUG: read_json(orient='table') converts 'float...</td>\n",
       "      <td>NaN</td>\n",
       "      <td>open</td>\n",
       "    </tr>\n",
       "    <tr>\n",
       "      <th>1</th>\n",
       "      <td>39429</td>\n",
       "      <td>Backport PR #39406 on branch 1.2.x (DOC: link ...</td>\n",
       "      <td>NaN</td>\n",
       "      <td>open</td>\n",
       "    </tr>\n",
       "    <tr>\n",
       "      <th>2</th>\n",
       "      <td>39428</td>\n",
       "      <td>Backport PR #39376 on branch 1.2.x (REGR: writ...</td>\n",
       "      <td>NaN</td>\n",
       "      <td>open</td>\n",
       "    </tr>\n",
       "    <tr>\n",
       "      <th>3</th>\n",
       "      <td>39427</td>\n",
       "      <td>REF: reuse can_hold_element for NumericIndex._...</td>\n",
       "      <td>NaN</td>\n",
       "      <td>open</td>\n",
       "    </tr>\n",
       "    <tr>\n",
       "      <th>4</th>\n",
       "      <td>39426</td>\n",
       "      <td>BUG: sort_values create an unprintable object</td>\n",
       "      <td>NaN</td>\n",
       "      <td>open</td>\n",
       "    </tr>\n",
       "  </tbody>\n",
       "</table>\n",
       "</div>"
      ],
      "text/plain": [
       "   number                                              title  label state\n",
       "0   39430  BUG: read_json(orient='table') converts 'float...    NaN  open\n",
       "1   39429  Backport PR #39406 on branch 1.2.x (DOC: link ...    NaN  open\n",
       "2   39428  Backport PR #39376 on branch 1.2.x (REGR: writ...    NaN  open\n",
       "3   39427  REF: reuse can_hold_element for NumericIndex._...    NaN  open\n",
       "4   39426      BUG: sort_values create an unprintable object    NaN  open"
      ]
     },
     "execution_count": 117,
     "metadata": {},
     "output_type": "execute_result"
    }
   ],
   "source": [
    "## Converting few of the columns to DataFrame:\n",
    "\n",
    "issues=pd.DataFrame(data,columns=['number','title','label','state'])\n",
    "issues ## To print for all the data for these columns\n",
    "issues.head()  ## to print only top 5 records"
   ]
  },
  {
   "cell_type": "markdown",
   "metadata": {},
   "source": [
    "## Interacting with Databases :"
   ]
  },
  {
   "cell_type": "markdown",
   "metadata": {},
   "source": [
    "### SQLite :"
   ]
  },
  {
   "cell_type": "code",
   "execution_count": 118,
   "metadata": {},
   "outputs": [],
   "source": [
    "import sqlite3"
   ]
  },
  {
   "cell_type": "code",
   "execution_count": 123,
   "metadata": {},
   "outputs": [],
   "source": [
    "## Connecting with the database:\n",
    "## (If my_database1.db) is not present then it will create a new database with the same name:\n",
    "\n",
    "con=sqlite3.connect('mydata1.sqlite')\n",
    "## Drop table named \"test\" if already exists because I want new table with name \"test\":\n",
    "## We can use sql command using .execute():\n",
    "\n",
    "con.execute(\"drop table if exists test1\")\n",
    "\n",
    "## Now table \"test\" is drpped , I can write the query as:\n",
    "\n",
    "query=\"\"\"\n",
    "CREATE TABLE test1\n",
    "(a VARCHAR(20), b VARCHAR(20),\n",
    "c REAL, d INTEGER\n",
    ");\"\"\"\n",
    "\n",
    "## Creating sqlite file:\n",
    "## Max size of sqlite file 2GB\n",
    "## Inside this sqlite file I can put as many numbers of databases ie. .db file till its size.\n",
    "\n",
    "\n",
    "con.execute(query)\n",
    "con.commit()"
   ]
  },
  {
   "cell_type": "code",
   "execution_count": 125,
   "metadata": {},
   "outputs": [],
   "source": [
    "## Inserting data inside the table\n",
    "## As we can see there are 4 columns and accordingly we have to give values:\n",
    "\n",
    "## First we connect the connection \n",
    "con=sqlite3.connect('mydata1.sqlite')\n",
    "\n",
    "data=[('Devesh','Mishra',1.23,2),\n",
    "     ('Kshitij','Arora',2.22,3),\n",
    "     ('Indrasen','Yadav',3.33,4)]\n",
    "\n",
    "## This is the entire data(It is list of tuples) I want to insert in the table."
   ]
  },
  {
   "cell_type": "code",
   "execution_count": 127,
   "metadata": {},
   "outputs": [],
   "source": [
    "stmt= \"INSERT INTO test1 VALUES(?,?,?,?)\"\n",
    "\n",
    "## test1 is basically our table name, reason I'm placing '?' at these above 4 places is that it will act like placeholder.\n",
    "## for executing single statement we use .execute()\n",
    "## If I use executemany() it will use execute multiple data ie. untill the entire data List is not done.\n",
    "## It takes two parameters 1. Query and 2. data\n",
    "\n",
    "con.executemany(stmt,data)\n",
    "\n",
    "## In executemany, record by record it will be executing.\n",
    "## And finally I'm commiting the entire connection:\n",
    "\n",
    "con.commit()\n"
   ]
  },
  {
   "cell_type": "code",
   "execution_count": 129,
   "metadata": {},
   "outputs": [
    {
     "data": {
      "text/plain": [
       "[('Devesh', 'Mishra', 1.23, 2),\n",
       " ('Kshitij', 'Arora', 2.22, 3),\n",
       " ('Indrasen', 'Yadav', 3.33, 4)]"
      ]
     },
     "execution_count": 129,
     "metadata": {},
     "output_type": "execute_result"
    }
   ],
   "source": [
    "# Now Let's read the data from the table test1:\n",
    "\n",
    "cursor=con.execute('select * from test1') ## I'm putting the values from table test1 in the cursor.\n",
    "rows=cursor.fetchall() ## this cursor has a inbuilt function \"fetch all\" \n",
    "                      ## This fetch all give give u all the records in iterable form.\n",
    "rows"
   ]
  },
  {
   "cell_type": "code",
   "execution_count": 130,
   "metadata": {},
   "outputs": [
    {
     "data": {
      "text/plain": [
       "(('a', None, None, None, None, None, None),\n",
       " ('b', None, None, None, None, None, None),\n",
       " ('c', None, None, None, None, None, None),\n",
       " ('d', None, None, None, None, None, None))"
      ]
     },
     "execution_count": 130,
     "metadata": {},
     "output_type": "execute_result"
    }
   ],
   "source": [
    "cursor.description\n",
    "\n",
    "## It will give all column names and None is basically may be some metadata.\n",
    "\n",
    "## Don't worry about None .\n",
    "## Our main aim is that here first information is column."
   ]
  },
  {
   "cell_type": "code",
   "execution_count": 135,
   "metadata": {},
   "outputs": [
    {
     "name": "stdout",
     "output_type": "stream",
     "text": [
      "('a', None, None, None, None, None, None)\n",
      "('b', None, None, None, None, None, None)\n",
      "('c', None, None, None, None, None, None)\n",
      "('d', None, None, None, None, None, None)\n"
     ]
    }
   ],
   "source": [
    "## Cursor is giving list of tuples. We can iterate through it and get the values of columns by using for loop too.\n",
    "\n",
    "for i in cursor.description:\n",
    "    print(i)\n",
    "    "
   ]
  },
  {
   "cell_type": "code",
   "execution_count": 136,
   "metadata": {},
   "outputs": [
    {
     "name": "stdout",
     "output_type": "stream",
     "text": [
      "a\n",
      "b\n",
      "c\n",
      "d\n"
     ]
    }
   ],
   "source": [
    "##If u see now it is printing tuples in each line therefore in order to get column names just write i[0]\n",
    "\n",
    "for i in cursor.description:\n",
    "    print(i[0])\n",
    "\n",
    "## We got the colum names, Now if u want to convert it into list u can do it:\n",
    "## But the same thing I'm doing by List Comprehesion technique below in one line:"
   ]
  },
  {
   "cell_type": "code",
   "execution_count": 131,
   "metadata": {},
   "outputs": [
    {
     "data": {
      "text/plain": [
       "('a', None, None, None, None, None, None)"
      ]
     },
     "execution_count": 131,
     "metadata": {},
     "output_type": "execute_result"
    }
   ],
   "source": [
    "## To get the first column :\n",
    "cursor.description[0]"
   ]
  },
  {
   "cell_type": "code",
   "execution_count": 133,
   "metadata": {},
   "outputs": [
    {
     "data": {
      "text/plain": [
       "['a', 'b', 'c', 'd']"
      ]
     },
     "execution_count": 133,
     "metadata": {},
     "output_type": "execute_result"
    }
   ],
   "source": [
    "## Now if i want to pickup this columns only:\n",
    "## Because in every tuple I want the first data ie a,b,c,d only. \n",
    "## therefore we use List Comprehension concept as:\n",
    "\n",
    "col_names=[x[0] for x in cursor.description]\n",
    "col_names"
   ]
  },
  {
   "cell_type": "code",
   "execution_count": 134,
   "metadata": {},
   "outputs": [
    {
     "data": {
      "text/html": [
       "<div>\n",
       "<style scoped>\n",
       "    .dataframe tbody tr th:only-of-type {\n",
       "        vertical-align: middle;\n",
       "    }\n",
       "\n",
       "    .dataframe tbody tr th {\n",
       "        vertical-align: top;\n",
       "    }\n",
       "\n",
       "    .dataframe thead th {\n",
       "        text-align: right;\n",
       "    }\n",
       "</style>\n",
       "<table border=\"1\" class=\"dataframe\">\n",
       "  <thead>\n",
       "    <tr style=\"text-align: right;\">\n",
       "      <th></th>\n",
       "      <th>a</th>\n",
       "      <th>b</th>\n",
       "      <th>c</th>\n",
       "      <th>d</th>\n",
       "    </tr>\n",
       "  </thead>\n",
       "  <tbody>\n",
       "    <tr>\n",
       "      <th>0</th>\n",
       "      <td>Devesh</td>\n",
       "      <td>Mishra</td>\n",
       "      <td>1.23</td>\n",
       "      <td>2</td>\n",
       "    </tr>\n",
       "    <tr>\n",
       "      <th>1</th>\n",
       "      <td>Kshitij</td>\n",
       "      <td>Arora</td>\n",
       "      <td>2.22</td>\n",
       "      <td>3</td>\n",
       "    </tr>\n",
       "    <tr>\n",
       "      <th>2</th>\n",
       "      <td>Indrasen</td>\n",
       "      <td>Yadav</td>\n",
       "      <td>3.33</td>\n",
       "      <td>4</td>\n",
       "    </tr>\n",
       "  </tbody>\n",
       "</table>\n",
       "</div>"
      ],
      "text/plain": [
       "          a       b     c  d\n",
       "0    Devesh  Mishra  1.23  2\n",
       "1   Kshitij   Arora  2.22  3\n",
       "2  Indrasen   Yadav  3.33  4"
      ]
     },
     "execution_count": 134,
     "metadata": {},
     "output_type": "execute_result"
    }
   ],
   "source": [
    "## So I got the column names and now I can take all the rows values and convert it into DataFrame:\n",
    "\n",
    "pd.DataFrame(rows,columns=col_names)"
   ]
  },
  {
   "cell_type": "markdown",
   "metadata": {},
   "source": [
    "#### For accessing this SQLite use \"DB Browser for SQLite\" application."
   ]
  },
  {
   "cell_type": "code",
   "execution_count": null,
   "metadata": {},
   "outputs": [],
   "source": []
  }
 ],
 "metadata": {
  "kernelspec": {
   "display_name": "Python 3",
   "language": "python",
   "name": "python3"
  },
  "language_info": {
   "codemirror_mode": {
    "name": "ipython",
    "version": 3
   },
   "file_extension": ".py",
   "mimetype": "text/x-python",
   "name": "python",
   "nbconvert_exporter": "python",
   "pygments_lexer": "ipython3",
   "version": "3.8.5"
  }
 },
 "nbformat": 4,
 "nbformat_minor": 4
}
