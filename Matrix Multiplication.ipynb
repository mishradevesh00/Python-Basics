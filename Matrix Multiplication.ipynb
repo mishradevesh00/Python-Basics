{
 "cells": [
  {
   "cell_type": "markdown",
   "metadata": {},
   "source": [
    "## 1. Conventional way of matrix multiplication\n"
   ]
  },
  {
   "cell_type": "code",
   "execution_count": 2,
   "metadata": {},
   "outputs": [
    {
     "name": "stdout",
     "output_type": "stream",
     "text": [
      "enter the row number for matrix1:2\n",
      "enter the column number for matrix2:2\n",
      "enter the column number for matrix1/row number for matrix2:2\n",
      "Enter the elements for matrix1: \n",
      "1\n",
      "2\n",
      "3\n",
      "4\n",
      "matrix1:\n",
      "1    2    \n",
      "3    4    \n",
      "Enter the elements for matrix2: \n",
      "4\n",
      "3\n",
      "2\n",
      "1\n",
      "matrix2:\n",
      "4    3    \n",
      "2    1    \n",
      "Resultant matrix: \n",
      "8    5    \n",
      "20   13   \n",
      "Runtime of the program is 35.97707200050354\n"
     ]
    }
   ],
   "source": [
    "import time\n",
    "start = time.time()\n",
    "#no. of rows in matrix1 is p.\n",
    "#no. of rows in matrix 2 or number of column in matrix1 should be equal, lets us take n.\n",
    "# no. of columns in matrix 2 is q.\n",
    "p=int(input(\"enter the row number for matrix1:\"))\n",
    "q=int(input(\"enter the column number for matrix2:\"))\n",
    "n=int(input(\"enter the column number for matrix1/row number for matrix2:\"))\n",
    "\n",
    "##matrix1 is shape of p*n\n",
    "print(\"Enter the elements for matrix1: \")\n",
    "matrix1=[[int(input()) for i in range(n)]for j in range(p)] ##  rows in matrix1= p,  col.in matrix1=n.\n",
    "print(\"matrix1:\")\n",
    "for i in range(p):\n",
    "    for j in range(n):\n",
    "        print(format(matrix1[i][j],\"<5\"),end=\"\")\n",
    "    print()\n",
    "\n",
    "#Matrix2 of shape n*q\n",
    "print(\"Enter the elements for matrix2: \")\n",
    "matrix2=[[int(input()) for i in range(q)]for j in range(n)] ##  rows in matrix1= n,  col.in matrix1=q.\n",
    "print(\"matrix2:\")\n",
    "for i in range(n):\n",
    "    for j in range(q):\n",
    "        print(format(matrix2[i][j],\"<5\"),end=\"\")\n",
    "    print()\n",
    "\n",
    "    \n",
    "## Input taken is done for both the matrices\n",
    "## now lets define the result matrix: And we know that result matrix will be of shape p*q\n",
    "result=[[0 for i in range(q)]for j in range(p)]\n",
    "\n",
    "#code for matrix multiplication:\n",
    "\n",
    "for i in range(p):\n",
    "    for j in range(q):\n",
    "        for k in range(n):\n",
    "            result[i][j]=result[i][j]+matrix1[i][k]*matrix2[k][j]\n",
    "\n",
    "print(\"Resultant matrix: \")\n",
    "for i in range(p):\n",
    "    for j in range(q):\n",
    "        print(format(result[i][j],\"<5\"),end=\"\")\n",
    "    print()\n",
    "    \n",
    "end = time.time()\n",
    "print(\"Runtime of the program is\",(end - start))     \n",
    "\n",
    "        "
   ]
  },
  {
   "cell_type": "code",
   "execution_count": null,
   "metadata": {},
   "outputs": [],
   "source": []
  }
 ],
 "metadata": {
  "kernelspec": {
   "display_name": "Python 3",
   "language": "python",
   "name": "python3"
  },
  "language_info": {
   "codemirror_mode": {
    "name": "ipython",
    "version": 3
   },
   "file_extension": ".py",
   "mimetype": "text/x-python",
   "name": "python",
   "nbconvert_exporter": "python",
   "pygments_lexer": "ipython3",
   "version": "3.8.5"
  }
 },
 "nbformat": 4,
 "nbformat_minor": 4
}
