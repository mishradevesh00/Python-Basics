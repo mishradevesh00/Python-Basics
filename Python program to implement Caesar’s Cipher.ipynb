{
 "cells": [
  {
   "cell_type": "code",
   "execution_count": 1,
   "metadata": {},
   "outputs": [
    {
     "name": "stdout",
     "output_type": "stream",
     "text": [
      "Please enter your plaintext: abcd\n",
      "Please enter your key: 1234\n",
      "The ciphertext is: mnop\n"
     ]
    }
   ],
   "source": [
    "### Encryption:\n",
    "\n",
    "plaintext = input(\"Please enter your plaintext: \")\n",
    "shift = input(\"Please enter your key: \")\n",
    "alphabet = \"abcdefghijklmnopqrstuvwxyz\"\n",
    "ciphertext = \"\"\n",
    "\n",
    "# shift value can only be an integer\n",
    "while isinstance(int(shift), int) == False:\n",
    "  # asking the user to reenter the shift value\n",
    "  shift = input(\"Please enter your key (integers only!): \")\n",
    "\n",
    "shift = int(shift)\n",
    "  \n",
    "new_ind = 0 # this value will be changed later\n",
    "for i in plaintext:\n",
    "    if i.lower() in alphabet:\n",
    "        new_ind = alphabet.index(i) + shift\n",
    "        ciphertext += alphabet[new_ind % 26]\n",
    "    else:\n",
    "        ciphertext += i    \n",
    "print(\"The ciphertext is: \" + ciphertext)"
   ]
  },
  {
   "cell_type": "code",
   "execution_count": 2,
   "metadata": {},
   "outputs": [
    {
     "name": "stdout",
     "output_type": "stream",
     "text": [
      "Plain Text : CEASER CIPHER DEMO\n",
      "Shift pattern : 4\n",
      "Cipher: GIEWIVrGMTLIVrHIQS\n"
     ]
    }
   ],
   "source": [
    "def encrypt(text,s):\n",
    "    result = \"\"\n",
    "   # transverse the plain text\n",
    "    for i in range(len(text)):\n",
    "        char = text[i]\n",
    "      # Encrypt uppercase characters in plain text\n",
    "      \n",
    "        if (char.isupper()):\n",
    "            result += chr((ord(char) + s-65) % 26 + 65)\n",
    "        else:\n",
    "            result += chr((ord(char) + s - 97) % 26 + 97)# Encrypt lowercase characters in plain text\n",
    "    return result\n",
    "#check the above function\n",
    "text = \"CEASER CIPHER DEMO\"\n",
    "s = 4\n",
    "\n",
    "print(\"Plain Text : \" + text)\n",
    "print(\"Shift pattern : \" + str(s))\n",
    "print(\"Cipher: \" + encrypt(text,s))"
   ]
  },
  {
   "cell_type": "code",
   "execution_count": null,
   "metadata": {},
   "outputs": [],
   "source": []
  }
 ],
 "metadata": {
  "kernelspec": {
   "display_name": "Python 3",
   "language": "python",
   "name": "python3"
  },
  "language_info": {
   "codemirror_mode": {
    "name": "ipython",
    "version": 3
   },
   "file_extension": ".py",
   "mimetype": "text/x-python",
   "name": "python",
   "nbconvert_exporter": "python",
   "pygments_lexer": "ipython3",
   "version": "3.8.5"
  }
 },
 "nbformat": 4,
 "nbformat_minor": 4
}
