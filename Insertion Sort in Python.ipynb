{
 "cells": [
  {
   "cell_type": "code",
   "execution_count": 2,
   "metadata": {},
   "outputs": [
    {
     "name": "stdout",
     "output_type": "stream",
     "text": [
      "How many elements are in list : 4\n",
      "1\n",
      "5\n",
      "2\n",
      "3\n",
      "Input by user:  [1, 5, 2, 3]\n",
      "Elements before sorting: [1, 5, 2, 3]\n",
      "Elements after sorting: [1, 2, 3, 5]\n",
      "Runtime of the program is 5.689367771148682\n"
     ]
    }
   ],
   "source": [
    "import time\n",
    "start = time.time()\n",
    "#Code for sorting the elements\n",
    "def insertionSort(arr):\n",
    "    \n",
    "    for i in range(1, len(arr)):\n",
    "        tmp = arr[i]\n",
    "        j = i - 1\n",
    "        while j >= 0 and tmp < arr[j]:\n",
    "            arr[j + 1] = arr[j]\n",
    "            j = j - 1\n",
    "        arr[j + 1] = tmp\n",
    "#Main code or Driver Code\n",
    "arr=[int(input()) for i in range(int(input(\"How many elements are in list : \")))] \n",
    "print(\"Input by user: \",arr)\n",
    "print('Elements before sorting:',arr)\n",
    "insertionSort(arr)\n",
    "print('Elements after sorting:',arr)\n",
    "end = time.time()\n",
    "print(\"Runtime of the program is\",(end - start))\n"
   ]
  },
  {
   "cell_type": "code",
   "execution_count": null,
   "metadata": {},
   "outputs": [],
   "source": []
  }
 ],
 "metadata": {
  "kernelspec": {
   "display_name": "Python 3",
   "language": "python",
   "name": "python3"
  },
  "language_info": {
   "codemirror_mode": {
    "name": "ipython",
    "version": 3
   },
   "file_extension": ".py",
   "mimetype": "text/x-python",
   "name": "python",
   "nbconvert_exporter": "python",
   "pygments_lexer": "ipython3",
   "version": "3.8.5"
  }
 },
 "nbformat": 4,
 "nbformat_minor": 4
}
